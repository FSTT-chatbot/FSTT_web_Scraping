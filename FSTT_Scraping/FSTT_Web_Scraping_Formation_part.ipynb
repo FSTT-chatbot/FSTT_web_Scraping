{
 "cells": [
  {
   "cell_type": "markdown",
   "source": [
    "<h1 style=\"text-align:center; font-size:200%;\">FSTT Web Scraping</h1>"
   ],
   "metadata": {
    "collapsed": false
   },
   "id": "161f5f4752596a36"
  },
  {
   "cell_type": "markdown",
   "source": [
    "\n",
    "\n",
    "\n",
    "<h1 style=\"text-align:center; font-size:200%;\">1.Formation FSTT</h1>\n",
    "\n"
   ],
   "metadata": {
    "collapsed": false
   },
   "id": "74b5486a9174e5bc"
  },
  {
   "cell_type": "code",
   "execution_count": 93,
   "outputs": [],
   "source": [
    "import requests\n",
    "from bs4 import BeautifulSoup\n",
    "from requests.exceptions import RequestException, ConnectionError, Timeout\n",
    "import time\n",
    "import json"
   ],
   "metadata": {
    "collapsed": false,
    "ExecuteTime": {
     "end_time": "2024-05-25T00:10:46.936505Z",
     "start_time": "2024-05-25T00:10:46.745246Z"
    }
   },
   "id": "b058c2db5c9876ce"
  },
  {
   "cell_type": "code",
   "execution_count": 18,
   "outputs": [],
   "source": [
    "def title():\n",
    "    url = \"https://fstt.ac.ma/Portail2023/formation-initiale/\"\n",
    "    retries = 3\n",
    "    headers = {\n",
    "        'User-Agent': 'Mozilla/5.0 (Windows NT 10.0; Win64; x64) AppleWebKit/537.36 (KHTML, like Gecko) Chrome/91.0.4472.124 Safari/537.36'\n",
    "    }\n",
    "    for attempt in range(retries):\n",
    "        try:\n",
    "            response = requests.get(url, headers=headers, timeout=10)\n",
    "            response.raise_for_status()  # Raise an HTTPError for bad responses (4xx and 5xx)\n",
    "            soup = BeautifulSoup(response.content, 'html.parser')\n",
    "            title_tag = soup.find('h2', class_='elementor-heading-title elementor-size-default')\n",
    "            if title_tag:\n",
    "                title = title_tag.text.strip()\n",
    "                print(title)\n",
    "                return title\n",
    "            else:\n",
    "                print(\"Title not found\")\n",
    "                return None\n",
    "        except (ConnectionError, Timeout) as e:\n",
    "            print(f\"Attempt {attempt + 1}: An error occurred: {e}. Retrying...\")\n",
    "            time.sleep(5)  # Wait for 5 seconds before retrying\n",
    "        except RequestException as e:\n",
    "            print(f\"Attempt {attempt + 1}: An HTTP error occurred: {e}. Retrying...\")\n",
    "            time.sleep(5)\n",
    "    print(\"Failed to retrieve the page after multiple attempts.\")\n",
    "    return None"
   ],
   "metadata": {
    "collapsed": false,
    "ExecuteTime": {
     "end_time": "2024-05-23T22:01:43.719538Z",
     "start_time": "2024-05-23T22:01:43.697838Z"
    }
   },
   "id": "be2d0eb25b75b9ce"
  },
  {
   "cell_type": "code",
   "execution_count": 19,
   "outputs": [
    {
     "name": "stdout",
     "output_type": "stream",
     "text": [
      "FORMATION INITIALE\n"
     ]
    },
    {
     "data": {
      "text/plain": "'FORMATION INITIALE'"
     },
     "execution_count": 19,
     "metadata": {},
     "output_type": "execute_result"
    }
   ],
   "source": [
    "title()"
   ],
   "metadata": {
    "collapsed": false,
    "ExecuteTime": {
     "end_time": "2024-05-23T22:01:46.291755Z",
     "start_time": "2024-05-23T22:01:45.342847Z"
    }
   },
   "id": "a94caa08dac65393"
  },
  {
   "cell_type": "code",
   "execution_count": 113,
   "outputs": [],
   "source": [
    "# Helper function to fetch and parse a page\n",
    "def fetch_page(url, retries=3, timeout=10):\n",
    "    headers = {\n",
    "        'User-Agent': 'Mozilla/5.0 (Windows NT 10.0; Win64; x64) AppleWebKit/537.36 (KHTML, like Gecko) Chrome/91.0.4472.124 Safari/537.36'\n",
    "    }\n",
    "    for attempt in range(retries):\n",
    "        try:\n",
    "            response = requests.get(url, headers=headers, timeout=timeout)\n",
    "            response.raise_for_status()\n",
    "            return BeautifulSoup(response.content, 'html.parser')\n",
    "        except (ConnectionError, Timeout) as e:\n",
    "            print(f\"Attempt {attempt + 1}: An error occurred: {e}. Retrying...\")\n",
    "            time.sleep(5)\n",
    "        except RequestException as e:\n",
    "            print(f\"Attempt {attempt + 1}: An HTTP error occurred: {e}. Retrying...\")\n",
    "            time.sleep(5)\n",
    "    print(\"Failed to retrieve the page after multiple attempts.\")\n",
    "    return None"
   ],
   "metadata": {
    "collapsed": false,
    "ExecuteTime": {
     "end_time": "2024-05-25T10:19:03.347753Z",
     "start_time": "2024-05-25T10:19:03.289244Z"
    }
   },
   "id": "622b0cddf21599c0"
  },
  {
   "cell_type": "code",
   "execution_count": 26,
   "outputs": [],
   "source": [
    "def get_deust_formations():\n",
    "    url = \"https://fstt.ac.ma/Portail2023/deust/\"\n",
    "    soup = fetch_page(url)\n",
    "    if not soup:\n",
    "        return []\n",
    "    deust_formations = soup.find_all(\"h4\", {'class': 'elementor-heading-title elementor-size-default'})\n",
    "    return [formation.text.strip() for formation in deust_formations]\n"
   ],
   "metadata": {
    "collapsed": false,
    "ExecuteTime": {
     "end_time": "2024-05-23T22:05:00.278951Z",
     "start_time": "2024-05-23T22:05:00.244132Z"
    }
   },
   "id": "911428fe3b65878f"
  },
  {
   "cell_type": "code",
   "execution_count": 27,
   "outputs": [],
   "source": [
    "def get_licence_formations():\n",
    "    url = \"https://fstt.ac.ma/Portail2023/cycle-licence/\"\n",
    "    soup = fetch_page(url)\n",
    "    if not soup:\n",
    "        return []\n",
    "    licence_formations = soup.find_all(\"h4\", {'class': 'elementor-heading-title elementor-size-default'})\n",
    "    return [formation.text.strip() for formation in licence_formations]\n"
   ],
   "metadata": {
    "collapsed": false,
    "ExecuteTime": {
     "end_time": "2024-05-23T22:05:05.737390Z",
     "start_time": "2024-05-23T22:05:05.692320Z"
    }
   },
   "id": "ec10361904966923"
  },
  {
   "cell_type": "code",
   "execution_count": 28,
   "outputs": [],
   "source": [
    "def get_master_formations():\n",
    "    url = \"https://fstt.ac.ma/Portail2023/cycle-master/\"\n",
    "    soup = fetch_page(url)\n",
    "    if not soup:\n",
    "        return []\n",
    "    master_formations = soup.find_all(\"span\", {'class': 'elementor-icon-list-text'})\n",
    "    filtered_formations = [formation.text.strip()[len(\"MST : \"):] for formation in master_formations if formation.text.strip().startswith(\"MST : \")]\n",
    "    return filtered_formations"
   ],
   "metadata": {
    "collapsed": false,
    "ExecuteTime": {
     "end_time": "2024-05-23T22:05:15.706639Z",
     "start_time": "2024-05-23T22:05:15.677579Z"
    }
   },
   "id": "dd014f9eb380f320"
  },
  {
   "cell_type": "code",
   "execution_count": 29,
   "outputs": [],
   "source": [
    "def get_cycle_formations():\n",
    "    url = \"https://fstt.ac.ma/Portail2023/cycle-ingenieur/\"\n",
    "    soup = fetch_page(url)\n",
    "    if not soup:\n",
    "        return []\n",
    "    cycle_formations = soup.find_all(\"span\", {'class': 'elementor-icon-list-text'})\n",
    "    filtered_formations = [formation.text.strip() for formation in cycle_formations if formation.text.strip().startswith(\"DI: \") or \"Logiciels et Systèmes Intelligents\" in formation.text.strip()]\n",
    "    return filtered_formations"
   ],
   "metadata": {
    "collapsed": false,
    "ExecuteTime": {
     "end_time": "2024-05-23T22:05:23.924543Z",
     "start_time": "2024-05-23T22:05:23.886315Z"
    }
   },
   "id": "96d24e606174631c"
  },
  {
   "cell_type": "code",
   "execution_count": 32,
   "outputs": [],
   "source": [
    "# Obtenir les formations de chaque type\n",
    "deust_formations = get_deust_formations()\n",
    "licence_formations = get_licence_formations()\n",
    "master_formations = get_master_formations()\n",
    "cycle_formations = get_cycle_formations()"
   ],
   "metadata": {
    "collapsed": false,
    "ExecuteTime": {
     "end_time": "2024-05-23T22:10:36.198580Z",
     "start_time": "2024-05-23T22:10:33.077682Z"
    }
   },
   "id": "450a5d3b32070cd4"
  },
  {
   "cell_type": "code",
   "execution_count": 35,
   "outputs": [
    {
     "name": "stdout",
     "output_type": "stream",
     "text": [
      "Formations DEUST:\n",
      "\n",
      "BIOLOGIE-CHIMIE-GEOLOGIE\n",
      "GÉNIE ELECTRIQUE – GÉNIE MÉCANIQUE\n",
      "MATHÉMATIQUES-INFORMATIQUE-PHYSIQUE\n",
      "MATHÉMATIQUES-INFORMATIQUE-PHYSIQUE-CHIMIE\n",
      "\n",
      "Formations Licence:\n",
      "\n",
      "Analytique des données\n",
      "Biotechnologies (Options : animale et végétale)\n",
      "Design Industriel et Productique (DIP)\n",
      "Énergies Renouvelables (EnR)\n",
      "Génie civil\n",
      "Génie des Procédés\n",
      "Génie Électrique Option: Génie\n",
      "Électrique & Système Industriel\n",
      "Génie Industriel\n",
      "Génie Informatique\n",
      "Géosciences Appliquées\n",
      "Ingénierie de Développement d’Applications\n",
      "Informatiques\n",
      "Ingénierie Statistique\n",
      "Mathématiques et Applications\n",
      "Mathématiques et Informatique Décisionnelles\n",
      "Risques et Ressources Naturels\n",
      "Statistique et Science des Données\n",
      "Techniques d'Analyses Chimiques (TAC)\n",
      "\n",
      "Formations Master:\n",
      "\n",
      "Analyse Appliquée et Ingénierie Statistique\n",
      "Bases Cellulaires et Moléculaires en Biotechnologie\n",
      "Environnement, Aquaculture et Développement Durable\n",
      "Géoressources Energétiques et Réservoirs\n",
      "Génie Civil\n",
      "Génie des Matériaux pour Plasturgie et Métallurgie\n",
      "Génie Energétique\n",
      "Ingénierie Environnementale, Changement Climatique et Développement Durable\n",
      "Intelligence Artificielle et Sciences de Données\n",
      "Mobiquité et Big Data\n",
      "Modélisation Mathématique et Science de Données\n",
      " Sciences Agroalimentaires\n",
      "Sciences de l'Environnement\n",
      "Sciences du Littoral: Approche Pluridisciplinaire\n",
      "Sécurité IT et Big Data\n",
      "Systèmes Informatiques  et Mobiles\n",
      "\n",
      "Formations Cycle:\n",
      "\n",
      "DI: Génie Electrique et Management Industriel\n",
      "DI: Génie Industriel\n",
      "DI: Géoinformation\n",
      "Logiciels et Systèmes Intelligents\n"
     ]
    }
   ],
   "source": [
    " # Afficher les résultats\n",
    "print(\"Formations DEUST:\\n\")\n",
    "for formation in deust_formations:\n",
    "    print(formation)\n",
    "\n",
    "print(\"\\nFormations Licence:\\n\")\n",
    "for formation in licence_formations:\n",
    "    print(formation)\n",
    "\n",
    "print(\"\\nFormations Master:\\n\")\n",
    "for formation in master_formations:\n",
    "    print(formation)\n",
    "\n",
    "print(\"\\nFormations Cycle:\\n\")\n",
    "for formation in cycle_formations:\n",
    "    print(formation)\n"
   ],
   "metadata": {
    "collapsed": false,
    "ExecuteTime": {
     "end_time": "2024-05-23T22:12:51.824152Z",
     "start_time": "2024-05-23T22:12:51.784720Z"
    }
   },
   "id": "55b15ea1a89d005a"
  },
  {
   "cell_type": "code",
   "execution_count": 34,
   "outputs": [
    {
     "name": "stdout",
     "output_type": "stream",
     "text": [
      "FORMATION INITIALE\n"
     ]
    }
   ],
   "source": [
    "if __name__ == \"__main__\":\n",
    "    # Get the data\n",
    "    initial_title = title()\n",
    "    deust_formations = get_deust_formations()\n",
    "    licence_formations = get_licence_formations()\n",
    "    master_formations = get_master_formations()\n",
    "    cycle_formations = get_cycle_formations()\n",
    "\n",
    "    # Write data to FSTT_DATA.txt\n",
    "    with open(\"FSTT_DATA.txt\", \"w\", encoding=\"utf-8\") as file:\n",
    "        if initial_title:\n",
    "            file.write(f\"Title:\\n{initial_title}\\n\\n\")\n",
    "\n",
    "        file.write(\"Formations DEUST:\\n\")\n",
    "        for formation in deust_formations:\n",
    "            file.write(f\"- {formation}\\n\")\n",
    "        file.write(\"\\n\")\n",
    "\n",
    "        file.write(\"Formations Licence:\\n\")\n",
    "        for formation in licence_formations:\n",
    "            file.write(f\"- {formation}\\n\")\n",
    "        file.write(\"\\n\")\n",
    "\n",
    "        file.write(\"Formations Master:\\n\")\n",
    "        for formation in master_formations:\n",
    "            file.write(f\"- {formation}\\n\")\n",
    "        file.write(\"\\n\")\n",
    "\n",
    "        file.write(\"Formations Cycle Ingénieur:\\n\")\n",
    "        for formation in cycle_formations:\n",
    "            file.write(f\"- {formation}\\n\")\n",
    "        file.write(\"\\n\")"
   ],
   "metadata": {
    "collapsed": false,
    "ExecuteTime": {
     "end_time": "2024-05-23T22:12:37.789038Z",
     "start_time": "2024-05-23T22:12:35.630894Z"
    }
   },
   "id": "fbb1e381b6731a7d"
  },
  {
   "cell_type": "markdown",
   "source": [
    "\n",
    "\n",
    "\n",
    "<h1 style=\"text-align:center; font-size:200%;\">Save FORMATION INITIALE as json file</h1>\n",
    "\n"
   ],
   "metadata": {
    "collapsed": false
   },
   "id": "85ba61a4bac46bc"
  },
  {
   "cell_type": "code",
   "execution_count": 118,
   "outputs": [],
   "source": [
    "initial_title = title()\n",
    "deust_formations = get_deust_formations()\n",
    "licence_formations = get_licence_formations()\n",
    "master_formations = get_master_formations()\n",
    "cycle_formations = get_cycle_formations()\n",
    "\n",
    "# Create a dictionary to hold the data\n",
    "data = {\n",
    "    \"Title\": initial_title,\n",
    "    \"Formations\": {\n",
    "        \"Formations DEUST\": deust_formations,\n",
    "        \"Formations Licence\": licence_formations,\n",
    "        \"Formations Master\": master_formations,\n",
    "        \"Formations Cycle Ingénieur\": cycle_formations\n",
    "    }\n",
    "}\n",
    "\n",
    "# Write data to FSTT_DATA.json\n",
    "with open(\"Formation_initial.json\", \"w\", encoding=\"utf-8\") as file:\n",
    "    json.dump(data, file, ensure_ascii=False, indent=4)"
   ],
   "metadata": {
    "collapsed": false,
    "ExecuteTime": {
     "end_time": "2024-05-25T10:27:53.376469Z",
     "start_time": "2024-05-25T10:27:48.608378Z"
    }
   },
   "id": "ab1d4d7cd3c083b5"
  },
  {
   "cell_type": "markdown",
   "source": [
    "\n",
    "\n",
    "\n",
    "<h1 style=\"text-align:center; font-size:200%;\">2.Formation DEUST</h1>\n",
    "\n"
   ],
   "metadata": {
    "collapsed": false
   },
   "id": "7dca6ab4d6defb4b"
  },
  {
   "cell_type": "code",
   "execution_count": 49,
   "outputs": [],
   "source": [
    "def DEUST(nom_formation, file=None):\n",
    "    # Construct the URL based on the provided formation name\n",
    "    url = f\"https://fstt.ac.ma/Portail2023/{nom_formation}/\"\n",
    "    \n",
    "    # Fetch and parse the page\n",
    "    soup = fetch_page(url)\n",
    "    if not soup:\n",
    "        print(f\"Failed to retrieve the page for {nom_formation}.\")\n",
    "        return\n",
    "\n",
    "    # Prepare the output string\n",
    "    output = f\"\\nInformation for {nom_formation}:\\n\"\n",
    "    \n",
    "    # Find the active div containing course information\n",
    "    active_div = soup.find('div', class_='eael-tabs-content')\n",
    "    \n",
    "    # Print course information if found\n",
    "    if active_div:\n",
    "        paragraphs = active_div.find_all('p', align='justify')\n",
    "        if paragraphs:\n",
    "            for paragraph in paragraphs:\n",
    "                output += paragraph.text.strip() + '\\n'\n",
    "    else:\n",
    "        output += \"No course information found.\\n\"\n",
    "    \n",
    "    # Find the table with id 'Mpro'\n",
    "    table = soup.find('table', id='Mpro')\n",
    "    \n",
    "    # Print semester-wise course details if found\n",
    "    if table:\n",
    "        semesters = table.find_all('tr')\n",
    "        for semester in semesters:\n",
    "            semester_name = semester.find('th').text.strip()\n",
    "            courses = semester.find('td').text.strip()\n",
    "            courses = courses.replace('• ', '\\n- ')\n",
    "            output += f\"\\n{semester_name}:\\n\"\n",
    "            output += courses + '\\n'\n",
    "    else:\n",
    "        output += \"No semester-wise course details found.\\n\"\n",
    "    \n",
    "    # Find the coordinator information\n",
    "    coordinator_div = soup.find('div', id='coordinateur-tab')\n",
    "    \n",
    "    # Print coordinator information if found\n",
    "    if coordinator_div:\n",
    "        coordinator_info = coordinator_div.text.strip()\n",
    "        coordinator_name, contact_info = coordinator_info.split(':', 1)\n",
    "        result = f\"{coordinator_name.strip()} :{contact_info.strip()}\"\n",
    "        output += f\"\\n{result}\\n\"\n",
    "    else:\n",
    "        output += \"Coordinator information not found.\\n\"\n",
    "    \n",
    "    # If file is provided, write to it; otherwise, print to console\n",
    "    if file:\n",
    "        file.write(output)\n",
    "    else:\n",
    "        print(output)\n"
   ],
   "metadata": {
    "collapsed": false,
    "ExecuteTime": {
     "end_time": "2024-05-23T22:25:31.868780Z",
     "start_time": "2024-05-23T22:25:31.850363Z"
    }
   },
   "id": "6bfa11c8521ca545"
  },
  {
   "cell_type": "code",
   "execution_count": 50,
   "outputs": [
    {
     "name": "stdout",
     "output_type": "stream",
     "text": [
      "\n",
      "Information for biologie-chimie-geologie:\n",
      "Le tronc commun BCG est un cursus qui comporte un ensemble de modules pris dans plusieurs champs disciplinaires et ayant pour objectif de faire acquérir des connaissances, des aptitudes et des compétences. Donner à l’étudiant les outils méthodologique pour qu’il puisse organiser son travail et développer un esprit de synthèse, de rigueur et d’initiative.\n",
      "L’objectif de cette formation et de donner à l’étudiant les possibilités d'orienter sa carrière vers les licences de chimie, de biologie et de géologie.\n",
      "Également, ce tronc commun permet à l’étudiant de postuler à des concours d’accès aux cycles ingénieurs de notre établissement ainsi qu’au concours nationaux ou internationaux des écoles d’ingénieurs.\n",
      "\n",
      "Semestre 1:\n",
      "\n",
      "- Biologie cellulaire\n",
      "- Optique et Radioactivité\n",
      "- Cosmologie & Géodynamique interne\n",
      "- Structure de la matière\n",
      "- Algèbre\n",
      "- Langues et Communication -LC1\n",
      "\n",
      "Semestre 2:\n",
      "\n",
      "- Biologie animale\n",
      "- Thermodynamique/ Mécanique des fluides\n",
      "- Géodynamique externe\n",
      "- Réactivité chimique\n",
      "- Analyse\n",
      "- Langues et Communication –LC2\n",
      "\n",
      "Semestre 3:\n",
      "\n",
      "- Biologie végétale\n",
      "- Électricité\n",
      "- Stratigraphie & Paléo-environnement\n",
      "- Chimie Organique 1\n",
      "- Chimie Minérale 1\n",
      "- Probabilités/Statistiques\n",
      "\n",
      "Semestre 4:\n",
      "\n",
      "- Biochimie structurale\n",
      "- Microbiologie\n",
      "- Chimie organique 2/ chimie minérale 2\n",
      "- Biochimie métabolique\n",
      "- Base de données\n",
      "- Langues et Communication –LC3\n",
      "\n",
      "Coordinnateur pédagogique :Pr.Chouaibi Nour Eddine\n",
      "\n",
      " :  n.chouaibi@uae.ac.ma\n"
     ]
    }
   ],
   "source": [
    "DEUST('biologie-chimie-geologie')"
   ],
   "metadata": {
    "collapsed": false,
    "ExecuteTime": {
     "end_time": "2024-05-23T22:25:33.713439Z",
     "start_time": "2024-05-23T22:25:32.781578Z"
    }
   },
   "id": "53153a509e1a8a96"
  },
  {
   "cell_type": "code",
   "execution_count": 51,
   "outputs": [
    {
     "name": "stdout",
     "output_type": "stream",
     "text": [
      "\n",
      "Information for genie-electrique-genie-mecanique:\n",
      "L’objectif du tronc commun GE/GM est de donner à l’étudiant une base solide en matières scientifiques (physique, chimie et mathématiques etc…) et techniques (Electrotechnique, Automatique, mécanique et instrumentation et métrologie) qui vont lui permet de continuer ses études en licences qui émanent de ce parcours tout en gardant la possibilité de se réorienter à d’autres licences des autres troncs communs comme MIP et MIPC.\n",
      "Également, ce tronc commun permet à l’étudiant de postuler à des concours nationaux ou internationaux des écoles d’ingénieurs.\n",
      "\n",
      "Semestre 1:\n",
      "\n",
      "- Circuits électriques et électroniques\n",
      "- Electricité\n",
      "- Analyse 1 : Fonction d’une variable réelle\n",
      "- Algèbre 1 : Polynômes et espaces vectoriels\n",
      "- Algorithmique et Programmation 1\n",
      "- Langues et Communication -LC1\n",
      "\n",
      "Semestre 2:\n",
      "\n",
      "- Thermodynamique\n",
      "- Mécanique du point et Optique géométrique\n",
      "- Analyse 2 : Calcul intégral et équations différentielles\n",
      "- Algèbre 2 : Réduction des endomorphismes et formesquadratiques\n",
      "- Structure de la matière\n",
      "- Langues et Communication –LC2\n",
      "\n",
      "Semestre 3:\n",
      "\n",
      "- Mécanique des Solides\n",
      "- Electronique\n",
      "- Statistique descriptive/probabilités\n",
      "- Algorithmique et Programmation 2\n",
      "- Métrologie et instrumentation\n",
      "- Gestion\n",
      "\n",
      "Semestre 4:\n",
      "\n",
      "- Electrotechnique\n",
      "- Automatique\n",
      "- Fabrication mécanique\n",
      "- Construction mécanique\n",
      "- Informatique 3\n",
      "- Analyse numérique\n",
      "\n",
      "Coordinnateur pédagogique :Pr.Jbilou Mohammed             :  mjbilou@uae.ac.ma\n"
     ]
    }
   ],
   "source": [
    "DEUST('genie-electrique-genie-mecanique')"
   ],
   "metadata": {
    "collapsed": false,
    "ExecuteTime": {
     "end_time": "2024-05-23T22:25:35.840086Z",
     "start_time": "2024-05-23T22:25:34.837667Z"
    }
   },
   "id": "7db12feab8a146ff"
  },
  {
   "cell_type": "code",
   "execution_count": 52,
   "outputs": [
    {
     "name": "stdout",
     "output_type": "stream",
     "text": [
      "\n",
      "Information for mathematique-informatique-physique:\n",
      "L’objectif du tronc commun MIP est de donner à l’étudiant une base solide dans les matières scientifiques (physique, chimie et mathématiques etc…) qui vont lui permettre de continuer ses études dans les semestres S5 et S6 des cycles licences qui émanent de ce parcours tout en gardant la possibilité de se réorienter vers d’autres troncs communs comme MIPC et GE/GM.\n",
      "Également, ce tronc commun permet à l’étudiant de postuler à des concours d’accès aux cycles ingénieurs dispensés dans notre établissement et aussi à des concours nationaux ou internationaux des écoles d’ingénieurs.\n",
      "\n",
      "Semestre 1:\n",
      "\n",
      "- Circuits électriques et électroniques\n",
      "- Electricité\n",
      "- Analyse 1 : Fonction d’une variable réelle\n",
      "- Algèbre 1 : Polynômes et espaces vectoriels\n",
      "- Algorithmique et Programmation 1\n",
      "- Langues et Communication -LC1\n",
      "\n",
      "Semestre 2:\n",
      "\n",
      "- Thermodynamique\n",
      "- Mécanique du point et Optique géométrique\n",
      "- Analyse 2 : Calcul intégral et équations différentielles\n",
      "- Algèbre 2 : Réduction des endomorphismes et formesquadratiques\n",
      "- Structure de la matière\n",
      "- Langues et Communication –LC2\n",
      "\n",
      "Semestre 3:\n",
      "\n",
      "- Mécanique des Solides\n",
      "- Analyse 3 : Fonctions de plusieurs variables et calcul des intégrales multiples\n",
      "- Statistique descriptive/probabilités\n",
      "- Algorithmique et Programmation 2\n",
      "- Réactivité chimique\n",
      "- Langues et Communication –LC3\n",
      "\n",
      "Semestre 4:\n",
      "\n",
      "- Électromagnétisme \n",
      "- Mécanique quantique et Relativité\n",
      "- Analyse 4: Séries de fonctions et calcul des résidus\n",
      "- Structure de données en C\n",
      "- Chimie organique 1\n",
      "- Chimie minérale 1\n",
      "\n",
      "Coordinnateur pédagogique :Pr.Jbilou Mohammed             :  mjbilou@uae.ac.ma\n"
     ]
    }
   ],
   "source": [
    "DEUST('mathematique-informatique-physique')"
   ],
   "metadata": {
    "collapsed": false,
    "ExecuteTime": {
     "end_time": "2024-05-23T22:25:37.272076Z",
     "start_time": "2024-05-23T22:25:36.600328Z"
    }
   },
   "id": "75fc9fed28f5f251"
  },
  {
   "cell_type": "code",
   "execution_count": 53,
   "outputs": [
    {
     "name": "stdout",
     "output_type": "stream",
     "text": [
      "\n",
      "Information for mathematiques-informatique-physique-chimie:\n",
      "L’objectif du tronc commun MIPC est de donner à l’étudiant une base solide dans les matières scientifiques (physique, chimie et mathématiques etc…) qui vont lui permettre de continuer ses études dans les semestres S5 et S6 des cycles licences qui émanent de ce parcours tout en gardant la possibilité de se réorienter vers d’autres troncs communs comme MIP et GE/GM.\n",
      "Également, ce tronc commun permet à l’étudiant de postuler à des concours d’accès aux cycles ingénieurs dispensés dans notre établissement et aussi à des concours nationaux ou internationaux des écoles d’ingénieurs.\n",
      "\n",
      "Semestre 1:\n",
      "\n",
      "- Circuits électriques et électroniques\n",
      "- Electricité\n",
      "- Analyse 1 : Fonction d’une variable réelle\n",
      "- Algèbre 1 : Polynômes et espaces vectoriels\n",
      "- Algorithmique et Programmation 1\n",
      "- Langues et Communication -LC1\n",
      "\n",
      "Semestre 2:\n",
      "\n",
      "- Thermodynamique\n",
      "- Mécanique du point et Optique géométrique\n",
      "- Analyse 2 : Calcul intégral et équations différentielles\n",
      "- Algèbre 2 : Réduction des endomorphismes et formes quadratiques\n",
      "- Structure de la matière\n",
      "- Langues et Communication –LC2\n",
      "\n",
      "Semestre 3:\n",
      "\n",
      "- Électromagnétisme\n",
      "- Analyse 3 : Fonctions de plusieurs variables et calcul des intégrales multiples\n",
      "- Statistique descriptive/probabilités\n",
      "- Algorithmique et Programmation 2\n",
      "- Réactivité chimique\n",
      "- LC3\n",
      "\n",
      "Semestre 4:\n",
      "\n",
      "- Mécanique des Solides\n",
      "- Mécanique quantique et Relativité\n",
      "- Analyse 4: Séries de fonctions et calcul des résidus\n",
      "- Structure de données en C\n",
      "- Chimie organique 1\n",
      "- Chimie minérale 1\n",
      "\n",
      "Coordinnateur pédagogique :Pr.Jbilou Mohammed             :  mjbilou@uae.ac.ma\n"
     ]
    }
   ],
   "source": [
    "DEUST('mathematiques-informatique-physique-chimie')"
   ],
   "metadata": {
    "collapsed": false,
    "ExecuteTime": {
     "end_time": "2024-05-23T22:25:38.255358Z",
     "start_time": "2024-05-23T22:25:37.665631Z"
    }
   },
   "id": "530eab298bf9648"
  },
  {
   "cell_type": "code",
   "execution_count": 54,
   "outputs": [],
   "source": [
    "# Append DEUST specific formations to the file\n",
    "with open(\"FSTT_DATA.txt\", \"a\", encoding=\"utf-8\") as file:\n",
    "    DEUST('biologie-chimie-geologie', file)\n",
    "    DEUST('genie-electrique-genie-mecanique', file)\n",
    "    DEUST('mathematique-informatique-physique', file)\n",
    "    DEUST('mathematiques-informatique-physique-chimie', file)"
   ],
   "metadata": {
    "collapsed": false,
    "ExecuteTime": {
     "end_time": "2024-05-23T22:25:50.510935Z",
     "start_time": "2024-05-23T22:25:48.191990Z"
    }
   },
   "id": "598613ddec4c4625"
  },
  {
   "cell_type": "markdown",
   "source": [
    "\n",
    "\n",
    "\n",
    "<h1 style=\"text-align:center; font-size:200%;\">Save DEUST Formation to json file</h1>\n",
    "\n"
   ],
   "metadata": {
    "collapsed": false
   },
   "id": "f606b0ab4c4dcb5a"
  },
  {
   "cell_type": "code",
   "execution_count": 97,
   "outputs": [],
   "source": [
    "import json\n",
    "def DEUST(nom_formation, file=None):\n",
    "    # Construct the URL based on the provided formation name\n",
    "    url = f\"https://fstt.ac.ma/Portail2023/{nom_formation}/\"\n",
    "    \n",
    "    # Fetch and parse the page\n",
    "    soup = fetch_page(url)\n",
    "    if not soup:\n",
    "        print(f\"Failed to retrieve the page for {nom_formation}.\")\n",
    "        return\n",
    "\n",
    "    # Initialize the dictionary to hold the data\n",
    "    formation_data = {\n",
    "        \"formation\": {\n",
    "            \"Description\": \"\",\n",
    "            \"Semestres\": {}\n",
    "        }\n",
    "    }\n",
    "    \n",
    "    # Find the active div containing course information\n",
    "    active_div = soup.find('div', class_='eael-tabs-content')\n",
    "    \n",
    "    # Set formation description if found\n",
    "    if active_div:\n",
    "        description_paragraphs = active_div.find_all('p', align='justify')\n",
    "        if description_paragraphs:\n",
    "            formation_data[\"formation\"][\"Description\"] = \"\\n\".join(paragraph.text.strip() for paragraph in description_paragraphs)\n",
    "\n",
    "    # Find the table with id 'Mpro'\n",
    "    table = soup.find('table', id='Mpro')\n",
    "    \n",
    "    # Add semester-wise course details if found\n",
    "    if table:\n",
    "        semesters = table.find_all('tr')\n",
    "        for semester in semesters:\n",
    "            semester_name = semester.find('th').text.strip()\n",
    "            courses = semester.find('td').text.strip().replace('• ', '').split('\\n')\n",
    "            formation_data[\"formation\"][\"Semestres\"][semester_name] = {\"modules\": courses}\n",
    "\n",
    "    # Find the coordinator information\n",
    "    coordinator_div = soup.find('div', id='coordinateur-tab')\n",
    "    \n",
    "    # Add coordinator information if found\n",
    "    if coordinator_div:\n",
    "        coordinator_info = coordinator_div.text.strip().split(':')\n",
    "        coordinator_name = coordinator_info[0].strip()\n",
    "        coordinator_email = coordinator_info[1].strip()\n",
    "        formation_data[\"formation\"][\"Coordinator\"] = coordinator_name\n",
    "        formation_data[\"formation\"][\"Coordinator Email\"] = coordinator_email\n",
    "\n",
    "    # If file is provided, write to it; otherwise, print to console\n",
    "    if file:\n",
    "        json.dump(formation_data, file, ensure_ascii=False, indent=4)\n",
    "    else:\n",
    "        print(json.dumps(formation_data, ensure_ascii=False, indent=4))\n",
    "\n",
    "# Append DEUST specific formations to the file\n",
    "with open(\"FSTT_DATA.json\", \"a\", encoding=\"utf-8\") as file:\n",
    "    DEUST('biologie-chimie-geologie', file)\n",
    "    DEUST('genie-electrique-genie-mecanique', file)\n",
    "    DEUST('mathematique-informatique-physique', file)\n",
    "    DEUST('mathematiques-informatique-physique-chimie', file)\n"
   ],
   "metadata": {
    "collapsed": false,
    "ExecuteTime": {
     "end_time": "2024-05-25T00:29:49.278833Z",
     "start_time": "2024-05-25T00:29:41.577228Z"
    }
   },
   "id": "5031f92f71aa09b"
  },
  {
   "cell_type": "markdown",
   "source": [
    "\n",
    "\n",
    "\n",
    "<h1 style=\"text-align:center; font-size:200%;\">3.Formation Licence</h1>\n",
    "\n"
   ],
   "metadata": {
    "collapsed": false
   },
   "id": "6b81bd113fd4e170"
  },
  {
   "cell_type": "code",
   "execution_count": 55,
   "outputs": [],
   "source": [
    "def Licence(nom_formation, file=None):\n",
    "    # Construct the URL based on the provided formation name\n",
    "    url = f\"https://fstt.ac.ma/Portail2023/{nom_formation}/\"\n",
    "    \n",
    "    # Fetch and parse the page\n",
    "    soup = fetch_page(url)\n",
    "    if not soup:\n",
    "        print(f\"Failed to retrieve the page for {nom_formation}.\")\n",
    "        return\n",
    "\n",
    "    # Prepare the output string\n",
    "    output = f\"\\nInformation for {nom_formation}:\\n\"\n",
    "    \n",
    "    # Find the active div containing course information\n",
    "    active_div = soup.find('div', class_='eael-tabs-content')\n",
    "    \n",
    "    # Print course information if found\n",
    "    if active_div:\n",
    "        paragraphs = active_div.find_all('p', align='justify')\n",
    "        if paragraphs:\n",
    "            for paragraph in paragraphs:\n",
    "                output += paragraph.text.strip() + '\\n'\n",
    "    else:\n",
    "        output += \"No course information found.\\n\"\n",
    "                \n",
    "    # Find the competences\n",
    "    competences_div = soup.find('div', id='competences-visees-et-debouches-tab')\n",
    "    \n",
    "    # Print competences if found\n",
    "    if competences_div:\n",
    "        # Option 1: Check for ul tag\n",
    "        competences_list = competences_div.find('ul')\n",
    "        if competences_list:\n",
    "            competences_items = competences_list.find_all('li')\n",
    "            if competences_items:\n",
    "                output += \"\\nCompetences:\\n\"\n",
    "                for competence in competences_items:\n",
    "                    output += competence.text.strip() + '\\n'\n",
    "        \n",
    "        # Option 2: Check for p tag\n",
    "        else:\n",
    "            competences_paragraphs = competences_div.find_all('p', align='justify')\n",
    "            if competences_paragraphs:\n",
    "                output += \"\\nCompetences:\\n\"\n",
    "                for paragraph in competences_paragraphs:\n",
    "                    output += paragraph.text.strip() + '\\n'\n",
    "        \n",
    "    else:\n",
    "        output += \"Competences not found.\\n\"\n",
    "        \n",
    "    # Find the table with id 'Mpro'\n",
    "    table = soup.find('table', id='Mpro')\n",
    "    \n",
    "    # Print semester-wise course details if found\n",
    "    if table:\n",
    "        semesters = table.find_all('tr')\n",
    "        for semester in semesters:\n",
    "            semester_name = semester.find('th').text.strip()\n",
    "            courses = semester.find('td').text.strip()\n",
    "            courses = courses.replace('• ', '\\n- ')\n",
    "            output += f\"\\n{semester_name}:\\n\"\n",
    "            output += courses + '\\n'\n",
    "    else:\n",
    "        output += \"No semester-wise course details found.\\n\"\n",
    "    \n",
    "    # Find the coordinator information\n",
    "    coordinator_div = soup.find('div', id='coordinateur-tab')\n",
    "    \n",
    "    # Print coordinator information if found\n",
    "    if coordinator_div:\n",
    "        coordinator_info = coordinator_div.text.strip()\n",
    "        coordinator_name, contact_info = coordinator_info.split(':', 1)\n",
    "        result = f\"{coordinator_name.strip()} :{contact_info.strip()}\"\n",
    "        output += f\"\\n{result}\\n\"\n",
    "    else:\n",
    "        output += \"Coordinator information not found.\\n\"\n",
    "    \n",
    "    # If file is provided, write to it; otherwise, print to console\n",
    "    if file:\n",
    "        file.write(output)\n",
    "    else:\n",
    "        print(output)"
   ],
   "metadata": {
    "collapsed": false,
    "ExecuteTime": {
     "end_time": "2024-05-23T22:27:25.514824Z",
     "start_time": "2024-05-23T22:27:25.492881Z"
    }
   },
   "id": "9c507e04efb23f4d"
  },
  {
   "cell_type": "code",
   "execution_count": 57,
   "outputs": [
    {
     "name": "stdout",
     "output_type": "stream",
     "text": [
      "\n",
      "Information for lst-analytique-des-donnees:\n",
      "La Licence Science et Techniques en analytique des données permet aux étudiants de doter de compétences en matière d'outils informatiques, des\n",
      "techniques et des méthodes statistiques pour permettre d’organiser, de synthétiser et de traduire efficacement les données métier d’une\n",
      "organisation. L'étudiant doit être en mesure d'apporter un appui analytique à la conduite d'exploration et à l'analyse complexe de données.\n",
      "\n",
      "Competences:\n",
      "Masters en sciences de données: fouille de données, business analytiques, blockchain,\n",
      "Masters orientés e-Technologies: e-Business, e-Administration et e-Logistique\n",
      "Formations d’Ingénieurs dans une école d’ingénieurs à l’issue de la deuxième ou de la troisième année de licence\n",
      "Data scientist\n",
      "Technicien supérieur en SGBD R : installation, configuration et administration des SGBD\n",
      "WebMaster et développeur de sites web dynamiques\n",
      "Intégration du monde du travail dans les entreprises et les bureaux d’études\n",
      "\n",
      "Semestre 5:\n",
      "\n",
      "- Mathématiques pour la science des données\n",
      "- Structures des données avancées et théorie des graphes\n",
      "- Fondamentaux des bases de données\n",
      "- Algorithmique avancée et programmation\n",
      "- Développement WEB\n",
      "- Développement personnel et intelligence émotionnelle (Soft skills)\n",
      "\n",
      "Semestre 6:\n",
      "\n",
      "- Analyse et fouille de données\n",
      "- Systèmes et réseaux\n",
      "- Ingénierie des données \n",
      "- PFE\n",
      "\n",
      "Coordinnateur :Pr.BAIDA Ouafae             :  wbaida@uae.ac.ma\n"
     ]
    }
   ],
   "source": [
    "Licence('lst-analytique-des-donnees')"
   ],
   "metadata": {
    "collapsed": false,
    "ExecuteTime": {
     "end_time": "2024-05-23T22:33:36.628572Z",
     "start_time": "2024-05-23T22:33:36.223144Z"
    }
   },
   "id": "3f3ec583574f9d8f"
  },
  {
   "cell_type": "code",
   "execution_count": 58,
   "outputs": [
    {
     "name": "stdout",
     "output_type": "stream",
     "text": [
      "\n",
      "Information for lst-biotechnologies:\n",
      "L’objectif de la licence Biotechnologie consiste à former des étudiants dans les différents champs disciplinaires de la biologie moderne et de permettre aux étudiants d’acquérir de solides connaissances scientifiques pour une réelle compréhension du Vivant. L’enseignement est conçu pour allier concepts fondamentaux et apprentissage des outils méthodologiques. Il est également conçu pour étendre les compétences au-delà du domaine de la biologie, en particulier vers le monde économique. Ce parcours de licence vise donc à :\n",
      "\n",
      "Competences:\n",
      "Les métiers de l'enseignement primaire, secondaire.\n",
      "Les métiers de la recherche appliquée et du développement dans les secteurs des biotechnologies, de l'agro-  alimentaire, de l'industrie pharmaceutique,...\n",
      "Les métiers de la vente (délégués médicaux, technico-commerciaux, entretien d'appareillages scientifiques...).\n",
      "Les métiers du conseil (consultants, experts auprès de cabinets juridiques ou d'institutions).\n",
      "Les métiers du journalisme scientifique.\n",
      "\n",
      "Semestre 5:\n",
      "\n",
      "- Biologie moléculaire\n",
      "- Génétique\n",
      "- Enzymologie\n",
      "- Immunologie et immunotechnologie\n",
      "- Génie Microbiologique\n",
      "- Techniques appliquées à la Biologie\n",
      "\n",
      "Semestre 6 ( Option : végétale):\n",
      "\n",
      "- Valorisation des ressources végétales et génie des biomolécules\n",
      "- Physiologie végétale\n",
      "- Biotechnologie végétale\n",
      "- Projet de fin d’études\n",
      "\n",
      "Semestre 6 ( Option : Animale):\n",
      "\n",
      "- Ecologie appliquée à la biologie et lutte biologique\n",
      "- Physiologie Animale\n",
      "- Biotechnologie Animale\n",
      "- Projet de fin d’études\n",
      "\n",
      "Coordinnateur pédagogique :Pr.Bouayad Noureddin\n",
      "\n",
      " :  nbouayad@uae.ac.ma\n"
     ]
    }
   ],
   "source": [
    "Licence('lst-biotechnologies')"
   ],
   "metadata": {
    "collapsed": false,
    "ExecuteTime": {
     "end_time": "2024-05-23T22:33:41.452471Z",
     "start_time": "2024-05-23T22:33:40.207604Z"
    }
   },
   "id": "24ee63716a828d23"
  },
  {
   "cell_type": "code",
   "execution_count": 59,
   "outputs": [
    {
     "name": "stdout",
     "output_type": "stream",
     "text": [
      "\n",
      "Information for lst-design-industriel-et-productique:\n",
      "Le Lauréat de Licence en Design et Productique en Génie Mécanique, à travers sa formation technique et scientifique, sera en mesure de suivre et d’intervenir dans toutes les étapes de Design, de réalisation, de Contrôle et de suivi du produit tout au long de son cycle de vie.\n",
      "\n",
      "Competences:\n",
      "Planification et ordonnancement des opérations de fabrication ;\n",
      "Participation à l’élaboration d’un cahier de charge de produit mécanique ;\n",
      "Gestion de la production mécanique ;\n",
      "Maintenance des équipements mécaniques (Roulements, embrayages, pompes, …) ;\n",
      "Contrôle de la conformité des produits dans les Laboratoires et Département qualité : Spécification géométriques\n",
      "        et d’état de surface, Essais Mécaniques, Traitements thermiques des matériaux ;\n",
      "Intégration des Services Techniques d’Achat de vente et après-vente.\n",
      "\n",
      "Semestre 5:\n",
      "\n",
      "- Choix des matériaux, dimensionnement et essais\n",
      "- Eléments de machines\n",
      "- Machines industrielles\n",
      "- Management Industriel\n",
      "- CAO : Conception Assistée par Ordinateur\n",
      "- Métrologie et Contrôle de Qualité\n",
      "\n",
      "Semestre 6:\n",
      "\n",
      "- FAO : Fabrication Assistée par Ordinateur\n",
      "- Prototypage Rapide\n",
      "- Innovation et créativité\n",
      "- Projet de fin d’études\n",
      "\n",
      "Coordinnateur pédagogique :Pr.Elmesbahi Abdelilah\n",
      "\n",
      " :  a.mesbahi@uae.ac.ma\n"
     ]
    }
   ],
   "source": [
    "Licence('lst-design-industriel-et-productique')"
   ],
   "metadata": {
    "collapsed": false,
    "ExecuteTime": {
     "end_time": "2024-05-23T22:33:42.988102Z",
     "start_time": "2024-05-23T22:33:42.518458Z"
    }
   },
   "id": "d080798452440572"
  },
  {
   "cell_type": "code",
   "execution_count": 60,
   "outputs": [
    {
     "name": "stdout",
     "output_type": "stream",
     "text": [
      "\n",
      "Information for lst-genie-civil:\n",
      "La licence Génie Civil conduit vers un Master ou une formation d’ingénieur. Elle permet également                   une insertion professionnelle, grâce aux différentes compétences acquises durant ce parcours.\n",
      "Cette insertion peut être dans des secteurs d’activités, comme des bureaux d’études ‘en Génie Civil, en environnement, en aménagement… etc), des entreprises du secteur du bâtiment et des travaux publics, des cabinets de maîtrise d’œuvre, des services de maîtrise d’œuvre, des services d’ouvrages ou de bureaux de contrôle technique.\n",
      "\n",
      "Competences:\n",
      "La licence Génie Civil conduit vers un Master ou une formation d’ingénieur. Elle permet également                   une insertion professionnelle, grâce aux différentes compétences acquises durant ce parcours.\n",
      "Cette insertion peut être dans des secteurs d’activités, comme des bureaux d’études ‘en Génie Civil, en environnement, en aménagement… etc), des entreprises du secteur du bâtiment et des travaux publics, des cabinets de maîtrise d’œuvre, des services de maîtrise d’œuvre, des services d’ouvrages ou de bureaux de contrôle technique.\n",
      "\n",
      "Semestre 5:\n",
      "\n",
      "- Mécanique des milieux continus et Outils Techniques en Génie Civil\n",
      "- Résistance des matériaux\n",
      "- Béton armé\n",
      "- Mécanique des sols et notions de base de la géotechnique\n",
      "- Matériaux de construction\n",
      "- Méthodes numériques et calcul scientifique\n",
      "\n",
      "Semestre 6:\n",
      "\n",
      "- Analyse et calcul des structures\n",
      "- Électricité du bâtiment\n",
      "- Hydraulique et Assainissement\n",
      "- Projet de fin d’études\n",
      "\n",
      "Coordinnateur pédagogique :Pr.MABSSOUT Mokhtar\t\n",
      "\n",
      " :  mmabssout@uae.ac.ma\n"
     ]
    }
   ],
   "source": [
    "Licence('lst-genie-civil')"
   ],
   "metadata": {
    "collapsed": false,
    "ExecuteTime": {
     "end_time": "2024-05-23T22:33:43.925677Z",
     "start_time": "2024-05-23T22:33:43.425980Z"
    }
   },
   "id": "ef32e37163a0b685"
  },
  {
   "cell_type": "code",
   "execution_count": 61,
   "outputs": [
    {
     "name": "stdout",
     "output_type": "stream",
     "text": [
      "\n",
      "Information for lst-energies-renouvelables:\n",
      "Approfondir les connaissances scientifiques et techniques en énergies renouvelables. Ce domaine inclut l’énergie solaire, éolienne, géothermique, hydraulique, thermoélectrique, L’énergie de la biomasse, le stockage de l’énergie, l’efficacité énergétique.\n",
      "Elle permettra aux étudiants de pouvoir créer leur entreprise pour l’installation et l’entretien des mini installations photovoltaïques, éolienne, donner du conseil au niveau EnR, ou intégrer des cycles d’ingénieurs ou de Master spécialisés.\n",
      "Lors de cette formation, les étudiants auront à étudier les différentes formes de production des énergies renouvelables (EnR). Ils apprendront les fondements scientifiques et techniques sur l’énergie solaire (photovoltaïque, thermique), éolien, hydraulique, géothermique, l’énergie de biomasse et déchets, le stockage d’énergie, et l’efficacité énergétique.\n",
      "\n",
      "Competences:\n",
      "Lors de cette formation, les étudiants auront à étudier les différentes formes de production des énergies renouvelables (EnR). Ils apprendront les fondements scientifiques et techniques sur l’énergie solaire (photovoltaïque, thermique), éolien, hydraulique, géothermique, l’énergie de biomasse et déchets, le stockage d’énergie, et l’efficacité énergétique.\n",
      "\n",
      "Semestre 5:\n",
      "\n",
      "- Calcul Scientifique/Traitement du Signal\n",
      "- Mécanique des Fluides/Transferts Thermiques\n",
      "- Génie des Matériaux\n",
      "- Convertisseurs Statiques d’Énergie Électrique\n",
      "- Électrotechnique et Machines Électriques\n",
      "- Production des Énergies Renouvelables\n",
      "\n",
      "Semestre 6:\n",
      "\n",
      "- Énergie Solaire\n",
      "- Énergie Éolienne\n",
      "- Maintenance et fiabilité/Gestion de projets- Législation\n",
      "- Projet de fin d’études\n",
      "\n",
      "Coordinnateur pédagogique :Pr.Ahachad Mohammed\n",
      "\n",
      " :  mahachad@uae.ac.ma\n"
     ]
    }
   ],
   "source": [
    "Licence('lst-energies-renouvelables')"
   ],
   "metadata": {
    "collapsed": false,
    "ExecuteTime": {
     "end_time": "2024-05-23T22:33:44.479859Z",
     "start_time": "2024-05-23T22:33:43.933065Z"
    }
   },
   "id": "5fc372ebd49c79a3"
  },
  {
   "cell_type": "code",
   "execution_count": 62,
   "outputs": [
    {
     "name": "stdout",
     "output_type": "stream",
     "text": [
      "\n",
      "Information for lst-8-genie-des-procedes:\n",
      "Formation visant à donner aux étudiants des bases solides en chimie, physique, mathématiques, informatique et de gestion des procédés industriels. Les lauréats de la formation seront capables de conduire des ateliers de fabrication continue et séquentielle, de manager une équipe, de connaître et de prendre en compte les contraintes de sécurité, d’environnement et de l’organisation scientifique du travail.\n",
      "\n",
      "Competences:\n",
      "Mettre l’étudiant au cœur des problèmes technologique réel qu’il devra résoudre.\n",
      "Le futur lauréat doit convaincre le secteur industriel et laboratoires de ses capacités scientifiques, multidisciplinaires, décisionnelles et organisationnelles.\n",
      "\n",
      "Semestre 5:\n",
      "\n",
      "- Calculs des réacteurs\n",
      "- Bilan Matière et Énergie\n",
      "- Opérations Unitaires\n",
      "- Mécanique des fluides et Hydraulique\n",
      "- Optimisation des Procédés Industrielle\n",
      "- Modélisation des processus et Régulation des Procédés\n",
      "\n",
      "Semestre 6:\n",
      "\n",
      "- Matériaux et Industrie chimique\n",
      "- Procédés de Dépollution\n",
      "- Valorisation des Ressources\n",
      "- Projet de fin d’études\n",
      "\n",
      "Coordinnateur pédagogique :Pr.AZAAR Khalid            :  k.azaar@uae.ac.ma\n"
     ]
    }
   ],
   "source": [
    "Licence('lst-8-genie-des-procedes')"
   ],
   "metadata": {
    "collapsed": false,
    "ExecuteTime": {
     "end_time": "2024-05-23T22:33:45.238803Z",
     "start_time": "2024-05-23T22:33:44.756749Z"
    }
   },
   "id": "3fe067ef0af6507d"
  },
  {
   "cell_type": "code",
   "execution_count": 63,
   "outputs": [
    {
     "name": "stdout",
     "output_type": "stream",
     "text": [
      "\n",
      "Information for lst-genie-electrique-option-genieelectrique-systeme-industriel:\n",
      "L’objectif de la licence Génie électrique est de donner aux étudiants les éléments de base en physique mathématique et informatique et de leur apporter une formation solide dans les domaines du génie électrique, en particulier en électronique électrotechnique. Ce qui leur permettra de préparer un master à dominante ingénierie EEA ou d’intégrer les grandes écoles d’ingénieurs. Ils pourront aussi se présenter aux différentes fonctions publiques ou privées exigeant le niveau de la licence.\n",
      "Les étudiants sont également initiés à la vie professionnelle par le biais de stages au sein des entreprises.\n",
      "\n",
      "Competences:\n",
      "Électronique de contrôle, de mesure et de commande.\n",
      "Traitement et analyse du signal.\n",
      "Principe de fonctionnement et le domaine d’application des machines électriques.\n",
      "Électronique de puissance.\n",
      "Automates programmables.\n",
      "Techniques de commande de processus industriels.\n",
      "Systèmes à microprocesseur.\n",
      "Réseaux informatique.\n",
      "Bases de données.\n",
      "Gestion de la maintenance.\n",
      "\n",
      "Semestre 5:\n",
      "\n",
      "- Traitement de signal & Télécommunication\n",
      "- Actionneurs industriels\n",
      "- Électronique et systèmes\n",
      "- Automatismes\n",
      "- Électronique de puissance\n",
      "- Gestion de maintenance et sûreté de fonctionnement\n",
      "\n",
      "Semestre 6:\n",
      "\n",
      "- Management du projet \n",
      "- Microcontrôleur microprocesseur \n",
      "- Réseaux et base de données\n",
      "- Projet de fin d’études\n",
      "\n",
      "Coordinnateur pédagogique :Pr. Mekrini Zineb            :  zmekrini@uae.ac.ma\n"
     ]
    }
   ],
   "source": [
    "Licence('lst-genie-electrique-option-genieelectrique-systeme-industriel')"
   ],
   "metadata": {
    "collapsed": false,
    "ExecuteTime": {
     "end_time": "2024-05-23T22:33:45.966646Z",
     "start_time": "2024-05-23T22:33:45.453352Z"
    }
   },
   "id": "dad07b737ef58ffb"
  },
  {
   "cell_type": "code",
   "execution_count": 64,
   "outputs": [
    {
     "name": "stdout",
     "output_type": "stream",
     "text": [
      "\n",
      "Information for lst-genie-industriel:\n",
      "Cette formation pluridisciplinaire garantit l’ouverture d’esprit nécessaire pour appréhender et dominer les problèmes concernant un projet industriel dont l’aspect technique ne constitue qu’une partie parmi d’autres.\n",
      "L’étudiant disposant d’une licence Sciences et techniques Génie Industriel pourra poursuivre ses études supérieures dans les différentes grandes écoles ou bien en Master Science et Techniques. Il pourra aussi intégrer le tissu industriel essentiellement les PME/PMI.\n",
      "\n",
      "Competences:\n",
      "Métiers de l’ingénieur : Production ; Méthodes ; Maintenance ; Management de la qualité.\n",
      "Poursuite des études en Master ou en cycle d’ingénieur.\n",
      "\n",
      "Semestre 5:\n",
      "\n",
      "- Machines Hydrauliques\n",
      "- Gestion de production\n",
      "- Machines Thermiques\n",
      "- Gestion de la qualité\n",
      "- Gestion de la maintenance et sureté de fonctionnement\n",
      "- Matériaux et RDM\n",
      "\n",
      "Semestre 6:\n",
      "\n",
      "- Logistique et Supply Chain Management\n",
      "- Optimisation des Systèmes\n",
      "- Management de projet\n",
      "- Projet de fin d’études\n",
      "\n",
      "Coordinnateur pédagogique :Pr.Hassan El M’rabet             : helmramet@uae.ac.ma\n"
     ]
    }
   ],
   "source": [
    "Licence('lst-genie-industriel')"
   ],
   "metadata": {
    "collapsed": false,
    "ExecuteTime": {
     "end_time": "2024-05-23T22:33:46.829181Z",
     "start_time": "2024-05-23T22:33:46.374126Z"
    }
   },
   "id": "eb52512f271a8a66"
  },
  {
   "cell_type": "code",
   "execution_count": 65,
   "outputs": [
    {
     "name": "stdout",
     "output_type": "stream",
     "text": [
      "\n",
      "Information for lst-genie-informatique:\n",
      "\n",
      "Technicien supérieur en développement d’application en C++ et JAVA ; Technicien supérieur en réseaux locaux ; Technicien supérieur en SGBD-R : installation, configuration et administration des SGBD ; WebMaster et développeur des sites web dynamiques, ...\n",
      "Les orientations potentielles de poursuite des études sont de type : Masters à dominance informatique, Masters orientés e-Technologies, Masters à dominance automatique ou informatique industrielle ou informatique décisionnelle et Formations d’ingénieurs.\n",
      "\n",
      "Competences:\n",
      "Technicien supérieur en développement d’application en C++ et JAVA ; Technicien supérieur en réseaux locaux ; Technicien supérieur en SGBD-R : installation, configuration et administration des SGBD ; WebMaster et développeur des sites web dynamiques, ...\n",
      "Les orientations potentielles de poursuite des études sont de type : Masters à dominance informatique, Masters orientés e-Technologies, Masters à dominance automatique ou informatique industrielle ou informatique décisionnelle et Formations d’ingénieurs.\n",
      "\n",
      "Semestre 5:\n",
      "\n",
      "- Programmation Orientée Objet en C++\n",
      "- Bases de Données \n",
      "- Architecture C/S et Développement Web Dynamique\n",
      "- Introduction aux Réseaux Informatiques\n",
      "- Système d’exploitation UNIX/Linux\n",
      "- TEC & Anglais\n",
      "\n",
      "Semestre 6:\n",
      "\n",
      "- Modélisation UML\n",
      "- Programmation Orientée Objet en Langage JAVA\n",
      "- Les Réseaux TCP/IP\n",
      "- Projet de fin d’études\n",
      "\n",
      "Coordinnateur pédagogique :Pr.Boudhir Anouar Abdelhakim             : aboudhir@uae.ac.ma\n"
     ]
    }
   ],
   "source": [
    "Licence('lst-genie-informatique')"
   ],
   "metadata": {
    "collapsed": false,
    "ExecuteTime": {
     "end_time": "2024-05-23T22:33:47.785552Z",
     "start_time": "2024-05-23T22:33:47.323791Z"
    }
   },
   "id": "9d622f92ea075789"
  },
  {
   "cell_type": "code",
   "execution_count": 66,
   "outputs": [
    {
     "name": "stdout",
     "output_type": "stream",
     "text": [
      "\n",
      "Information for lst-geosciences-appliquees:\n",
      "\n",
      "Competences:\n",
      "L’expertise et Cartographie.\n",
      "La Géotechnique et Géo-matériaux (achat et vente du matériel de génie géologique).\n",
      "L’environnement (technicien de l’environnement).\n",
      "\n",
      "Semestre 5:\n",
      "\n",
      "- Pétrographie/Minéralogie\n",
      "- Environnements sédimentaires\n",
      "- Élément de  tectonique/Domaines structuraux du Maroc\n",
      "- Ressources hydriques\n",
      "- Géochimie et pollution urbaine\n",
      "- Pédologie\n",
      "\n",
      "Semestre 6:\n",
      "\n",
      "- Traitement des données géologiques\n",
      "- Cartographie numérique\n",
      "- Géologie appliquée\n",
      "- Projet de fin d’études\n",
      "\n",
      "Coordinnateur pédagogique :Pr.Wahbi Miriam           :  mwahbi@uae.ac.ma\n"
     ]
    }
   ],
   "source": [
    "Licence('lst-geosciences-appliquees')"
   ],
   "metadata": {
    "collapsed": false,
    "ExecuteTime": {
     "end_time": "2024-05-23T22:33:49.143798Z",
     "start_time": "2024-05-23T22:33:48.650820Z"
    }
   },
   "id": "fc743b5875f78eed"
  },
  {
   "cell_type": "code",
   "execution_count": 67,
   "outputs": [
    {
     "name": "stdout",
     "output_type": "stream",
     "text": [
      "\n",
      "Information for lst-ingenierie-de-developpement-dapplications-informatiques:\n",
      "\n",
      "Competences:\n",
      "Technicien supérieur en développement d’application en C++ et JAVA\n",
      "Technicien supérieur en réseaux locaux : installation, configuration et administration des réseaux locaux\n",
      "Technicien supérieur en SGBD R : installation, configuration et administration des SGBD\n",
      "WebMaster et développeur de sites web dynamiques\n",
      "Poursuivre des études supérieures en Informatique\n",
      "\n",
      "Semestre 5:\n",
      "\n",
      "- Modélisations avancée et Méthodes de génie logiciel\n",
      "- Développement Web\n",
      "- Base de données Structurées et non Structurées\n",
      "- Programmation Orientée Objet en C++/Java\n",
      "- Systèmes et réseaux informatiques\n",
      "- Développement de soft skills\n",
      "\n",
      "Semestre 6:\n",
      "\n",
      "- Innover, Entreprendre et s’initier à la Gestion d'une Entreprise avec un ERP\n",
      "- Initiation en développement mobile et Edge Computing\n",
      "- Développement web avancé Back end (Python) \n",
      "- PFE\n",
      "\n",
      "Coordinnateur :Pr.KOUNAIDI Mohamed             :  m.kounaidi@@uae.ac.ma\n"
     ]
    }
   ],
   "source": [
    "Licence('lst-ingenierie-de-developpement-dapplications-informatiques')"
   ],
   "metadata": {
    "collapsed": false,
    "ExecuteTime": {
     "end_time": "2024-05-23T22:33:51.154716Z",
     "start_time": "2024-05-23T22:33:50.664155Z"
    }
   },
   "id": "4dbed78252869f7e"
  },
  {
   "cell_type": "code",
   "execution_count": 68,
   "outputs": [
    {
     "name": "stdout",
     "output_type": "stream",
     "text": [
      "\n",
      "Information for lst-ingenierie-statistique:\n",
      "\n",
      "Competences:\n",
      "Formation académique en mathématiques fondamentales et statistiques mathématiques offrant ainsi la possibilité de poursuivre les études en Master fondamental ou professionnel.\n",
      "Maîtrise de l’outil informatique et les logiciels statistiques spécialisés.\n",
      "Capacité à concevoir et à mener des études statistiques offrant des perspectives professionnelles dans différents secteurs socio-économiques et industriels.\n",
      "\n",
      "Semestre 5:\n",
      "\n",
      "- Topologies dans les espaces métriques\n",
      "- Intégration\n",
      "- Probabilités avancées\n",
      "- Recherche Opérationnelle\n",
      "- Concept de base de Programmation avancée C++\n",
      "- Analyse des données\n",
      "\n",
      "Semestre 6:\n",
      "\n",
      "- Statistique Mathématique\n",
      "- MSP\n",
      "- Régression–Anova\n",
      "- Projet de fin d’études\n",
      "\n",
      "Coordinnateur pédagogique :Pr.El Merzguioui Mhamed             :  melmerzguioui@uae.ac.ma\n"
     ]
    }
   ],
   "source": [
    "Licence('lst-ingenierie-statistique')"
   ],
   "metadata": {
    "collapsed": false,
    "ExecuteTime": {
     "end_time": "2024-05-23T22:33:52.184609Z",
     "start_time": "2024-05-23T22:33:51.655066Z"
    }
   },
   "id": "678b767bcf040fca"
  },
  {
   "cell_type": "code",
   "execution_count": 69,
   "outputs": [
    {
     "name": "stdout",
     "output_type": "stream",
     "text": [
      "\n",
      "Information for lst-mathematiques-et-applications:\n",
      "Acquérir une double compétence mathématiques et informatique grâce à laquelle ils aborderont les problèmes de modélisation et de simulation scientifique sous tous leurs aspects, de la conception à la mise en oeuvre numérique.\n",
      "L’accent est donc mis à la fois sur des techniques d’ingénierie mathématiques et sur les langages de programmation et les outils algorithmiques.\n",
      "\n",
      "Competences:\n",
      "Les entreprises et les bureaux d’études ;\n",
      "La poursuite des études en cycle ingénieur ;\n",
      "La poursuite des études en cycle Master ;\n",
      "L’enseignement public ou privé.\n",
      "\n",
      "Semestre 5:\n",
      "\n",
      "- Topologies dans les espaces métriques\n",
      "- Intégration\n",
      "- Probabilités avancées\n",
      "- Recherche Opérationnelle\n",
      "- Concepts de base de programmation orientée C\n",
      "- Analyse numérique matricielle\n",
      "\n",
      "Semestre 6:\n",
      "\n",
      "- Calcul différentiel et équations différentielles\n",
      "- Topologie générale et distributions\n",
      "- Analyse numérique des équations différentielles\n",
      "- Projet de fin d’études\n",
      "\n",
      "Coordinnateur pédagogique :Pr.Lahrouz Adil           :  a.lahrouz1@uae.ac.ma\n"
     ]
    }
   ],
   "source": [
    "Licence('lst-mathematiques-et-applications')"
   ],
   "metadata": {
    "collapsed": false,
    "ExecuteTime": {
     "end_time": "2024-05-23T22:33:53.124252Z",
     "start_time": "2024-05-23T22:33:52.655924Z"
    }
   },
   "id": "299b4f444aaebd8f"
  },
  {
   "cell_type": "code",
   "execution_count": 70,
   "outputs": [
    {
     "name": "stdout",
     "output_type": "stream",
     "text": [
      "\n",
      "Information for lst-mathematiques-et-informatique-decisionnelles:\n",
      "\n",
      "Competences:\n",
      "Master de mathématiques et informatique (fondamental, spécialisé ou professionnel) dans une université marocaine ou étrangère.\n",
      "Intégration (sur concours ou dossier) des écoles d'ingénieurs\n",
      "Administration\n",
      "Industries et commerce\n",
      "Sociétés financières.\n",
      "Bureaux d’études\n",
      "\n",
      "Semestre 5:\n",
      "\n",
      "- Base de données Relationnelles et Nosql\n",
      "- POO/ Développement web\n",
      "- Intégration et Probabilités\n",
      "- Topologie et Calcul différentiel\n",
      "- Optimisation non linéaire et recherche opérationnelle\n",
      "- Anglais et Management de Projet\n",
      "\n",
      "Semestre 6:\n",
      "\n",
      "- PYTHON ET MACHINE LEARNING\n",
      "- Mathématiques pour l'Intelligence Artificiel\n",
      "- Analyse numérique et équations différentielles \n",
      "- PFE\n",
      "\n",
      "Coordinnateur :Pr.LAHROUZ Adil             :  a.lahrouz@uae.ac.ma\n"
     ]
    }
   ],
   "source": [
    "Licence('lst-mathematiques-et-informatique-decisionnelles')"
   ],
   "metadata": {
    "collapsed": false,
    "ExecuteTime": {
     "end_time": "2024-05-23T22:33:54.035717Z",
     "start_time": "2024-05-23T22:33:53.560Z"
    }
   },
   "id": "f7581a22db73f1b"
  },
  {
   "cell_type": "code",
   "execution_count": 71,
   "outputs": [
    {
     "name": "stdout",
     "output_type": "stream",
     "text": [
      "\n",
      "Information for lst-rrn:\n",
      "\n",
      "Competences:\n",
      "Observatoire National des Risques Naturels,\n",
      "Bureaux d’étude,\n",
      "Laboratoire d’étude (LPEE),\n",
      "Organismes gestionnaires des ressources hydriques, de sols, minières, ,\n",
      "Les institutions administratives et professionnelles,\n",
      "Les institutions de recherche scientifique et technique,\n",
      "Etc.\n",
      "\n",
      "Semestre 5:\n",
      "\n",
      "- Risques et ressources naturels\n",
      "- Techniques géophysiques/géotechniques/géochimiques\n",
      "- Techniques géomatiques\n",
      "- Informatiques\n",
      "- Modélisation et analyse de données\n",
      "- Soft Skills\n",
      "\n",
      "Semestre 6 ( Option : Risques naturels):\n",
      "\n",
      "- Risques géologiques  \n",
      "- Risques hydroclimatiques\n",
      "- Risques naturels et aménagement\n",
      "- Projet de fin d’études\n",
      "\n",
      "Semestre 6 ( Option : Ressources naturelles):\n",
      "\n",
      "- Géoressources Naturelles\n",
      "- Bioressources Naturelles\n",
      "- Valorisation et durabilité des ressources\n",
      "- Projet de fin d’études\n",
      "\n",
      "Coordinnateur :Pr.Bouzid Saida              : sbouzid@uae.ac.ma\n"
     ]
    }
   ],
   "source": [
    "Licence('lst-rrn')"
   ],
   "metadata": {
    "collapsed": false,
    "ExecuteTime": {
     "end_time": "2024-05-23T22:33:55.110272Z",
     "start_time": "2024-05-23T22:33:54.642869Z"
    }
   },
   "id": "544b2de242de9a17"
  },
  {
   "cell_type": "code",
   "execution_count": 72,
   "outputs": [
    {
     "name": "stdout",
     "output_type": "stream",
     "text": [
      "\n",
      "Information for lst-statistique-et-science-des-donnees:\n",
      "\n",
      "Competences:\n",
      "Master de mathématiques et informatique (fondamental, spécialisé ou professionnel) dans une université marocaine ou étrangère.\n",
      "Intégration (sur concours ou dossier) des écoles d'ingénieurs\n",
      "Administration\n",
      "Industries et commerce\n",
      "Sociétés financières.\n",
      "Bureaux d’études\n",
      "\n",
      "Semestre 5:\n",
      "\n",
      "- Base de données Relationnelles et NoSQL\n",
      "- Programmation orientée objet et Développement Web\n",
      "- Statistique Inférentielle et Recherche Opérationnelle\n",
      "- Intégration et Probabilités\n",
      "- Analyse des Données et Datamining\n",
      "- Anglais et Management de Projet\n",
      "\n",
      "Semestre 6:\n",
      "\n",
      "- Programmation Python et Machine Learning\n",
      "- Mathématiques pour l’Intelligence Artificielle\n",
      "- Régression – Anova et Maîtrise Statistique des Procédés \n",
      "- PFE\n",
      "\n",
      "Coordinnateur :Pr.EL MERZGUIOUI Mhamed             :  melmerzguioui@uae.ac.ma\n"
     ]
    }
   ],
   "source": [
    "Licence('lst-statistique-et-science-des-donnees')"
   ],
   "metadata": {
    "collapsed": false,
    "ExecuteTime": {
     "end_time": "2024-05-23T22:33:56.143113Z",
     "start_time": "2024-05-23T22:33:55.643351Z"
    }
   },
   "id": "c7658b8f3a276389"
  },
  {
   "cell_type": "code",
   "execution_count": 73,
   "outputs": [
    {
     "name": "stdout",
     "output_type": "stream",
     "text": [
      "\n",
      "Information for lst-techniques-danalyses-chimiques:\n",
      "\n",
      "Semestre 5:\n",
      "\n",
      "- Chimie organique avancée\n",
      "- Chimie inorganique\n",
      "- Thermochimie, Cinétique et Catalyse\n",
      "- Electrochimie et Méthodes électro-analytiques\n",
      "- Méthodes Spectroscopiques\n",
      "- Techniques d’analyse inorganiques\n",
      "\n",
      "Semestre 6:\n",
      "\n",
      "- Techniques Séparatives\n",
      "- Chimie et analyse des eaux\n",
      "- Assurance qualité dans les laboratoires d’analyses chimiques\n",
      "- Projet de fin d’études\n",
      "\n",
      "Coordinnateur pédagogique :Pr.Chabbi Mohamed            :  Jbilou Mohammed\n"
     ]
    }
   ],
   "source": [
    "Licence('lst-techniques-danalyses-chimiques')"
   ],
   "metadata": {
    "collapsed": false,
    "ExecuteTime": {
     "end_time": "2024-05-23T22:33:56.978393Z",
     "start_time": "2024-05-23T22:33:56.432954Z"
    }
   },
   "id": "f26e7f78d46da202"
  },
  {
   "cell_type": "code",
   "execution_count": 76,
   "outputs": [],
   "source": [
    "with open(\"FSTT_DATA.txt\", \"a\", encoding=\"utf-8\") as file:\n",
    "    Licence('lst-analytique-des-donnees', file)\n",
    "    Licence('lst-biotechnologies', file)\n",
    "    Licence('lst-design-industriel-et-productique', file)\n",
    "    Licence('lst-energies-renouvelables', file)\n",
    "    Licence('lst-genie-civil', file)\n",
    "    Licence('lst-8-genie-des-procedes', file)\n",
    "    Licence('lst-genie-electrique-option-genieelectrique-systeme-industriel', file)\n",
    "    Licence('lst-genie-industriel', file)\n",
    "    Licence('lst-genie-informatique', file)\n",
    "    Licence('lst-geosciences-appliquees', file)\n",
    "    Licence('lst-ingenierie-de-developpement-dapplications-informatiques', file)\n",
    "    Licence('lst-ingenierie-statistique', file)\n",
    "    Licence('lst-mathematiques-et-applications', file)\n",
    "    Licence('lst-mathematiques-et-informatique-decisionnelles', file)\n",
    "    Licence('lst-rrn', file)\n",
    "    Licence('lst-statistique-et-science-des-donnees', file)\n",
    "    Licence('lst-techniques-danalyses-chimiques', file)"
   ],
   "metadata": {
    "collapsed": false,
    "ExecuteTime": {
     "end_time": "2024-05-23T22:48:02.547404Z",
     "start_time": "2024-05-23T22:47:38.807867Z"
    }
   },
   "id": "ef153ec798093fa0"
  },
  {
   "cell_type": "markdown",
   "source": [
    "\n",
    "\n",
    "\n",
    "<h1 style=\"text-align:center; font-size:200%;\">Save Licence as json</h1>\n",
    "\n"
   ],
   "metadata": {
    "collapsed": false
   },
   "id": "8a47bcd622352c16"
  },
  {
   "cell_type": "code",
   "execution_count": 109,
   "outputs": [],
   "source": [
    "import json\n",
    "def Licence(nom_formation, file=\"Formation_licence.json\"):\n",
    "    # Construct the URL based on the provided formation name\n",
    "    url = f\"https://fstt.ac.ma/Portail2023/{nom_formation}/\"\n",
    "    \n",
    "    # Fetch and parse the page\n",
    "    soup = fetch_page(url)\n",
    "    if not soup:\n",
    "        print(f\"Failed to retrieve the page for {nom_formation}.\")\n",
    "        return\n",
    "\n",
    "    # Initialize dictionary to store information\n",
    "    data = {}\n",
    "    \n",
    "    # Add formation name to dictionary\n",
    "    data[nom_formation] = {}\n",
    "\n",
    "    # Find the description div\n",
    "    description_div = soup.find('div', class_='description')\n",
    "    if description_div:\n",
    "        data[nom_formation]['Description'] = description_div.text.strip()\n",
    "    else:\n",
    "        data[nom_formation]['Description'] = \"Description not found.\"\n",
    "    \n",
    "    # Find the competences\n",
    "    competences_div = soup.find('div', id='competences-visees-et-debouches-tab')\n",
    "    if competences_div:\n",
    "        competences_list = competences_div.find('ul')\n",
    "        if competences_list:\n",
    "            competences_items = competences_list.find_all('li')\n",
    "            if competences_items:\n",
    "                data[nom_formation]['Competences'] = [competence.text.strip() for competence in competences_items]\n",
    "        else:\n",
    "            competences_paragraphs = competences_div.find_all('p', align='justify')\n",
    "            if competences_paragraphs:\n",
    "                data[nom_formation]['Competences'] = [paragraph.text.strip() for paragraph in competences_paragraphs]\n",
    "    else:\n",
    "        data[nom_formation]['Competences'] = [\"Competences not found.\"]\n",
    "    \n",
    "    # Find the table with id 'Mpro'\n",
    "    table = soup.find('table', id='Mpro')\n",
    "    \n",
    "    # Parse semester-wise course details\n",
    "    if table:\n",
    "        semesters = table.find_all('tr')\n",
    "        for semester in semesters:\n",
    "            semester_name = semester.find('th').text.strip()\n",
    "            courses = semester.find('td').text.strip()\n",
    "            courses_list = courses.split('• ')\n",
    "            data[nom_formation][semester_name] = [course.strip() for course in courses_list if course.strip()]\n",
    "    else:\n",
    "        data[nom_formation]['Semesters'] = \"No semester-wise course details found.\"\n",
    "    \n",
    "    # Find the coordinator information\n",
    "    coordinator_div = soup.find('div', id='coordinateur-tab')\n",
    "    \n",
    "    # Parse coordinator information\n",
    "    if coordinator_div:\n",
    "        coordinator_info = coordinator_div.text.strip()\n",
    "        coordinator_name, contact_info = coordinator_info.split(':', 1)\n",
    "        data[nom_formation]['Coordinnateur'] = coordinator_name.strip()\n",
    "        data[nom_formation]['Coordinnateur Email'] = contact_info.strip()\n",
    "    else:\n",
    "        data[nom_formation]['Coordinnateur'] = \"Coordinator information not found.\"\n",
    "        data[nom_formation]['Coordinnateur Email'] = \"\"\n",
    "\n",
    "    # Read existing data from JSON file\n",
    "    try:\n",
    "        with open(file, 'r', encoding='utf-8') as json_file:\n",
    "            existing_data = json.load(json_file)\n",
    "    except FileNotFoundError:\n",
    "        existing_data = {}\n",
    "\n",
    "    # Update existing data with new data\n",
    "    existing_data.update(data)\n",
    "    \n",
    "    # Write updated data to JSON file\n",
    "    with open(file, 'w', encoding='utf-8') as json_file:\n",
    "        json.dump(existing_data, json_file, indent=4, ensure_ascii=False)\n",
    "    \n",
    "    print(f\"Information for {nom_formation} saved to {file}.\")"
   ],
   "metadata": {
    "collapsed": false,
    "ExecuteTime": {
     "end_time": "2024-05-25T10:06:11.856745Z",
     "start_time": "2024-05-25T10:06:11.759818Z"
    }
   },
   "id": "c3d136a2ecdf33d8"
  },
  {
   "cell_type": "code",
   "execution_count": 110,
   "outputs": [
    {
     "name": "stdout",
     "output_type": "stream",
     "text": [
      "Information for lst-analytique-des-donnees saved to Formation_licence.json.\n",
      "Information for lst-biotechnologies saved to Formation_licence.json.\n",
      "Information for lst-design-industriel-et-productique saved to Formation_licence.json.\n",
      "Information for lst-energies-renouvelables saved to Formation_licence.json.\n",
      "Information for lst-genie-civil saved to Formation_licence.json.\n",
      "Information for lst-8-genie-des-procedes saved to Formation_licence.json.\n",
      "Information for lst-genie-electrique-option-genieelectrique-systeme-industriel saved to Formation_licence.json.\n",
      "Information for lst-genie-industriel saved to Formation_licence.json.\n",
      "Information for lst-genie-informatique saved to Formation_licence.json.\n",
      "Information for lst-geosciences-appliquees saved to Formation_licence.json.\n",
      "Information for lst-ingenierie-de-developpement-dapplications-informatiques saved to Formation_licence.json.\n",
      "Information for lst-ingenierie-statistique saved to Formation_licence.json.\n",
      "Information for lst-mathematiques-et-applications saved to Formation_licence.json.\n",
      "Information for lst-mathematiques-et-informatique-decisionnelles saved to Formation_licence.json.\n",
      "Information for lst-rrn saved to Formation_licence.json.\n",
      "Information for lst-statistique-et-science-des-donnees saved to Formation_licence.json.\n",
      "Information for lst-techniques-danalyses-chimiques saved to Formation_licence.json.\n"
     ]
    }
   ],
   "source": [
    "Licence('lst-analytique-des-donnees')\n",
    "Licence('lst-biotechnologies')\n",
    "Licence('lst-design-industriel-et-productique')\n",
    "Licence('lst-energies-renouvelables')\n",
    "Licence('lst-genie-civil')\n",
    "Licence('lst-8-genie-des-procedes')\n",
    "Licence('lst-genie-electrique-option-genieelectrique-systeme-industriel')\n",
    "Licence('lst-genie-industriel')\n",
    "Licence('lst-genie-informatique')\n",
    "Licence('lst-geosciences-appliquees')\n",
    "Licence('lst-ingenierie-de-developpement-dapplications-informatiques')\n",
    "Licence('lst-ingenierie-statistique')\n",
    "Licence('lst-mathematiques-et-applications')\n",
    "Licence('lst-mathematiques-et-informatique-decisionnelles')\n",
    "Licence('lst-rrn')\n",
    "Licence('lst-statistique-et-science-des-donnees')\n",
    "Licence('lst-techniques-danalyses-chimiques')"
   ],
   "metadata": {
    "collapsed": false,
    "ExecuteTime": {
     "end_time": "2024-05-25T10:06:21.147245Z",
     "start_time": "2024-05-25T10:06:12.744361Z"
    }
   },
   "id": "38735bf2a582437c"
  },
  {
   "cell_type": "markdown",
   "source": [
    "\n",
    "\n",
    "\n",
    "<h1 style=\"text-align:center; font-size:200%;\">3.Formation Master</h1>\n",
    "\n"
   ],
   "metadata": {
    "collapsed": false
   },
   "id": "c40155f98bfbe836"
  },
  {
   "cell_type": "code",
   "execution_count": 77,
   "outputs": [],
   "source": [
    "def Master(nom_formation, file=None):\n",
    "    # Construct the URL based on the provided formation name\n",
    "    url = f\"https://fstt.ac.ma/Portail2023/{nom_formation}/\"\n",
    "    \n",
    "    # Fetch and parse the page\n",
    "    soup = fetch_page(url)\n",
    "    if not soup:\n",
    "        print(f\"Failed to retrieve the page for {nom_formation}.\")\n",
    "        return\n",
    "\n",
    "    # Prepare the output string\n",
    "    output = f\"\\nInformation for {nom_formation}:\\n\"\n",
    "    \n",
    "    # Find the active div containing course information\n",
    "    active_div = soup.find('div', class_='eael-tabs-content')\n",
    "    \n",
    "    # Print course information if found\n",
    "    if active_div:\n",
    "        paragraphs = active_div.find_all('p', align='justify')\n",
    "        if paragraphs:\n",
    "            for paragraph in paragraphs:\n",
    "                output += paragraph.text.strip() + '\\n'\n",
    "    else:\n",
    "        output += \"No course information found.\\n\"\n",
    "                \n",
    "    # Find the competences\n",
    "    competences_div = soup.find('div', id='competences-visees-et-debouches-tab')\n",
    "    \n",
    "    # Print competences if found\n",
    "    if competences_div:\n",
    "        # Option 1: Check for ul tag\n",
    "        competences_list = competences_div.find('ul')\n",
    "        if competences_list:\n",
    "            competences_items = competences_list.find_all('li')\n",
    "            if competences_items:\n",
    "                output += \"\\nCompetences:\\n\"\n",
    "                for competence in competences_items:\n",
    "                    output += competence.text.strip() + '\\n'\n",
    "        \n",
    "        # Option 2: Check for p tag\n",
    "        else:\n",
    "            competences_paragraphs = competences_div.find_all('p', align='justify')\n",
    "            if competences_paragraphs:\n",
    "                output += \"\\nCompetences:\\n\"\n",
    "                for paragraph in competences_paragraphs:\n",
    "                    output += paragraph.text.strip() + '\\n'\n",
    "        \n",
    "    else:\n",
    "        output += \"Competences not found.\\n\"\n",
    "        \n",
    "    # Find the table with id 'Mpro'\n",
    "    table = soup.find('table', id='Mpro')\n",
    "    \n",
    "    # Print semester-wise course details if found\n",
    "    if table:\n",
    "        semesters = table.find_all('tr')\n",
    "        for semester in semesters:\n",
    "            semester_name = semester.find('th').text.strip()\n",
    "            courses = semester.find('td').text.strip()\n",
    "            courses = courses.replace('• ', '\\n- ')\n",
    "            output += f\"\\n{semester_name}:\\n\"\n",
    "            output += courses + '\\n'\n",
    "    else:\n",
    "        output += \"No semester-wise course details found.\\n\"\n",
    "    \n",
    "    # Find the coordinator information\n",
    "    coordinator_div = soup.find('div', id='coordinateur-tab')\n",
    "    \n",
    "    # Print coordinator information if found\n",
    "    if coordinator_div:\n",
    "        coordinator_info = coordinator_div.text.strip()\n",
    "        coordinator_name, contact_info = coordinator_info.split(':', 1)\n",
    "        result = f\"{coordinator_name.strip()} :{contact_info.strip()}\"\n",
    "        output += f\"\\n{result}\\n\"\n",
    "    else:\n",
    "        output += \"Coordinator information not found.\\n\"\n",
    "    \n",
    "    # If file is provided, write to it; otherwise, print to console\n",
    "    if file:\n",
    "        file.write(output)\n",
    "    else:\n",
    "        print(output)"
   ],
   "metadata": {
    "collapsed": false,
    "ExecuteTime": {
     "end_time": "2024-05-23T23:02:39.105804Z",
     "start_time": "2024-05-23T23:02:39.080232Z"
    }
   },
   "id": "5b74e25174cfd5f"
  },
  {
   "cell_type": "code",
   "execution_count": 83,
   "outputs": [
    {
     "name": "stdout",
     "output_type": "stream",
     "text": [
      "Le Master Analyse Appliquée et Ingénierie Statistique (MAAIS) de l'Université Abdelmalek Essaadi a pour vocation d'offrir des parcours qui trouvent leurs bases dans une approche pluridisciplinaire. Au département de mathématiques on propose aux étudiants d’acquérir une double compétence en mathématiques et en statistiques appliquées s’appuyant sur un tronc commun développant des concepts et des outils de base. Pour une approche pluridisciplinaire des problèmes liés aux applications, les mathématiques et les statistiques appliquées ne peuvent que former des étudiants pour la recherche et les activités professionnelles de haut niveau avec un bon bagage mathématique. La spécialisation se ferait au terme du second semestre (S2) selon le choix des étudiants. En plus une bonne formation en tronc commun solide permettra de mieux optimiser les ressources humaines surtout au niveau des encadrants des PFEs (Master) et/ou des Doctorants.\n",
      "\n",
      "Competences:\n",
      "\n",
      "Donner une formation mathématique et statistique de haut niveau et vise à développer les compétences en communication et l'autonomie des étudiants.\n",
      "Connaissance de méthodes mathématiques et statistiques pour la résolution de problèmes issus d'autres disciplines (physique, chimie, biologie, informatique, économie, etc.).\n",
      "Compréhension et analyse de documents scientifiques et de grandes bases de données.\n",
      "Conduite d'un projet d'une durée d’un semestre.\n",
      "Rédaction de rapports et présentation d'exposés de nature mathématique.\n",
      "Préparation à l'agrégation de mathématiques et concours des professeurs de second cycle.\n",
      "Ingénieur en simulation numérique\n",
      "\n",
      "Semestre 1:\n",
      "\n",
      "- Statistique mathématique (inférence 1)\n",
      "- Programmation avancée\n",
      "- Compléments d’analyses\n",
      "- Compléments d’algèbres\n",
      "- Analyse Numérique Matricielle et Calcul Parallèle\n",
      "- Équation différentielle stochastique (EDS)\n",
      "\n",
      "Semestre 2:\n",
      "\n",
      "- Théorie des EDP\n",
      "- Statistiques décisionnelles et simulation\n",
      "- Analyse fonctionnelle appliquée I\n",
      "- Les éléments finis et calculs scientifiques\n",
      "- Optimisation et contrôle optimale\n",
      "- Anglais Scientifique I (Soft Skills)\n",
      "\n",
      "Semestre 3 - SA:\n",
      "\n",
      "- Analyses de données & BIG DATA\n",
      "- ANOVA & Modèles MIXTES\n",
      "- Techniques de Sondages\n",
      "- Statistique des valeurs extrêmes\n",
      "- Séries chronologiques\n",
      "- Anglais Scientifiques II (Soft Skills)\n",
      "\n",
      "Semestre 3 - SM:\n",
      "\n",
      "- Homogénéisation et Analyses asymptotiques\n",
      "- Modélisation 1 et Système dynamiques\n",
      "- Réseaux de Neurones et Apprentissage Automatique & Programmation avancée 2\n",
      "- Espaces Lebesgue et Sobolev & Méthode variationelle\n",
      "- Analyses numériques des systèmes hyperboliques & Méthodes des volumes finis\n",
      "- Analyse numérique\n",
      "\n",
      "Coordinnateur pédagogique :Pr.EL HALIMI Rachid          :  r.elhalimi@uae.ac.ma\n"
     ]
    }
   ],
   "source": [
    "Master('mst-analyse-appliquee-etingenierie-statistique')"
   ],
   "metadata": {
    "collapsed": false,
    "ExecuteTime": {
     "end_time": "2024-04-19T23:43:13.283095Z",
     "start_time": "2024-04-19T23:43:12.458590Z"
    }
   },
   "id": "845fd2405df35220"
  },
  {
   "cell_type": "code",
   "execution_count": 84,
   "outputs": [
    {
     "name": "stdout",
     "output_type": "stream",
     "text": [
      "Le master BCMB vise la formation des spécialistes dans le domaine des Biotechnologies capables de répondre aux exigences de la recherche fondamentale et appliquée, et de s’adapter au marché de l’emploi dans les secteurs socio-économique et industriel. Le lauréat sera doté d’une nouvelle conception à la biologie alliant théorie à la pratique. A l’issu de cette formation, le lauréat sera capable d’élaborer des protocoles, de maîtriser la manipulation, de pouvoir analyser et exploiter les résultats expérimentaux obtenus. Il sera aussi capable d’innover en apportant des solutions dans le domaine des Biotechnologies, d’animer une équipe et de gérer des projets, de rédiger mémoires et articles scientifiques, rapports et présenter des exposés.\n",
      "L’objectif final est de former des chercheurs et des cadres de haut niveau, spécialistes en biotechnologies appliquées notamment dans les domaines de la sélection et l’amélioration génétique des plantes.\n",
      "Les lauréats ont la possibilité de continuer leurs études en formation doctorale, comme ils peuvent intégrer le monde de travail dans plusieurs secteurs publics et privés. Les profils et métiers visés par cette formation couvrent plusieurs secteurs publics, industriels et de service.\n",
      "\n",
      "Competences:\n",
      "\n",
      "Secteur public : chercheur, responsable, ingénieur dans des organismes dépendant de plusieurs ministères en particulier, du ministère de l’environnement, de l’agriculture et pêches maritimes, santé publique, éducation nationale et recherche scientifique ainsi que le ministère de l’intérieur.\n",
      "Industries : Ingénieur et chef d’équipe en industrie agroalimentaire, pharmaceutique, médicale et toute industrie ayant un pôle Biotechnologie.\n",
      "Service : poste de responsabilité dans les laboratoires publics ou privés d’analyse et de contrôle, organismes d’expertise, service vétérinaire et agricole, service de douanes, services spécialisés dans la gestion et le traitement des eaux, des déchets, bureaux d'études, hygiène et sécurité alimentaire, etc\n",
      "\n",
      "Semestre 1:\n",
      "\n",
      "- Techniques Expérimentales en Biotechnologie\n",
      "- Biologie Moléculaire\n",
      "- Technologie d’ADN recombinant\n",
      "- Communication cellulaire et voies de signalisation\n",
      "- BioInformatique\n",
      "- Du protocole expérimental à la rédaction scientifique\n",
      "\n",
      "Semestre 2:\n",
      "\n",
      "- Microbiologie Appliquée\n",
      "- Génomique\n",
      "- Concepts de Base en Génétique Quantitative\n",
      "- Protéomique\n",
      "- Technologie de transformation et de valorisation des bio-ressources\n",
      "- Système de Management intégré QSE\n",
      "\n",
      "Semestre 3 - BVA:\n",
      "\n",
      "- Fonctionnement des cellules végétales \n",
      "- Interaction plante/Microorganismes,application en agroécologie\n",
      "- Technologies des PAM et des microalgues\n",
      "- Marqueurs moléculaires et cartographie génétique\n",
      "- Épidémiologie et contrôle des maladies dans les plantes de grande culture\n",
      "- Biotechnologie des Biomolécules\n",
      "\n",
      "Semestre 3 - BV:\n",
      "\n",
      "- Techniques d’amélioration et de sélection chez les plante\n",
      "- Pathologie microbienne des plantes\n",
      "- Biochimie Intégrative du Végétal\n",
      "- Interaction plantes-microorganismes\n",
      "- Lutte Biologique et Protection Intégrée des Plantes\n",
      "- Kit Pour l’Emploi/ Projet professionnel\n",
      "\n",
      "Semestre 3 - BA:\n",
      "\n",
      "- Neurobiologie Cellulaire\n",
      "- Biologie de développement\n",
      "- Pathologies et génétique moléculaire\n",
      "- Techniques d’amélioration et de sélection chez les animaux\n",
      "- Thérapie Cellulaire et Génique\n",
      "- Kit Pour l’Emploi/ Projet professionnel\n",
      "\n",
      "Semestre 4:\n",
      "\n",
      "- Projet de fin d’étude\n",
      "\n",
      "Coordinnateur pédagogique :Pr.Mohamed NHIRI             :  mnhiri@uae.ac.ma\n"
     ]
    }
   ],
   "source": [
    "Master('mst-bases-cellulaires-etmoleculaires-en-')"
   ],
   "metadata": {
    "collapsed": false,
    "ExecuteTime": {
     "end_time": "2024-04-19T23:43:37.010742Z",
     "start_time": "2024-04-19T23:43:35.733566Z"
    }
   },
   "id": "b584bef02062383"
  },
  {
   "cell_type": "code",
   "execution_count": 85,
   "outputs": [
    {
     "name": "stdout",
     "output_type": "stream",
     "text": [
      "Encore peu développée au Maroc, l’aquaculture offre des perspectives de développement très intéressantes. Le Maroc s’est donné tous les moyens pour insuffler une nouvelle dynamique dans le secteur halieutique, à travers le lancement du plan décennal 2015-2024 pour le développement de l’aquaculture continentale et le plan Halieutis qui vise une expansion importante de l’aquaculture marine. Les prévisions tablent sur une expansion importante de l’aquaculture, des industries et des services associés. C’est pour cette raison, et en vue de répondre aux besoins immédiats en métiers relatifs à la gestion et l’exploitation de l’environnement incluant les ressources aquacoles continentales et marines que se place le projet master interuniversitaire « Environnement, aquaculture et développement durable ( البيئة وتربية الأحياء المائية والتنمية المستدامة ).\n",
      "Ce master consiste en une formation pratique et interdisciplinaire. Elle pourvoit à une intégration aisée dans la vie active professionnelle. Il s'agit de former des cadres spécialisés dans le domaine de l’environnement, de l’aquaculture et du développement durable disposant d’une grande base de connaissances scientifiques pluridisciplinaires, leur permettant d’appréhender pertinemment la complexité et la dynamique environnementale des systèmes aquatiques et la problématique de leur gestion intégrée.\n",
      "L’éventail des métiers ciblés couvre les domaines dans lesquels les diplômés de ce Master auront développé des connaissances scientifiques et un savoir-faire pratique et professionnel, notamment la production aquacole à divers niveaux de responsabilité, la création de nouveaux projets aquacoles, les industries directement liées à l'aquaculture, la transformation du poisson et de marketing. Les futurs diplômés peuvent également intégrer les institutions administratives et professionnelles, les institutions de recherche scientifique et technique, etc.\n",
      "\n",
      "Competences:\n",
      "\n",
      "L’éventail des métiers ciblés couvre les domaines dans lesquels les diplômés de ce Master auront développé des connaissances scientifiques et un savoir-faire pratique et professionnel, notamment la production aquacole à divers niveaux de responsabilité, la création de nouveaux projets aquacoles, les industries directement liées à l'aquaculture, la transformation du poisson et de marketing. Les futurs diplômés peuvent également intégrer les institutions administratives et professionnelles, les institutions de recherche scientifique et technique, etc.\n",
      "\n",
      "Semestre 1:\n",
      "\n",
      "- Écosystèmes aquatiques et pollution : salubrité et biosurveillance gouvernance\n",
      "- typologie des écosystèmes aquatiques\n",
      "- Ressources halieutiques (biologie, évaluation et gestion) \n",
      "- Téledetection et traitement d’images optiques\n",
      "- Analyse bio statistique/Méthodologie de la rédaction\n",
      "- Anglais/développement personnel\n",
      "\n",
      "Semestre 2:\n",
      "\n",
      "- Océanologie\n",
      "- Ingénierie aquacol/ gestion des entreprises aquacoles\n",
      "- SIG Appliqués\n",
      "- Pathologie des organismes aquatiques/Amélioration génétique des espèces d’élevage\n",
      "- Base biologique de l’aquaculture/Alimentation et nutrition en aquaculture personnel\n",
      "- Economie de l'environnement, des ressources naturelles renouvelables et d’aquaculture\n",
      "\n",
      "Semestre 3:\n",
      "\n",
      "- Gestion intégrée des zones côtières et développement durable\n",
      "- Commercialisation, marketing et qualité des produits de la mer qualité/valorisation Gestion de Projet\n",
      "- Interaction environnement /aquaculture et aquaculture intégrée\n",
      "- Traitements physico-chimique des eaux / Bioremédiation\n",
      "- Gestion de projet\n",
      "- Management environnemental et droit de l’environnement\n",
      "\n",
      "Semestre 4:\n",
      "\n",
      "- Projet de fin d’étude\n",
      "\n",
      "Coordinnateur pédagogique :Pr.Hassan Er-RAIOUI             :  h.erraioui@fstt.ac.ma\n"
     ]
    }
   ],
   "source": [
    "Master('mst-environnement-aquacultureet-developpement-durable')"
   ],
   "metadata": {
    "collapsed": false,
    "ExecuteTime": {
     "end_time": "2024-04-19T23:48:02.150085Z",
     "start_time": "2024-04-19T23:47:59.881943Z"
    }
   },
   "id": "ee554e27492e8dc6"
  },
  {
   "cell_type": "code",
   "execution_count": 86,
   "outputs": [
    {
     "name": "stdout",
     "output_type": "stream",
     "text": [
      "L’activité accrue dans la recherche en géosciences appliquées aux prospections géoressources énergétiques et réservoirs s’intègre dans le cadre de la stratégie gouvernementale Marocaine « Stratégie Energétique Horizon 2030 » en tant qu’activité à fort impact économique pour le pays. C’est dans ce Contexte que l’Etat marocain s’est mis sur deux composantes en parallèle pour répondre à ses besoins en matière de l’énergie : Les Energies renouvelables (Solaire et Eolienne) et les Géoressources énergétiques (Gaz/Pétrole). Cette Dynamique a été accéléré par la mise en place des mesures fiscales en vue d’inciter l’exploration. Un dispositif qui a permis l’installation depuis 2012 de plus de 37 compagnies pétrolières étrangères, dont Repsol, Anadarko Petroleum, Kosmos Energy, Sound Energy, Chevron, deuxième compagnie pétrolière aux Etats-Unis, le géant pétrolier britannique British Petroleum (BP) et plusieurs autres en vue de mener des travaux d’exploration géologiques et géophysique pour la recherche d’hydrocarbures sur l’offshore Atlantique et sur l’Onshore Marocain sur plus de 770 000 Km². L’évaluation géologique, géophysique et pétrolière des différents permis et zones de reconnaissance a permis l’évidence de plusieurs « prospects » et « play concepts » notamment au niveau des permis Tendrara et dans le bassin du Gharb.\n",
      "Pour un accompagnement universitaire de la vision de la Stratégie Energétique Horizon 2030, ce Master « Géoressources énergétiques et Réservoirs » sera le PREMIER MASTER À L’ÉCHELLE NATIONALE s’intéressant aux Géoressources énergétiques et réservoirs et se présentera en tant qu’une nécessité objective afin d’assurer :\n",
      "Les principaux objectifs du Master GEORESERVES s’inscrivent dans le cadre national « Stratégie Energétique Horizon 2030 » et se focalisent essentiellement :\n",
      "Créer un label de renommé international pour la formation académique « Master GEORESERVES » en en faisant un pôle d’excellence d’innovation dans le domaine des géoressources énergétiques ; et ce en développant l’engagement et la responsabilisation du management pour instaurer une culture de la performance, de l’intégrité.\n",
      "Cette formation est proposée afin de former et Contribuer à la formation et la qualification de jeunes chercheurs des cadres à haut niveau capables d’intégrer les compagnies nationales et internationales opérant en géoressources énergétiques afin d’explorer de nouveaux marchés d’emplois au près des diverses compagnies pétrolières au Maroc, et également pour combler le vide en matière des cadres supérieurs qualifiés en géologie fondamentale nécessaires à plusieurs établissements universitaires, d’améliorer l’offre d’emploi sur le marché et de satisfaire le besoin en cadres des établissements privés, semi-publiques, et publiques notamment le service géologique et cartographique du ministère de l’énergie et des mines pour la revue et la réalisation de plusieurs cartes géologiques sachant bien leur utilité pour toute éventuelle exploration des ressources.\n",
      "\n",
      "Competences:\n",
      "\n",
      "Cette formation est proposée afin de former et Contribuer à la formation et la qualification de jeunes chercheurs des cadres à haut niveau capables d’intégrer les compagnies nationales et internationales opérant en géoressources énergétiques afin d’explorer de nouveaux marchés d’emplois au près des diverses compagnies pétrolières au Maroc, et également pour combler le vide en matière des cadres supérieurs qualifiés en géologie fondamentale nécessaires à plusieurs établissements universitaires, d’améliorer l’offre d’emploi sur le marché et de satisfaire le besoin en cadres des établissements privés, semi-publiques, et publiques notamment le service géologique et cartographique du ministère de l’énergie et des mines pour la revue et la réalisation de plusieurs cartes géologiques sachant bien leur utilité pour toute éventuelle exploration des ressources.\n",
      "\n",
      "Semestre 1:\n",
      "\n",
      "- Géodynamique et Analyse des Bassins Sédimentaires \n",
      "- Géologie structurale et Tectonophysique \n",
      "- Micropaléontologie intégrée \n",
      "- Géologie du Maroc et systèmes pétroliers associées \n",
      "- Mécanique des fluides et Hydraulique \n",
      "- Géomatique Appliquée aux Géoressources énergétiques\n",
      "\n",
      "Semestre 2:\n",
      "\n",
      "- Pétrologie Sédimentaire \n",
      "- Sédimentologie et paléoenvironnements sédimentaires \n",
      "- Modélisation et Simulation Numérique en Géosciences\n",
      "- Télédétection Optique et Radar Appliquées aux Géoressources énergétiques\n",
      "- Géostatistiques et analyse des données\n",
      "- Anglais scientifique et Développement personnel\n",
      "\n",
      "Semestre 3:\n",
      "\n",
      "- Introduction aux géosciences du pétrole\n",
      "- Caractéristiques géologiques et pétrophysiques des réservoirs\n",
      "- Hydrocarbures et maturité de la Matière Organique\n",
      "- Interprétation 2D-3D des profils séismiques\n",
      "- Prospection géophysique et techniques de forage\n",
      "- Management et Gestion de projets\n",
      "\n",
      "Semestre 4:\n",
      "\n",
      "- Stage d’initiation a la recherche\n",
      "\n",
      "Coordinnateur pédagogique :Pr.Mohamed Najib ZAGHLOUL             :  mzaghloul@uae.ac.ma\n"
     ]
    }
   ],
   "source": [
    "Master('mst-georessources-energetiques-et-reservoirs')"
   ],
   "metadata": {
    "collapsed": false,
    "ExecuteTime": {
     "end_time": "2024-04-19T23:48:04.017843Z",
     "start_time": "2024-04-19T23:48:03.259114Z"
    }
   },
   "id": "13577a6240b13fa"
  },
  {
   "cell_type": "code",
   "execution_count": 87,
   "outputs": [
    {
     "name": "stdout",
     "output_type": "stream",
     "text": [
      "Le programme vise la formation des cadres en Génie Civil. A l’issue des deux années de formation, le lauréat en Master de Génie Civil doit être capable d’intervenir dans la conception, le suivi et la réalisation de projets dans les secteurs du Bâtiments et des Travaux Publics.\n",
      "La formation vise, également, à développer chez l’étudiant l’esprit d’initiative, de responsabilité et de gestion. Outre les compétences scientifique et technique, le programme dispense un ensemble d’activités facilitant l’insertion professionnelle de l’étudiant : les techniques d’expression, les langues, conférences sur des réalisations de chantier, les visites d’entreprises et de chantiers…etc.\n",
      "Les connaissances et compétences acquises par la présente formation dans le domaine de Génie Civil peuvent être considérées à la pointe du savoir dans cette discipline.\n",
      "Ce haut niveau de qualification renforcé par un certain savoir de gérer des projets appliqués et de création d’entreprise, dispose nos lauréats d’une haute qualification leurs permettant, de choisir entre poursuivre des études doctorales, intégrer des établissements nationaux ou multinationaux œuvrant dans le domaine de génie Civil, ou la création de leur propre entreprise.\n",
      "\n",
      "Competences:\n",
      "\n",
      "Les connaissances et compétences acquises par la présente formation dans le domaine de Génie Civil peuvent être considérées à la pointe du savoir dans cette discipline.\n",
      "Ce haut niveau de qualification renforcé par un certain savoir de gérer des projets appliqués et de création d’entreprise, dispose nos lauréats d’une haute qualification leurs permettant, de choisir entre poursuivre des études doctorales, intégrer des établissements nationaux ou multinationaux œuvrant dans le domaine de génie Civil, ou la création de leur propre entreprise.\n",
      "\n",
      "Semestre 1:\n",
      "\n",
      "- Mathématiques Pour l’Ingénieur\n",
      "- Calculs et Analyses des Structures\n",
      "- Géotechnique\n",
      "- Géophysique Appliquée & Géo-risques\n",
      "- Méthodes Numériques\n",
      "- Matériaux de construction\n",
      "\n",
      "Semestre 2:\n",
      "\n",
      "- Béton précontraint\n",
      "- Dynamique et calcul parasismique\n",
      "- Transferts thermiques et Acoustique\n",
      "- Béton armé\n",
      "- Procédés Généraux de Constructions\n",
      "- Routes\n",
      "\n",
      "Semestre 3:\n",
      "\n",
      "- Ouvrages de Génie Civil\n",
      "- Assainissement\n",
      "- Construction Métallique\n",
      "- Urbanisme, Architecture et Construction\n",
      "- Efficacité Énergétique\n",
      "- Management de projet & BIM appliquée\n",
      "\n",
      "Semestre 4:\n",
      "\n",
      "- Projet de fin d'étude\n",
      "\n",
      "Coordinnateur pédagogique :Pr.Dkiouak Rachid            :  r.dkiouak@uae.ac.ma\n"
     ]
    }
   ],
   "source": [
    "Master('mst-genie-civil')"
   ],
   "metadata": {
    "collapsed": false,
    "ExecuteTime": {
     "end_time": "2024-04-19T23:48:05.460033Z",
     "start_time": "2024-04-19T23:48:04.781601Z"
    }
   },
   "id": "cf391d2eff9dfbea"
  },
  {
   "cell_type": "code",
   "execution_count": 88,
   "outputs": [
    {
     "name": "stdout",
     "output_type": "stream",
     "text": [
      "Le Master Génie des Matériaux pour Plasturgie et Métallurgie (GMPM) se positionne dans le contexte de synergie ; Formation / Recherche / Industrie, avec des enseignements en relation avec les activités des industries de la région. Le programme vise à fournir des bases de chimie, génie des matériaux, mécanique avec un lien entre les procédés d’élaboration, de synthèse et de mise en forme de la matière première ainsi que l’étude des propriétés structurales et/ou fonctionnelles des matériaux tels que les polymères, les composites, les alliages métalliques, les céramiques et les biomatériaux.\n",
      "\n",
      "Competences:\n",
      "\n",
      "Élaboration, caractérisation et contrôle des matériaux\n",
      "Exigences liées au choix des matériaux\n",
      "Maîtrise des mécanismes de dégradation des matériaux et du comportement matériau/milieu\n",
      "\n",
      "Semestre 1:\n",
      "\n",
      "- Cristallographie et phénomènes\n",
      "- Métallurgie et matériaux métalliques\n",
      "- Formulation, rhéologie et modélisation\n",
      "- Verres, céramiques et matériaux\n",
      "- Polymères synthétiques\n",
      "- Anglais scientifique et communication\n",
      "\n",
      "Semestre 2:\n",
      "\n",
      "- Propriétés physiques et mécaniques\n",
      "- Métallurgie des poudres et fiabilité\n",
      "- Conception, modélisation et fabrication\n",
      "- Fonctionnalisation revêtements\n",
      "- Matériaux catalytiques\n",
      "- Gestion de projet, propriété\n",
      "\n",
      "Semestre 3:\n",
      "\n",
      "- Corrosion et Protection des matériaux\n",
      "- Techniques de caractérisation et d’analyses\n",
      "- Nanomatériaux et matériaux stratégiques\n",
      "- Mécanique de contact, tribologie\n",
      "- Choix des matériaux et procédés\n",
      "- Lean Management et analyse\n",
      "\n",
      "Semestre 4:\n",
      "\n",
      "- Projet de fin d’étude\n",
      "\n",
      "Coordinnateur pédagogique :Pr.Tarik CHAFIK            :  tchafik@uae.ac.ma\n"
     ]
    }
   ],
   "source": [
    "Master('mst-genie-des-materiaux-pour-plasturgie-et-metallurgie')"
   ],
   "metadata": {
    "collapsed": false,
    "ExecuteTime": {
     "end_time": "2024-04-19T23:48:07.187780Z",
     "start_time": "2024-04-19T23:48:06.630850Z"
    }
   },
   "id": "1bf61d7bb7d5d4b8"
  },
  {
   "cell_type": "code",
   "execution_count": 89,
   "outputs": [
    {
     "name": "stdout",
     "output_type": "stream",
     "text": [
      "Former des lauréats pour accompagner la stratégie énergétique nationale et mettre sur le marché du travail des jeunes « énergéticiens » capables de contribuer à la réalisation des différents projets dans le domaine d’énergétique.\n",
      "La formation vise à donner aux lauréats des compétences scientifiques dans le domaine de l’énergétique qui leur permettront de pouvoir intervenir pour la réalisation des audits énergétiques et réaliser le bilan des divers systèmes énergétiques et ceci pour améliorer leur efficacité énergétique (systèmes industriels, bâtiments….), de contribuer et d’accompagner la réalisation et le suivi des grands projets nationaux dans le domaine de l’énergétique (centrales thermiques, projets des énergies renouvelables, ….).\n",
      "La formation vise aussi à former des lauréats avec des bases scientifiques nécessaires dans le domaine de l’énergétique pour pouvoir poursuivre des travaux de recherche scientifique dans le cadre des études doctorales ou en intégrant des organismes de recherche dans le domaine de l’énergétique (IRESEN, AMEE, MASEN…).\n",
      "\n",
      "Competences:\n",
      "\n",
      "Intégrer les organismes étatiques et privés en tant que cadres supérieurs, chefs de projets ;\n",
      "Intégrer des bureaux d’études et éventuellement, créer leur propre bureau d’études ou leur propre entreprise ;\n",
      "Créer leur propre entreprise (installation des systèmes énergétiques, audit et diagnostic énergétique, réhabilitation énergétique des bâtiments) ;\n",
      "\n",
      "Semestre 1:\n",
      "\n",
      "- Thermodynamique Industrielle\n",
      "- Transferts Thermiques\n",
      "- Mathématiques de l’Ingénieur\n",
      "- Mécanique des Fluides\n",
      "- Méthodes Numériques\n",
      "- Matériaux pour l’Énergie\n",
      "\n",
      "Semestre 2:\n",
      "\n",
      "- Métrologie Thermique & Échangeurs Thermiques\n",
      "- Production & Stockage de l’Énergie\n",
      "- Automatique & Régulation\n",
      "- Ingénierie des Procédés\n",
      "- Énergie Éolienne\n",
      "- Langues et Techniques de Communication (TEC)\n",
      "\n",
      "Semestre 3:\n",
      "\n",
      "- Énergétique du bâtiment\n",
      "- Énergie Solaire\n",
      "- Efficacité Énergétique\n",
      "- Bioénergie\n",
      "- Gestion de la maintenance et Sureté de fonctionnement\n",
      "- Gestion de Projets & Gestion d’Entreprises\n",
      "\n",
      "Semestre 4:\n",
      "\n",
      "- Projet de Fin d’Etudes\n",
      "\n",
      "Coordinnateur pédagogique :Pr.Abdessalam DRAOUI            :  adraoui@uae.ac.ma\n"
     ]
    }
   ],
   "source": [
    "Master('mst-genie-energetique')"
   ],
   "metadata": {
    "collapsed": false,
    "ExecuteTime": {
     "end_time": "2024-04-19T23:48:09.136663Z",
     "start_time": "2024-04-19T23:48:08.119575Z"
    }
   },
   "id": "2353346d6af845f"
  },
  {
   "cell_type": "code",
   "execution_count": 90,
   "outputs": [
    {
     "name": "stdout",
     "output_type": "stream",
     "text": [
      "Ce Master « IE2C2D » a été préparé dans le cadre d’une convention de partenariat entre l’Université Abdelmalek Essaâdi (UAE) et le Centre de Compétences Changements Climatiques du Maroc (4C Maroc) avec le soutien du Programme des Nations Unies pour le Développement (PNUD).\n",
      "Ce master a pour but de répondre à la demande extrêmement forte de former des experts professionnels multidisciplinaires en changement climatique capables d’élaborer des projets et de concevoir des stratégies pour le développement.\n",
      "\n",
      "Cette formation fournit des bases fondamentales et appliquées indispensable pour traiter des problèmes environnementaux, et des problèmes de changement climatique, et aussi initier des stratégies de développement durable.\n",
      "\n",
      "Les modules de cette filière sont relatifs aux études de l’Ingénierie Environnementale, Changement climatique et Développement Durable. Elle offre une formation de professionnalisation et de recherche-développement.\n",
      "\n",
      "Ces experts seront amenés à travailler dans les métiers verts de différents secteurs publics ou privés touchant aux domaines d’adaptation au changement climatique, Atténuation au changement climatique, de l'ingénierie environnementale ou du développement économique et de l'expertise. Ils pourront intervenir sur des problématiques aussi variées que les risques naturels, les pollutions chimiques ou physiques et leurs impacts sur les écosystèmes, mais aussi sur des aspects liés au développement durable, à la gestion de l’environnement.\n",
      "Cette formation fournit des bases fondamentales et appliquées indispensable pour traiter des problèmes environnementaux, et des problèmes de changement climatique, et aussi initier des stratégies de développement durable.\n",
      "\n",
      "Les modules de cette filière sont relatifs aux études de l’Ingénierie Environnementale, Changement climatique et Développement Durable. Elle offre une formation de professionnalisation et de recherche-développement.\n",
      "\n",
      "Ces experts seront amenés à travailler dans les métiers verts de différents secteurs publics ou privés touchant aux domaines d’adaptation au changement climatique, Atténuation au changement climatique, de l'ingénierie environnementale ou du développement économique et de l'expertise. Ils pourront intervenir sur des problématiques aussi variées que les risques naturels, les pollutions chimiques ou physiques et leurs impacts sur les écosystèmes, mais aussi sur des aspects liés au développement durable, à la gestion de l’environnement.\n",
      "Les modules de cette filière sont relatifs aux études de l’Ingénierie Environnementale, Changement climatique et Développement Durable. Elle offre une formation de professionnalisation et de recherche-développement.\n",
      "\n",
      "Ces experts seront amenés à travailler dans les métiers verts de différents secteurs publics ou privés touchant aux domaines d’adaptation au changement climatique, Atténuation au changement climatique, de l'ingénierie environnementale ou du développement économique et de l'expertise. Ils pourront intervenir sur des problématiques aussi variées que les risques naturels, les pollutions chimiques ou physiques et leurs impacts sur les écosystèmes, mais aussi sur des aspects liés au développement durable, à la gestion de l’environnement.\n",
      "Ces experts seront amenés à travailler dans les métiers verts de différents secteurs publics ou privés touchant aux domaines d’adaptation au changement climatique, Atténuation au changement climatique, de l'ingénierie environnementale ou du développement économique et de l'expertise. Ils pourront intervenir sur des problématiques aussi variées que les risques naturels, les pollutions chimiques ou physiques et leurs impacts sur les écosystèmes, mais aussi sur des aspects liés au développement durable, à la gestion de l’environnement.\n",
      "\n",
      "Competences:\n",
      "\n",
      "Cadre dans le secteur privé ou public capable de faire la Diagnostic, planification et élaboration de stratégies pour le développement des régions vulnérables (Adaptation au changement climatique/ Atténuation du Changement Climatique). Concepteur de plans et dimensionnement d'installations énergétiquement efficientes, gestion et maintenance.\n",
      "Cadre aux métiers verts qui sont de plus en plus sollicités par les acteurs économiques pour relever leurs défis d’intégrer les marchés internationaux, notamment de l’union européenne qui exigent des niveaux de conformité avec des normes élevés d’atténuation des émissions des Gaz à effet de serre.\n",
      "Responsable de bureau de changement climatique\n",
      "Chargés de mener des évaluations de risques environnementaux ; impliqués dans les procédés industriels et leurs conséquences sanitaires; concernés par la gestion de risques sanitaires liés à l'environnement.\n",
      "Possédant les compétences scientifiques nécessaires à l'analyse, la prévention et le traitement des pollutions et des nuisances d'origines chimiques et capables d'effectuer des études sur les impacts environnementaux d'une activité ou d'un\n",
      "aménagement, de prendre en compte les contraintes imposées par l'environnement sur les activités humaines (évaluation des risques - inondations, mouvements de terrain) et de proposer des stratégies environnementales en conformité avec les réglementations en cours.\n",
      "Chercheurs dans des domaines associant la chimie ; « R&D » dans des entreprises développant un pôle environnement ou dépollution (automobiles, traitement des déchets, de l'air, industrie nucléaire); cadres dans les agences spécialisées en\n",
      "environnement et les réseaux de mesure et de surveillance de la pollution atmosphérique.\n",
      "Négociateurs de contrats (acquisitions ou échanges de technologies), responsables dans le domaine de la propriété intellectuelle, responsables technico-commerciaux, conseil en matière d'élaboration de programmes de développement durable.\n",
      "\n",
      "Semestre 1:\n",
      "\n",
      "- Gestions des Ressources Hydriques et Changement Climatique\n",
      "- Développement Durable et Changement Climatique\n",
      "- Gestion des Déchets et Economie Circulaire\n",
      "- Analyse de Cycle de Vie et Empreinte Carbone\n",
      "- Formation et Traitement des Polluants Atmosphérique\n",
      "- Méthodes de Collecte et Analyse de Données\n",
      "\n",
      "Semestre 2:\n",
      "\n",
      "- Techniques d'Expressions et Anglais Scientifique\n",
      "- Énergies Renouvelables et Efficacité Énergétique\n",
      "- Télédétection et Système d'Information Géographique\n",
      "- Statistiques/ Plans d'Expérience et Modélisation de Process\n",
      "- Management Environnemental dans l'Entreprise\n",
      "- Écotoxicologie du Sol\n",
      "\n",
      "Semestre 3:\n",
      "\n",
      "- Méthodologie de la Recherche Scientifique/Conférences\n",
      "- Anglais Scientifique II\n",
      "- Accords,Négociations, Instruments de Changement Climatique\n",
      "- Vulnérabilité et Adaptation  au Changement Climatique\n",
      "- Inventaire de Gaz à Effet de Serre et Atténuation au Changement Climatique\n",
      "- Science et Politique de Changement Climatique\n",
      "\n",
      "Semestre 4:\n",
      "\n",
      "- Projet de fin d’étude\n",
      "\n",
      "Coordinnateur pédagogique :Pr.HOUDA EL AYADI          :  h.elayadi@uae.ac.ma\n"
     ]
    }
   ],
   "source": [
    "Master('mst-ingenierie-environnementale-changement-climatique-et-developpement-durable')"
   ],
   "metadata": {
    "collapsed": false,
    "ExecuteTime": {
     "end_time": "2024-04-19T23:48:10.273446Z",
     "start_time": "2024-04-19T23:48:09.723977Z"
    }
   },
   "id": "958b991960f73acf"
  },
  {
   "cell_type": "code",
   "execution_count": 91,
   "outputs": [
    {
     "name": "stdout",
     "output_type": "stream",
     "text": [
      "Cette formation d'excellence offre de solides connaissances en conception de systèmes d'intelligence artificielle et mathématiques appliquées afin de couvrir l'ensemble des problématiques de traitement et d'analyse des données massives que rencontre les entreprises. Elle met l'accent sur l'articulation entre apprentissage automatique, gestion et fouille de grandes masses de données, paradigmes du Big Data, représentation des connaissances, le traitement des données et sur les méthodologies récemment développées.\n",
      "\n",
      "Semestre 1:\n",
      "\n",
      "- THÉORIES ET SYSTÈMES DE RAISONNEMENTS INTELLIGENTS\n",
      "- MATHÉMATIQUES POUR ANALYSE DE DONNÉES\n",
      "- PROGRAMMATION AVANCÉE\n",
      "- BASES DE DONNÉES AVANCÉES\n",
      "- MACHINE LEARNING 1\n",
      "- ANGLAIS ET TECHNIQUE D’EXPRESSION\n",
      "\n",
      "Semestre 2:\n",
      "\n",
      "- INFRASTRUCTURE ET ARCHITECTURE DES SYSTÈMES DISTRIBUES & BIG DATA\n",
      "- PLATEFORMES IOT CORE: TECHNOLOGIES, DATA ET IA\n",
      "- METAHEURISTIQUES & ALGORITHMES DE RECHERCHE STOCHASTIQUE\n",
      "- SMA & NLP\n",
      "- DATAMING & BI\n",
      "- DEVELOPPEMENT PERSONNEL ET INTELLIGENCE EMOTIONNELL\n",
      "\n",
      "Semestre 3:\n",
      "\n",
      "- MULTIMEDIA MINING AND INDEXING\n",
      "- MACHINE LEARNING 2 : DEEP and TRANSFERT LEARNING\n",
      "- DATA SPACES & DATA  INTEGRATION & SEMANTIC INTEROPERABILITY \n",
      "- BLOCKCHAIN & SECURITE APPLICATIVE\n",
      "- VIRTUALIZATION, CLOUD AND EDGE COMPUTING\n",
      "- DIGITAL BUSINESS STRATEGIES  LEADERSHIP IN THE AGE OF AI\n",
      "\n",
      "Semestre 4:\n",
      "\n",
      "- Projet de fin d’étude\n",
      "\n",
      "Coordinnateur pédagogique :Pr.EZZIYYANI MOSTAFA          :  mezziyyani@uae.ac.ma\n"
     ]
    }
   ],
   "source": [
    "Master('mst-intelligence-artificielle-et-sciences-de-donnees')"
   ],
   "metadata": {
    "collapsed": false,
    "ExecuteTime": {
     "end_time": "2024-04-19T23:48:11.994904Z",
     "start_time": "2024-04-19T23:48:11.016556Z"
    }
   },
   "id": "f36d0bdf6d746dc"
  },
  {
   "cell_type": "code",
   "execution_count": 92,
   "outputs": [
    {
     "name": "stdout",
     "output_type": "stream",
     "text": [
      "Récemment, le \"Big Data\" et la mobiquité sont devenus un véritable enjeu stratégique et économique. Le traitement et l’exploitation massive des Méga données est désormais une priorité stratégique pour s’engager dans l’évolution. En effet, ses applications se font sentir dans des domaines aussi variés que les sciences, le marketing, le développement durable, les transports, la santé et l’éducation, et représente un potentiel énorme de création d’emplois.\n",
      "Le Master a pour but, de former des étudiants capables de répondre aux besoins de collecte, stockage, traitement et analyse des données massives, afin d’accompagner les organisations dans des processus de développement stratégique.\n",
      "\n",
      "Competences:\n",
      "\n",
      "Big Data Architecte\n",
      "Big Data Analyst\n",
      "Data Scientist\n",
      "Développeur Mobile\n",
      "Administrateur des bases de données\n",
      "\n",
      "Semestre 1:\n",
      "\n",
      "- Programmation Orientée Objet Avancée : Java Et Python\n",
      "- Systèmes Embarqués Et Mobilité\n",
      "- Recherche Opérationnelle Et Théorie des Graphes\n",
      "- IP Mobile Et Protocoles\n",
      "- Administration Des Bases De Données\n",
      "- Anglais\n",
      "\n",
      "Semestre 2:\n",
      "\n",
      "- Data Mining Et Machine Learning\n",
      "- Statistique Descriptive Et Inférentielle\n",
      "- Bases Des Données Nosql\n",
      "- Architecture Et Technologies Big Data\n",
      "- Cloud Computing Et Virtualization\n",
      "- Soft Skills\n",
      "\n",
      "Semestre 3:\n",
      "\n",
      "- Analysis, Mining And Indexing In Big Multimedia Systems\n",
      "- Développement Mobile\n",
      "- Big Data Analytics\n",
      "- Objets Connectés Et Intelligence Artificielle Distribuée & SMA\n",
      "- Big Data Et Sécurité\n",
      "- Management De Projet Et Gestion De L'innovation\n",
      "\n",
      "Semestre 4:\n",
      "\n",
      "- Projet de fin d’étude\n",
      "\n",
      "Coordinnateur pédagogique :Pr.Mohamed BEN AHMED             :  mbenahmed@uae.ac.ma\n"
     ]
    }
   ],
   "source": [
    "Master('mst-mobiquite-et-big-data')"
   ],
   "metadata": {
    "collapsed": false,
    "ExecuteTime": {
     "end_time": "2024-04-19T23:48:13.803535Z",
     "start_time": "2024-04-19T23:48:12.791518Z"
    }
   },
   "id": "dfa06644c54915c2"
  },
  {
   "cell_type": "code",
   "execution_count": 93,
   "outputs": [
    {
     "name": "stdout",
     "output_type": "stream",
     "text": [
      "Le Master Modélisation Mathématique et Science de Données (MMSD) de l'Université Abdelmalek Essaadi a pour vocation d'offrir des parcours qui trouvent leurs bases dans une approche pluridisciplinaire. Au département de mathématiques on propose aux étudiants d’acquérir une double compétence en Modélisation Mathématiques et en Science de Données s’appuyant sur la maîtrise de l'informatique scientifique notamment pour le calcul haute Performance, la Statistique et la Science de Données. Cela peut inclure des compétences en programmation, en visualisation de données et en utilisation de bibliothèques de modélisation.\n",
      "Pour une approche pluridisciplinaire des problèmes liés aux applications, la Modélisation Mathématique et la Science de Données ne peuvent que former des étudiants pour la recherche et les activités professionnelles de haut niveau avec des compétences nécessaires pour mener un travail de recherche et/ou de développement en misant sur : l’autonomie dans l’analyse d’un problème complexe et la proposition d’approches (théoriques, numériques et/ou expérimentales) appropriées ; la maîtrise de l’outil informatique (notamment pour l’analyse de grandes quantités de données) et le calcul scientifique qui se pose à l’entreprise et une solution innovante et compétitive.\n",
      "Capacité de communication : Les étudiants doivent être capables de présenter et de communiquer efficacement leurs résultats et leurs conclusions. Des compétences en visualisation des données et en présentation orale sont essentielles.\n",
      "En plus une bonne formation en MMSD permettra de mieux optimiser les ressources humaines surtout au niveau des encadrants des PFEs (Master) et/ou des Doctorants.\n",
      "\n",
      "Competences:\n",
      "\n",
      "Donner une formation mathématique et statistique-informatique de haut niveau et vise à développer les compétences en communication et l'autonomie des étudiants.\n",
      "Connaissance des outils pratiques de modélisation mathématiques et d’analyse des données pour la résolution de problèmes issus d'autres disciplines (physique, chimie, biologie, informatique, économie, etc.).\n",
      "Compréhension et analyse de documents scientifiques et de grandes bases de données.\n",
      "Conduite d'un projet d'une durée d’un semestre.\n",
      "Rédaction de rapports et présentation d'exposés de nature mathématique.\n",
      "Préparation à l'agrégation de mathématiques et concours des professeurs de second cycle.\n",
      "Ingénieur en simulation numérique\n",
      "\n",
      "Semestre 1:\n",
      "\n",
      "- Anglais Scientifique I & Soft Skils\n",
      "- Programmation Avancée avec Python et R\n",
      "- Analyse Numérique Matricielle Avancée\n",
      "- Modélisation et calcul fractionnaire \n",
      "- Equation différentielle stochastique (EDS)\n",
      "- Analyse fonctionnelle et applications\n",
      "\n",
      "Semestre 2:\n",
      "\n",
      "- Sécurité Informatique\n",
      "- Analyse numérique des EDPs\n",
      "- Séminaire / Initiation à la recherche  \n",
      "- IA et Machine Learning\n",
      "- Statistiques des valeurs extrêmes\n",
      "- Analyse asymptotique et modélisation\n",
      "\n",
      "Semestre 3:\n",
      "\n",
      "- Analyses de données /BIG DATA \n",
      "- Modèles Mixtes et applications sous R\n",
      "- Semi Groupes et équation d'évolution  \n",
      "- Optimisation et contrôle Optimal\n",
      "- Séries chronologiques et Méthodes de prévision\n",
      "- Anglais Scientifique II & Soft Skils\n",
      "\n",
      "Semestre 4:\n",
      "\n",
      "- Projet de fin d’étude\n",
      "\n",
      "Coordinnateur pédagogique :Pr.EL HALIMI Rachid        :  r.elhalimi@uae.ac.ma\n"
     ]
    }
   ],
   "source": [
    "Master('mst-modelisation-mathematique-et-science-de-donnees')"
   ],
   "metadata": {
    "collapsed": false,
    "ExecuteTime": {
     "end_time": "2024-04-19T23:48:15.746485Z",
     "start_time": "2024-04-19T23:48:14.750609Z"
    }
   },
   "id": "f696af27f7c88570"
  },
  {
   "cell_type": "code",
   "execution_count": 94,
   "outputs": [
    {
     "name": "stdout",
     "output_type": "stream",
     "text": [
      "L'objectif global de cette formation du Master est de former des ressources humaines dont le pays a besoin pour un développement optimal des sciences agroalimentaires.Parmi les objectifs spécifiques :\n",
      "\n",
      "Competences:\n",
      "\n",
      "Conduite d’un projet R&D\n",
      "Caractérisation physico-chimique, nutritionnelle, organoleptique et rhéologique des aliments\n",
      "Méthodes d’analyse des données et d’interprétation des résultats\n",
      "Formation générale à la communication et à la connaissance de l’environnement professionnel.\n",
      "\n",
      "Semestre 1:\n",
      "\n",
      "- Procédés industriels\n",
      "- Techniques d’analyses des biomolécules 1\n",
      "- Anglais scientifique\n",
      "- Biochimie alimentaire\n",
      "- Microbiologie Alimentaire\n",
      "- Exploitation des Données expérimentales\n",
      "\n",
      "Semestre 2:\n",
      "\n",
      "- Techniques d’analyses des biomolécules 2\n",
      "- Production animale/Production végétale\n",
      "- Marketing et économie de filière\n",
      "- Réglementation et système de management de la santé et sécurité alimentaire\n",
      "- Filière de production : Transformation des produits d’origine végétale \n",
      "- Filière de production : Transformation des produits d’origine animale\n",
      "\n",
      "Semestre 3:\n",
      "\n",
      "- Formulation, et chimie des aliments\n",
      "- Emballage et sécurité alimentaire\n",
      "- Soft Skill\n",
      "- Analyse de cycle de vie et valorisation des bioressources et biodéchets\n",
      "- Valeur nutritionnelle et sensorielle\n",
      "- Gestion de projet\n",
      "\n",
      "Semestre 4:\n",
      "\n",
      "- Stage d’initiation a la recherche\n",
      "\n",
      "Coordinnateur pédagogique :Pr.Amin LAGLAOUI            :  alaglaoui@uae.ac.ma\n"
     ]
    }
   ],
   "source": [
    "Master('mst-sciences-agroalimentaires')"
   ],
   "metadata": {
    "collapsed": false,
    "ExecuteTime": {
     "end_time": "2024-04-19T23:48:18.804345Z",
     "start_time": "2024-04-19T23:48:17.996976Z"
    }
   },
   "id": "3b1a8b2bd145d667"
  },
  {
   "cell_type": "code",
   "execution_count": 95,
   "outputs": [
    {
     "name": "stdout",
     "output_type": "stream",
     "text": [
      "Cette formation permettra aux étudiants d’acquérir une spécialisation en environnement répondant aux exigences de la recherche fondamentale et appliquée, et apportant une ouverture sur les applications de la recherche dans les secteurs socio-économiques.\n",
      "\n",
      "Competences:\n",
      "\n",
      "D’identifier et d’évaluer les différentes pollutions et de mettre en œuvre des technologies de traitements appropriés ;\n",
      "D’acquérir les grandes techniques d’instrumentation, d’analyse et de contrôle pour la protection de l’environnement ;\n",
      "De se préparer aux carrières de recherche universitaire et industrielle ;\n",
      "\n",
      "Semestre 1:\n",
      "\n",
      "- Procédés de séparation\n",
      "- Chimie de l’environnement et rejets urbains\n",
      "- Statistique et Simulation numérique\n",
      "- Microbiologie de l’Environnement\n",
      "- Changements climatiques\n",
      "- Anglais/ Expression et communication environnementale\n",
      "\n",
      "Semestre 2:\n",
      "\n",
      "- Fonctionnement et préservation des écosystèmes/Étude d’impact sur l’environnement\n",
      "- Ressources hydriques et risque de contamination\n",
      "- Risques environnementaux nature/ Gestion des déchets\n",
      "- Bio-remédiation et lutte biologique en environnement\n",
      "- Méthodes spectrométriques\n",
      "- Droit et management environnement\n",
      "\n",
      "Semestre 3:\n",
      "\n",
      "- Génie physico-chimique des traitements des eaux/ Dépollution atmosphérique\n",
      "- Environnement marin\n",
      "- Gestion des déchets, traitement et valorisation\n",
      "- Gestion intégrée des zones côtières/Développement durable\n",
      "- Microorganismes et Environnement\n",
      "- Gestion de projet\n",
      "\n",
      "Semestre 4:\n",
      "\n",
      "- Projet de fin d’étude\n",
      "\n",
      "Coordinnateur Pédagogique :Pr.A.El Arrim            :  a.elarrim@uae.ac.ma\n"
     ]
    }
   ],
   "source": [
    "Master('mst-sciences-delenvironnement')"
   ],
   "metadata": {
    "collapsed": false,
    "ExecuteTime": {
     "end_time": "2024-04-19T23:48:20.003171Z",
     "start_time": "2024-04-19T23:48:19.407277Z"
    }
   },
   "id": "bafe645da436fcc2"
  },
  {
   "cell_type": "code",
   "execution_count": 96,
   "outputs": [
    {
     "name": "stdout",
     "output_type": "stream",
     "text": [
      "Ce projet de Master représente le fruit d’un travail approfondi avec un financement de l’Union Européenne (Erasmus Plus - Capacity Building) impliquant 4 universités marocaines (Abdelmelk Essaâdi, IbnTofail, Mohammed V et Chouaib Doukkali). La finalité du projet est d’accompagner par la formation, la dynamique socioéconomique que connait le Maroc. En effet, avec ses 3500 kms de côte (façades Atlantique et méditerranée) le Royaume du Maroc se fixe un positionnement de Leader en Afrique et dans l’espace méditerranéen en matière de gestion intégrée du littoral et de ses infrastructures maritimes et portuaires de grande envergure. Cette gestion intégrée prend en considération l’ensemble des secteurs porteurs de richesse et de création d’emploi, à savoir, les secteurs de la pêche, le tourisme, l’aménagement du territoire, les changements climatiques, le transport, la logistique maritime etc. L’objectif final de ce projet est de former un potentiel humain compétent et rapidement opérationnel pour accompagner la dynamique nationale de développement relative aux différentes activités socioéconomiques du littoral marocain.\n",
      "Les deux premiers semestres de ce master constituent un tronc commun visant la mise à niveau des étudiants ayant des profils différents. Le 3ème semestre est dédié aux différents parcours ou options. Chaque option est prise en charge par chaque université engagée dans ce projet. La pluridisciplinarité constitue un atout essentiel de la formation et permet aux étudiants d'acquérir une vision large et globale sur le fonctionnement biogéochimique des écosystèmes littoraux et marins.\n",
      "Ce projet de Master ST est pluridisciplinaire. Il vise la formation d’un potentiel humain compétent et rapidement opérationnel dans toutes les activités liées au milieu marin et littoral (Pêche et aquaculture, tourisme balnéaire, activités portuaires, pollution marine et côtière, dynamique côtière, géophysique marine et côtière, géomorphologie et érosion littorale, ressources marines, impacts des changements climatiques, gestion spatiale, aménagement du territoire etc.\n",
      "\n",
      "Competences:\n",
      "\n",
      "Ce projet de Master ST est pluridisciplinaire. Il vise la formation d’un potentiel humain compétent et rapidement opérationnel dans toutes les activités liées au milieu marin et littoral (Pêche et aquaculture, tourisme balnéaire, activités portuaires, pollution marine et côtière, dynamique côtière, géophysique marine et côtière, géomorphologie et érosion littorale, ressources marines, impacts des changements climatiques, gestion spatiale, aménagement du territoire etc.\n",
      "\n",
      "Semestre 1:\n",
      "\n",
      "- Anglais scientifique\n",
      "- SPOC Risques Côtiers : RISCOMAR (cours en ligne)\n",
      "- Biologie des écosystèmes marins et côtiers\n",
      "- Valorisation des ressources marines\n",
      "- Géologie marine appliquée\n",
      "- Géomorphologie et dynamique du littoral\n",
      "\n",
      "Semestre 2:\n",
      "\n",
      "- Gestion de projets\n",
      "- Instrumentation pour des applications côtières et littorales\n",
      "- École de terrain : Approches thématiques\n",
      "- Océanographie physique\n",
      "- Introduction à la chimie des écosystèmes marins et côtiers\n",
      "- Droit et économie de la mer et de l’environnement littoral\n",
      "\n",
      "Semestre 3:\n",
      "\n",
      "- Aménagement du littoral et impacts socioéconomiques\n",
      "- Changements climatiques et risques côtiers\n",
      "- Érosion côtière et stabilité du littoral\n",
      "- Agro-écologie appliquée à l’aquaculture\n",
      "- Droit de la mer et géopolitique marine\n",
      "- Télédétection SIG\n",
      "\n",
      "Semestre 4:\n",
      "\n",
      "- Projet de Fin d’Etudes\n",
      "\n",
      "Coordinnateur pédagogique :Pr.Maatouk Mustapha            :  mmaatouk@uae.ac.ma\n"
     ]
    }
   ],
   "source": [
    "Master('mst-sciences-du-littoralapproche-pluridisciplinaire')"
   ],
   "metadata": {
    "collapsed": false,
    "ExecuteTime": {
     "end_time": "2024-04-19T23:48:21.497703Z",
     "start_time": "2024-04-19T23:48:20.515563Z"
    }
   },
   "id": "761f5ec83ad042ad"
  },
  {
   "cell_type": "code",
   "execution_count": 97,
   "outputs": [
    {
     "name": "stdout",
     "output_type": "stream",
     "text": [
      "La transformation digitale a profondément modifie tous les aspects du fonctionnement des entreprises et des organisations d’aujourd'hui. Le volume de données que les entreprises créent, manipulent et stockent augmente. De plus la dématérialisation massive des systèmes d'Information vers le cloud, l'explosion de l'internet des objets (IoT) dans un monde tout connecté accessible en mobilité avec smartphone, tablettes, la fraude sur internet via différentes techniques d'ingénierie sociale, la perte de données sensibles suite à des malversations, l'accroissement du télétravail utilisant des réseaux de communication vulnérables ( Internet, mobiles, wifi...) par conséquent les environnements informatiques des entreprises sont plus complexes qu'ils ne l'étaient auparavant, cette complexité crée une surface d'attaque étendue qui est plus difficile à surveiller et à sécuriser. Ceci oblige les entreprises et organisations à repenser leur approche du cyber sécurité, dans un cadre réglementaire de plus en plus contraignant, pour être en mesure de continuer à protéger leurs systèmes d'information de la \" Cyber-menace\" en constante évolution.\n",
      "Dans ce contexte, le Master Sciences et Technique: Sécurité IT et Big Data vise à former des étudiants capables de s'intégrer dans des projets d'envergure dans le domaine de la sécurité des données massives, en cryptographie, en sécurité des réseaux et des protocoles, ayant des grandes compétences et capacités avancés leurs permettant d'appréhender les modes de pensée des hackers, de mettre en place des audits cyber sécurité, d'imaginer les contremesures efficaces, de superviser les systèmes d'exploitation, les réseaux et les applications web, de mettre en place des approches de gouvernance de la sécurité, et enfin de gérer les risques.\n",
      "\n",
      "Competences:\n",
      "\n",
      "Ingénieur en Cyber Sécurité.\n",
      "Spécialiste en Gouvernance de la Sécurité.\n",
      "Spécialiste de sécurité applicative.\n",
      "Ethical Hacker.\n",
      "Expert en Cyber sécurité.\n",
      "Architecte Réseaux et Systèmes sécurisé.\n",
      "Big Data Architecte.\n",
      "Big Data Analyst.\n",
      "Administrateur sécurité réseaux.\n",
      "\n",
      "Semestre 1:\n",
      "\n",
      "- Programmation Orientée Objet Avancée en Java / Python\n",
      "- Réseaux avancés\n",
      "- Data Mining (DM) et Systèmes d’Aide à la Décision (DAS\n",
      "- Administration Systèmes et Réseaux\n",
      "- Concepts fondamentaux de l’intelligence artificielle\n",
      "- Anglais et technique d’expression\n",
      "\n",
      "Semestre 2:\n",
      "\n",
      "- Intelligence Artificielle Distribuée (SMA) & Apprentissage Automatique (ML)\n",
      "- Technologies IoT: Architectes, protocoles et applications\n",
      "- Virtualisation, Cloud et Edge Computing\n",
      "- Cryptographie Et Sécurité des Services\n",
      "- Architecture et Technologies Big Data\n",
      "- Gestion de l’innovation et management de projet informatique\n",
      "\n",
      "Semestre 3:\n",
      "\n",
      "- Cybersecurity & Ethical hacking\n",
      "- Calcul Haute Performance et Applications en Big Data\n",
      "- Deep learning et Applications\n",
      "- Administration des Bases de Données Distribuées et Clusters Big Data\n",
      "- Audit des systèmes d’information et Management de la sécurité des systèmes d’information\n",
      "- Développement Personnel Et Intelligence Émotionnelle\n",
      "\n",
      "Semestre 4:\n",
      "\n",
      "- Projet de fin d’étude\n",
      "\n",
      "Coordinnateur pédagogique :Pr.Abdelhamid ZOUHAIR\t        :  mstsit.bd@gmail.com\n"
     ]
    }
   ],
   "source": [
    "Master('mst-securite-it-et-big-data')"
   ],
   "metadata": {
    "collapsed": false,
    "ExecuteTime": {
     "end_time": "2024-04-19T23:48:23.163034Z",
     "start_time": "2024-04-19T23:48:22.048509Z"
    }
   },
   "id": "e7d2f3a532e6eb62"
  },
  {
   "cell_type": "code",
   "execution_count": 98,
   "outputs": [
    {
     "name": "stdout",
     "output_type": "stream",
     "text": [
      "L’administration des systèmes informatiques et mobiles, comme le Cloud Computing et les objets Internet interconnectés, est devenue aujourd’hui d’une grande nécessité, car ces systèmes sont utilisés dans pratiquement tous les secteurs de l’industrie. En effet, l’évolution de la télécommunication, des téléphones mobiles, des capteurs à prix réduits, et des systèmes Cloud Computing, a créé ce besoin, notamment pour mieux gérer ces infrastructures, qui font, désormais, partie de la vie du citoyen de tous les jours, par exemple dans les réseaux sociaux, les domaines bancaires, les transports, le e-commerce, etc.\n",
      "Ce Master a pour objectif de former des étudiants capables de répondre aux besoins de gestion et d’administration des systèmes informatiques et mobiles, tout en ayant les compétences nécessaires dans le développement d’applications spécifiques et de la sécurité, ceci afin d’accompagner les organisations dans leurs processus d’implémentation de systèmes informatiques modernes et évolués.\n",
      "\n",
      "Competences:\n",
      "\n",
      "Administration des infrastructures informatiques des établissements\n",
      "Implémentation et gestion des systèmes Cloud Computing\n",
      "Réalisation d’applications mobiles pour des besoins spécifiques\n",
      "Sécurité des systèmes d’information\n",
      "Gestion des systèmes mobiles et des objets connectés\n",
      "Administration des bases de données\n",
      "Administration de la sécurité réseaux\n",
      "Développement des applications Mobiles\n",
      "Développement des applications pour l’Internet des Objets\n",
      "\n",
      "Semestre 1:\n",
      "\n",
      "- Programmation Orientée Objet\n",
      "- Systèmes Embarqués Et Mobilité\n",
      "- Théorie des Graphes et Recherche\n",
      "- IP Mobile Et Protocoles\n",
      "- Administration Des Bases De Données\n",
      "- Anglais\n",
      "\n",
      "Semestre 2:\n",
      "\n",
      "- Data Mining et Machine Learning\n",
      "- Scripting Shell et programmation système\n",
      "- Administration systèmes et  réseaux\n",
      "- Administration systèmes et réseaux\n",
      "- Cloud Computing et Virtualisation\n",
      "- Soft Skills\n",
      "\n",
      "Semestre 3:\n",
      "\n",
      "- Analysis, Mining And Indexing In Big Multimedia Systems \n",
      "- Développement Mobile\n",
      "- Cyber sécurité et investigation\n",
      "- Objets Connectés et Intelligence\n",
      "- Calcul parallèle et application distribuées\n",
      "- Management de Projet et Gestion de l'Innovation\n",
      "\n",
      "Semestre 4:\n",
      "\n",
      "- Projet de fin d’étude\n",
      "\n",
      "Coordinnateur pédagogique :Pr.El Amrani Chaker           :  celamrani@uae.ac.ma\n"
     ]
    }
   ],
   "source": [
    "Master('mst-systemes-informatiqueset-mobiles')"
   ],
   "metadata": {
    "collapsed": false,
    "ExecuteTime": {
     "end_time": "2024-04-19T23:48:24.258643Z",
     "start_time": "2024-04-19T23:48:23.706638Z"
    }
   },
   "id": "32a80b7384e45b95"
  },
  {
   "cell_type": "code",
   "execution_count": 78,
   "outputs": [],
   "source": [
    "with open(\"FSTT_DATA.txt\", \"a\", encoding=\"utf-8\") as file:\n",
    "    Master('mst-analyse-appliquee-etingenierie-statistique', file)\n",
    "    Master('mst-bases-cellulaires-etmoleculaires-en-', file)\n",
    "    Master('mst-environnement-aquacultureet-developpement-durable', file)\n",
    "    Master('mst-georessources-energetiques-et-reservoirs', file)\n",
    "    Master('mst-genie-civil', file)\n",
    "    Master('mst-genie-des-materiaux-pour-plasturgie-et-metallurgie', file)\n",
    "    Master('mst-genie-energetique', file)\n",
    "    Master('mst-ingenierie-environnementale-changement-climatique-et-developpement-durable', file)\n",
    "    Master('mst-intelligence-artificielle-et-sciences-de-donnees', file)\n",
    "    Master('mst-mobiquite-et-big-data', file)\n",
    "    Master('mst-modelisation-mathematique-et-science-de-donnees', file)\n",
    "    Master('mst-sciences-agroalimentaires', file)\n",
    "    Master('mst-sciences-delenvironnement', file)\n",
    "    Master('mst-sciences-du-littoralapproche-pluridisciplinaire', file)\n",
    "    Master('mst-securite-it-et-big-data', file)\n",
    "    Master('mst-systemes-informatiqueset-mobiles', file)\n"
   ],
   "metadata": {
    "collapsed": false,
    "ExecuteTime": {
     "end_time": "2024-05-23T23:03:14.941297Z",
     "start_time": "2024-05-23T23:02:57.876640Z"
    }
   },
   "id": "24e3774a8cf3fe11"
  },
  {
   "cell_type": "markdown",
   "source": [
    "\n",
    "\n",
    "\n",
    "<h1 style=\"text-align:center; font-size:200%;\">Save Formation Master as Json</h1>\n",
    "\n"
   ],
   "metadata": {
    "collapsed": false
   },
   "id": "bb5299e488b06a0d"
  },
  {
   "cell_type": "code",
   "execution_count": 115,
   "outputs": [
    {
     "name": "stdout",
     "output_type": "stream",
     "text": [
      "Information for mst-analyse-appliquee-etingenierie-statistique saved to Formation_master.json.\n",
      "Information for mst-bases-cellulaires-etmoleculaires-en- saved to Formation_master.json.\n",
      "Information for mst-environnement-aquacultureet-developpement-durable saved to Formation_master.json.\n",
      "Information for mst-georessources-energetiques-et-reservoirs saved to Formation_master.json.\n",
      "Information for mst-genie-civil saved to Formation_master.json.\n",
      "Information for mst-genie-des-materiaux-pour-plasturgie-et-metallurgie saved to Formation_master.json.\n",
      "Information for mst-genie-energetique saved to Formation_master.json.\n",
      "Information for mst-ingenierie-environnementale-changement-climatique-et-developpement-durable saved to Formation_master.json.\n",
      "Information for mst-intelligence-artificielle-et-sciences-de-donnees saved to Formation_master.json.\n",
      "Information for mst-mobiquite-et-big-data saved to Formation_master.json.\n",
      "Information for mst-modelisation-mathematique-et-science-de-donnees saved to Formation_master.json.\n",
      "Information for mst-sciences-agroalimentaires saved to Formation_master.json.\n",
      "Information for mst-sciences-delenvironnement saved to Formation_master.json.\n",
      "Information for mst-sciences-du-littoralapproche-pluridisciplinaire saved to Formation_master.json.\n",
      "Information for mst-securite-it-et-big-data saved to Formation_master.json.\n",
      "Information for mst-systemes-informatiqueset-mobiles saved to Formation_master.json.\n"
     ]
    }
   ],
   "source": [
    "def Master(nom_formation, file=\"Formation_master.json\"):\n",
    "    # Construct the URL based on the provided formation name\n",
    "    url = f\"https://fstt.ac.ma/Portail2023/{nom_formation}/\"\n",
    "    \n",
    "    # Fetch and parse the page\n",
    "    soup = fetch_page(url)\n",
    "    if not soup:\n",
    "        print(f\"Failed to retrieve the page for {nom_formation}.\")\n",
    "        return\n",
    "\n",
    "    # Initialize dictionary to store information\n",
    "    data = {}\n",
    "    \n",
    "    # Add formation name to dictionary\n",
    "    data[nom_formation] = {}\n",
    "\n",
    "    # Find the description div\n",
    "    description_div = soup.find('div', class_='description')\n",
    "    if description_div:\n",
    "        data[nom_formation]['Description'] = description_div.text.strip()\n",
    "    else:\n",
    "        data[nom_formation]['Description'] = \"Description not found.\"\n",
    "    \n",
    "    # Find the competences\n",
    "    competences_div = soup.find('div', id='competences-visees-et-debouches-tab')\n",
    "    if competences_div:\n",
    "        competences_list = competences_div.find('ul')\n",
    "        if competences_list:\n",
    "            competences_items = competences_list.find_all('li')\n",
    "            if competences_items:\n",
    "                data[nom_formation]['Competences'] = [competence.text.strip() for competence in competences_items]\n",
    "        else:\n",
    "            competences_paragraphs = competences_div.find_all('p', align='justify')\n",
    "            if competences_paragraphs:\n",
    "                data[nom_formation]['Competences'] = [paragraph.text.strip() for paragraph in competences_paragraphs]\n",
    "    else:\n",
    "        data[nom_formation]['Competences'] = [\"Competences not found.\"]\n",
    "    \n",
    "    # Find the table with id 'Mpro'\n",
    "    table = soup.find('table', id='Mpro')\n",
    "    \n",
    "    # Parse semester-wise course details\n",
    "    if table:\n",
    "        semesters = table.find_all('tr')\n",
    "        for semester in semesters:\n",
    "            semester_name = semester.find('th').text.strip()\n",
    "            courses = semester.find('td').text.strip()\n",
    "            courses_list = [course.strip() for course in courses.split('• ') if course.strip()]\n",
    "            data[nom_formation][semester_name] = courses_list\n",
    "    else:\n",
    "        data[nom_formation]['Semesters'] = \"No semester-wise course details found.\"\n",
    "    \n",
    "    # Find the coordinator information\n",
    "    coordinator_div = soup.find('div', id='coordinateur-tab')\n",
    "    \n",
    "    # Parse coordinator information\n",
    "    if coordinator_div:\n",
    "        coordinator_info = coordinator_div.text.strip()\n",
    "        coordinator_name, contact_info = coordinator_info.split(':', 1)\n",
    "        data[nom_formation]['Coordinnateur'] = coordinator_name.strip()\n",
    "        data[nom_formation]['Coordinnateur Email'] = contact_info.strip()\n",
    "    else:\n",
    "        data[nom_formation]['Coordinnateur'] = \"Coordinator information not found.\"\n",
    "        data[nom_formation]['Coordinnateur Email'] = \"\"\n",
    "\n",
    "    # Read existing data from JSON file\n",
    "    try:\n",
    "        with open(file, 'r', encoding='utf-8') as json_file:\n",
    "            existing_data = json.load(json_file)\n",
    "    except FileNotFoundError:\n",
    "        existing_data = {}\n",
    "\n",
    "    # Update existing data with new data\n",
    "    existing_data.update(data)\n",
    "    \n",
    "    # Write updated data to JSON file\n",
    "    with open(file, 'w', encoding='utf-8') as json_file:\n",
    "        json.dump(existing_data, json_file, indent=4, ensure_ascii=False)\n",
    "    \n",
    "    print(f\"Information for {nom_formation} saved to {file}.\")\n",
    "\n",
    "# Example usage:\n",
    "Master('mst-analyse-appliquee-etingenierie-statistique')\n",
    "Master('mst-bases-cellulaires-etmoleculaires-en-')\n",
    "Master('mst-environnement-aquacultureet-developpement-durable')\n",
    "Master('mst-georessources-energetiques-et-reservoirs')\n",
    "Master('mst-genie-civil')\n",
    "Master('mst-genie-des-materiaux-pour-plasturgie-et-metallurgie')\n",
    "Master('mst-genie-energetique')\n",
    "Master('mst-ingenierie-environnementale-changement-climatique-et-developpement-durable')\n",
    "Master('mst-intelligence-artificielle-et-sciences-de-donnees')\n",
    "Master('mst-mobiquite-et-big-data')\n",
    "Master('mst-modelisation-mathematique-et-science-de-donnees')\n",
    "Master('mst-sciences-agroalimentaires')\n",
    "Master('mst-sciences-delenvironnement')\n",
    "Master('mst-sciences-du-littoralapproche-pluridisciplinaire')\n",
    "Master('mst-securite-it-et-big-data')\n",
    "Master('mst-systemes-informatiqueset-mobiles')"
   ],
   "metadata": {
    "collapsed": false,
    "ExecuteTime": {
     "end_time": "2024-05-25T10:20:05.413294Z",
     "start_time": "2024-05-25T10:19:53.437837Z"
    }
   },
   "id": "15deab04bef697be"
  },
  {
   "cell_type": "markdown",
   "source": [
    "\n",
    "\n",
    "\n",
    "<h1 style=\"text-align:center; font-size:200%;\">3.Formation cycle</h1>\n",
    "\n"
   ],
   "metadata": {
    "collapsed": false
   },
   "id": "eddd6168ed5f6db6"
  },
  {
   "cell_type": "code",
   "execution_count": 79,
   "outputs": [],
   "source": [
    "def cycle(nom_formation, file=None):\n",
    "    # Construct the URL based on the provided formation name\n",
    "    url = f\"https://fstt.ac.ma/Portail2023/{nom_formation}/\"\n",
    "    \n",
    "    # Fetch and parse the page\n",
    "    soup = fetch_page(url)\n",
    "    if not soup:\n",
    "        print(f\"Failed to retrieve the page for {nom_formation}.\")\n",
    "        return\n",
    "\n",
    "    # Prepare the output string\n",
    "    output = f\"\\nInformation for {nom_formation}:\\n\"\n",
    "    \n",
    "    # Find the active div containing course information\n",
    "    active_div = soup.find('div', class_='eael-tabs-content')\n",
    "    \n",
    "    # Print course information if found\n",
    "    if active_div:\n",
    "        paragraphs = active_div.find_all('p', align='justify')\n",
    "        if paragraphs:\n",
    "            for paragraph in paragraphs:\n",
    "                output += paragraph.text.strip() + '\\n'\n",
    "    else:\n",
    "        output += \"No course information found.\\n\"\n",
    "                \n",
    "    # Find the competences\n",
    "    competences_div = soup.find('div', id='competences-visees-et-debouches-tab')\n",
    "    \n",
    "    # Print competences if found\n",
    "    if competences_div:\n",
    "        # Option 1: Check for ul tag\n",
    "        competences_list = competences_div.find('ul')\n",
    "        if competences_list:\n",
    "            competences_items = competences_list.find_all('li')\n",
    "            if competences_items:\n",
    "                output += \"\\nCompetences:\\n\"\n",
    "                for competence in competences_items:\n",
    "                    output += competence.text.strip() + '\\n'\n",
    "        \n",
    "        # Option 2: Check for p tag\n",
    "        else:\n",
    "            competences_paragraphs = competences_div.find_all('p', align='justify')\n",
    "            if competences_paragraphs:\n",
    "                output += \"\\nCompetences:\\n\"\n",
    "                for paragraph in competences_paragraphs:\n",
    "                    output += paragraph.text.strip() + '\\n'\n",
    "        \n",
    "    else:\n",
    "        output += \"Competences not found.\\n\"\n",
    "        \n",
    "    # Find the table with id 'Mpro'\n",
    "    table = soup.find('table', id='Mpro')\n",
    "    \n",
    "    # Print semester-wise course details if found\n",
    "    if table:\n",
    "        semesters = table.find_all('tr')\n",
    "        for semester in semesters:\n",
    "            semester_name = semester.find('th').text.strip()\n",
    "            courses = semester.find('td').text.strip()\n",
    "            courses = courses.replace('• ', '\\n- ')\n",
    "            output += f\"\\n{semester_name}:\\n\"\n",
    "            output += courses + '\\n'\n",
    "    else:\n",
    "        output += \"No semester-wise course details found.\\n\"\n",
    "    \n",
    "    # Find the coordinator information\n",
    "    coordinator_div = soup.find('div', id='coordinateur-tab')\n",
    "    \n",
    "    # Print coordinator information if found\n",
    "    if coordinator_div:\n",
    "        coordinator_info = coordinator_div.text.strip()\n",
    "        coordinator_name, contact_info = coordinator_info.split(':', 1)\n",
    "        result = f\"{coordinator_name.strip()} :{contact_info.strip()}\"\n",
    "        output += f\"\\n{result}\\n\"\n",
    "    else:\n",
    "        output += \"Coordinator information not found.\\n\"\n",
    "    \n",
    "    # If file is provided, write to it; otherwise, print to console\n",
    "    if file:\n",
    "        file.write(output)\n",
    "    else:\n",
    "        print(output)"
   ],
   "metadata": {
    "collapsed": false,
    "ExecuteTime": {
     "end_time": "2024-05-23T23:04:47.824587Z",
     "start_time": "2024-05-23T23:04:47.787030Z"
    }
   },
   "id": "a910a1f4b2351fee"
  },
  {
   "cell_type": "code",
   "execution_count": 100,
   "outputs": [
    {
     "name": "stdout",
     "output_type": "stream",
     "text": [
      "La formation proposée dans la spécialité Génie Electrique de la FST de Tanger a pour but de fournir au futur ingénieur en Génie Electrique tous les éléments indispensables à son insertion harmonieuse dans le monde industriel. Les enseignements associent théorie et techniques, expérimentation, projets et réalisations.\n",
      "Les enseignements dispensés sont répartis en quatre groupes de matières : des enseignements à caractère général, des disciplines fondamentales, un enseignement professionnel et une formation pratique par le biais de projets et de stages.\n",
      "\n",
      "Competences:\n",
      "\n",
      "La production, la distribution, la transformation et l'utilisation de l'énergie électrique. la conception et la mise en oeuvre d'ensembles formés par les machines électriques et les convertisseurs qui les alimentent;\n",
      "L'automatique et tous les aspects qui interviennent dans la commande des systèmes industriels;Dans la partie électronique, les systèmes sont étudiés du point de vue de leur conception, réalisation et mise en oeuvre.\n",
      "La gestion de la maintenance, l’ingénierie de la qualité et l’amélioration des processus industriels et assurance qualité\n",
      "\n",
      "Semestre 1:\n",
      "\n",
      "- Mathématiques pour l’Ingénieur\n",
      "- Informatique\n",
      "- Électronique\n",
      "- Instrumentation et Capteurs\n",
      "- Energétique et MDF\n",
      "- Communication professionnelle\n",
      "\n",
      "Semestre 2:\n",
      "\n",
      "- Ingénierie de la Qualité\n",
      "- Automatique linéaire continue et échantillonné\n",
      "- Conception et Procédés de fabrication\n",
      "- Automatisme\n",
      "- Culture et Gestion de l’entreprise\n",
      "- Anglais Technique\n",
      "\n",
      "Semestre 3:\n",
      "\n",
      "- Mathématiques pour l’ingénieur II\n",
      "- Électrotechnique\n",
      "- Traitement de signal \n",
      "- Les sources d’énergies et réseaux de distribution\n",
      "- Machines Industrielles\n",
      "- GRH & Droit du travail\n",
      "\n",
      "Semestre 4:\n",
      "\n",
      "- Gestion et Maintenance & Sûreté de fonctionnement\n",
      "- Machines électriques\n",
      "- Électronique de puissance\n",
      "- Systèmes à Microprocesseurs et à Microcontrôleurs\n",
      "- Soft Skills\n",
      "- Analyse Gestion de projets/ Comptabilité générale et analytique\n",
      "\n",
      "Semestre 5:\n",
      "\n",
      "- Modélisation et Commande des machines\n",
      "- Amélioration des processus industriels et Assurance Qualité\n",
      "- Automatique Avancée et électronique des systèmes\n",
      "- Systèmes embarqués et Temps réel\n",
      "- Réseaux et Télécommunication\n",
      "- Innovation et Développement Durable\n",
      "\n",
      "Semestre 6:\n",
      "\n",
      "- Projet de fin d’étude\n",
      "\n",
      "Coordinnateur pédagogique :Pr. Ibrahim HADJ BARAKA           :  ihadjbaraka@uae.ac.ma\n"
     ]
    }
   ],
   "source": [
    "cycle('genie-electrique-et-managementindustriel')"
   ],
   "metadata": {
    "collapsed": false,
    "ExecuteTime": {
     "end_time": "2024-04-19T23:49:47.353754Z",
     "start_time": "2024-04-19T23:49:46.776733Z"
    }
   },
   "id": "f38c9a209041938"
  },
  {
   "cell_type": "code",
   "execution_count": 101,
   "outputs": [
    {
     "name": "stdout",
     "output_type": "stream",
     "text": [
      "L'activité de l'ingénieur industriel s'étend des premiers contacts avec les clients jusqu'au recyclage du produit qu'il a conçu. Il assumera donc la responsabilité technique, économique et écologique de son projet. L’ingénieur mécanicien intervient dans différents domaines d’activités : automobile, sidérurgie, aéronautique, machines outils, biens de consommation, agroalimentaire.\n",
      "L’ingénieur mécanicien s’intègre facilement au sein d’une PME qu’au sein d’une grande entreprise. Dans ces secteurs d’activités il occupera des postes clés dans les domaines suivants: Recherche et développement, Bureaux d’Etudes, Conception et Fabrication, Services Production, Qualité, Maintenance, Services Logistiques, Responsable projet et développement, Vente, Mise en service, Exploitation, Gestion et administration, Formation.\n",
      "\n",
      "Competences:\n",
      "\n",
      "L'activité de l'ingénieur industriel s'étend des premiers contacts avec les clients jusqu'au recyclage du produit qu'il a conçu. Il assumera donc la responsabilité technique, économique et écologique de son projet. L’ingénieur mécanicien intervient dans différents domaines d’activités : automobile, sidérurgie, aéronautique, machines outils, biens de consommation, agroalimentaire.\n",
      "L’ingénieur mécanicien s’intègre facilement au sein d’une PME qu’au sein d’une grande entreprise. Dans ces secteurs d’activités il occupera des postes clés dans les domaines suivants: Recherche et développement, Bureaux d’Etudes, Conception et Fabrication, Services Production, Qualité, Maintenance, Services Logistiques, Responsable projet et développement, Vente, Mise en service, Exploitation, Gestion et administration, Formation.\n",
      "\n",
      "Semestre 1:\n",
      "\n",
      "- Mathématiques pour l’Ingénieur\n",
      "- Programmation C++ / JAVA\n",
      "- Automatique linière continue et échantillonné\n",
      "- Électronique\n",
      "- Énergétique et mécanique des fluides\n",
      "- Techniques d’expression et de communication\n",
      "\n",
      "Semestre 2:\n",
      "\n",
      "- Systèmes d’informations et base de données\n",
      "- Électricité industrielle\n",
      "- Automatisme\n",
      "- Conception & Procédés de Fabrication\n",
      "- Métrologie et Instrumentation\n",
      "- Culture et Gestion de l’Entreprise\n",
      "\n",
      "Semestre 3:\n",
      "\n",
      "- Méthodes Numériques et Optimisation des Processus\n",
      "- Électrotechnique et Machines Électriques\n",
      "- Automatique linéaire continue et échantillonné\n",
      "- Anglais Scientifique\n",
      "- Machines Industrielles\n",
      "- RDM et Matériaux\n",
      "\n",
      "Semestre 4:\n",
      "\n",
      "- Fiabilité Mécanique\n",
      "- Construction Mécanique\n",
      "- Fabrication Mécanique\n",
      "- Gestion de la Maintenance & Sûreté de fonctionnement\n",
      "- Ingénierie Matériaux & Vibrations Mécaniques\n",
      "- Communication professionnelle\n",
      "\n",
      "Semestre 5:\n",
      "\n",
      "- Gestion de Production et management de projet \n",
      "- GRH et Comptabilité Analytique \n",
      "- QSE et Laen Manufacturing\n",
      "- Outils de la Qualité et six sigma\n",
      "- Logistique, Gestion intégrée & transport\n",
      "- Innovation Et développement durable\n",
      "\n",
      "Semestre 6:\n",
      "\n",
      "- Projet de fin d’étude\n",
      "\n",
      "Coordinnateur pédagogique :Pr. Zoubir ELFELSOUFI             :  zefelsoufi@uae.ac.ma\n"
     ]
    }
   ],
   "source": [
    "cycle('di-genie-industriel')"
   ],
   "metadata": {
    "collapsed": false,
    "ExecuteTime": {
     "end_time": "2024-04-19T23:50:08.402922Z",
     "start_time": "2024-04-19T23:50:07.360308Z"
    }
   },
   "id": "d32892a77e0d3a24"
  },
  {
   "cell_type": "code",
   "execution_count": 102,
   "outputs": [
    {
     "name": "stdout",
     "output_type": "stream",
     "text": [
      "Le principal objectif de cette filière est de former des ingénieurs \"géo-informaticiens cartographes gestionnaires de l’information spatiale\" polyvalents, qui s'intéressent prioritairement à l'organisation, au traitement, à la gestion et à la production des données géographiques et environnementales au moyen de la cartographie, de la télédétection, de l'analyse spatiale quantitative et des systèmes d'informations géographiques.\n",
      "Ce programme permet à l'étudiant d’acquérir les connaissances et les compétences en géo-information et les technologies de l’information requises pour la mise en place d’infrastructures informatiques de pointe au service de la donnée géo-spatiale.\n",
      "Pour atteindre cet objectif, le programme s’appui sur une démarche active de prise en main des méthodes et outils de la géo-information résolument tournée vers les applications. Ils combinent des cours théoriques et pratiques incluant aussi des travaux de terrain et des travaux personnels encadrés, des études de cas de montage et de conduite de projets, des applications opérationnelles et des stages en milieux professionnels.\n",
      "\n",
      "Competences:\n",
      "\n",
      "Chef de projet informatique\n",
      "Administrateur de données\n",
      "Directeur de service cartographique\n",
      "Expert en acquisition et traitement de données spatiales\n",
      "Ingénieur adjoint en Gestion des réseaux (transport, distribution..)\n",
      "Expert en aménagement et développement durable\n",
      "Chef de mission géodésique et topographique…etc\n",
      "\n",
      "Semestre 1:\n",
      "\n",
      "- Algorithmique et programmation\n",
      "- Compléments de mathématique et Analyse numérique\n",
      "- Statistique/Analyse des données\n",
      "- Bases physiques de la télédétection/Traitement du signal\n",
      "- Communication professionnelle\n",
      "- Systèmes d’information et réseaux informatique\n",
      "\n",
      "Semestre 2:\n",
      "\n",
      "- Cartographie numérique et DAO\n",
      "- Programmation et modélisation Objet\n",
      "- Information géographique et systèmes de projection\n",
      "- Géométrie analytique et algorithmique\n",
      "- Anglais 1\n",
      "- Optimisation et analyse de systèmes\n",
      "\n",
      "Semestre 3:\n",
      "\n",
      "- Géodésie/Localisation par satellite (GPS)\n",
      "- Topographie\n",
      "- Bases de données  spatiales et relationnelles \n",
      "- Communication professionnelle/Méthode de recherche\n",
      "- Méthode d’analyse spatiales\n",
      "- Systèmes d’information géographique\n",
      "\n",
      "Semestre 4:\n",
      "\n",
      "- Télédétection Radar/Lidar\n",
      "- Télédétection et traitement d’images optique\n",
      "- Photogrammétrie\n",
      "- Programmation pour les SIG et pour la télédétection\n",
      "- Anglais 2\n",
      "- Wabemapping & Développement mobile\n",
      "\n",
      "Semestre 5:\n",
      "\n",
      "- Systèmes de Management de la qualité/Gestion del’entreprise & des ressources\n",
      "- Géoinformation et gestion de l’environnement et du territoire\n",
      "- SIG et prise de décision\n",
      "- Gestion et management de projet en Géoinformation\n",
      "- Gestion des réseaux et développement socioéconomique\n",
      "- Administration des données spatiales\n",
      "\n",
      "Semestre 6:\n",
      "\n",
      "- Projet de fin d’étude\n",
      "\n",
      "Coordinnateur pédagogique :Pr.Jamal Eddine EL ABDELLAOUI           :  j.elabdellaoui@uae.ac.ma\n"
     ]
    }
   ],
   "source": [
    "cycle('di-geoinformation')"
   ],
   "metadata": {
    "collapsed": false,
    "ExecuteTime": {
     "end_time": "2024-04-19T23:50:27.959631Z",
     "start_time": "2024-04-19T23:50:25.701959Z"
    }
   },
   "id": "4e2f758f51bbc548"
  },
  {
   "cell_type": "code",
   "execution_count": 103,
   "outputs": [
    {
     "name": "stdout",
     "output_type": "stream",
     "text": [
      "\n",
      "Competences:\n",
      "\n",
      "Concevoir et développer des plates formes logiciels desktop, logiciel et mobile\n",
      "Concevoir et mettre en place des systèmes d’aide à la décision\n",
      "Administrer une infrastructure informatique\n",
      "Gérer et conduire un projet informatique\n",
      "\n",
      "Semestre 1:\n",
      "\n",
      "- Architecture des ordinateurs & systèmes d'exploitation\n",
      "- Architecture réseaux & protocoles\n",
      "- Systèmes d’informations & bases de données\n",
      "- Programmation Orientée Objets en C++\n",
      "- Mathématiques pour l’ingénieur\n",
      "- Anglais et techniques de rédaction\n",
      "\n",
      "Semestre 2:\n",
      "\n",
      "- Programmation Orientée Objets en Java et Programmation Mobile\n",
      "- Développement web et Frameworks (php, zend, symfony\n",
      "- Théorie des graphes & Applications\n",
      "- Conception Orienté Objet (UML) & Qualité Logiciel\n",
      "- Statistique descriptive et inférentielle\n",
      "- Management & comptabilité\n",
      "\n",
      "Semestre 3:\n",
      "\n",
      "- Systèmes embarqués & Internet des objets\n",
      "- Gestion de projet Informatique & Planification des ressources d'entreprise (open ERP)\n",
      "- Administration des bases de données \n",
      "- Méthodologies de l'Intelligence Artificielle\n",
      "- Architectures web distribuées (J2EE)\n",
      "- Anglais Avancée & Techniques d'exposition\n",
      "\n",
      "Semestre 4:\n",
      "\n",
      "- Systèmes d’informations décisionnels & data mininig\n",
      "- Technologies .NET\n",
      "- Machine Learning & Systèmes multi-agents\n",
      "- Administration systèmes et réseaux\n",
      "- Procesus audit & Urbanisation des systèmes d’informations\n",
      "- Droit & gestion d'entreprise\n",
      "\n",
      "Semestre 5:\n",
      "\n",
      "- Business Intelligence & Big Data\n",
      "- Vision Artificielle\n",
      "- Sécurité Intelligente des Systèmes d’informations\n",
      "- Cloud Intelligence & virtualisation\n",
      "- Intelligence économique & Soft Skills\n",
      "- Anglais professionnel & techniques de coaching\n",
      "\n",
      "Semestre 6:\n",
      "\n",
      "- Projet de fin d’étude\n",
      "\n",
      "Coordinnateur pédagogique :Pr.Lotfi EL AACHAK            :  lelaachak@uae.ac.ma\n"
     ]
    }
   ],
   "source": [
    "cycle('di-logiciels-et-systemes-intelligents')"
   ],
   "metadata": {
    "collapsed": false,
    "ExecuteTime": {
     "end_time": "2024-04-19T23:50:44.737640Z",
     "start_time": "2024-04-19T23:50:43.744660Z"
    }
   },
   "id": "8012989c9d194b18"
  },
  {
   "cell_type": "code",
   "execution_count": 80,
   "outputs": [],
   "source": [
    "with open(\"FSTT_DATA.txt\", \"a\", encoding=\"utf-8\") as file:\n",
    "    cycle('genie-electrique-et-managementindustriel', file)\n",
    "    cycle('di-genie-industriel', file)\n",
    "    cycle('di-geoinformation', file)\n",
    "    cycle('di-logiciels-et-systemes-intelligents', file)"
   ],
   "metadata": {
    "collapsed": false,
    "ExecuteTime": {
     "end_time": "2024-05-23T23:04:54.985492Z",
     "start_time": "2024-05-23T23:04:53.247393Z"
    }
   },
   "id": "c4a0cca7d4a4e3d3"
  },
  {
   "cell_type": "markdown",
   "source": [
    "\n",
    "\n",
    "\n",
    "<h1 style=\"text-align:center; font-size:200%;\">Save Formation Cycle as Json</h1>\n",
    "\n"
   ],
   "metadata": {
    "collapsed": false
   },
   "id": "10d247fab632ac16"
  },
  {
   "cell_type": "code",
   "execution_count": 116,
   "outputs": [],
   "source": [
    "def cycle(nom_formation, file=\"Formation_cycle.json\"):\n",
    "    # Construct the URL based on the provided formation name\n",
    "    url = f\"https://fstt.ac.ma/Portail2023/{nom_formation}/\"\n",
    "    \n",
    "    # Fetch and parse the page\n",
    "    soup = fetch_page(url)\n",
    "    if not soup:\n",
    "        print(f\"Failed to retrieve the page for {nom_formation}.\")\n",
    "        return\n",
    "\n",
    "    # Initialize dictionary to store information\n",
    "    data = {}\n",
    "    \n",
    "    # Add formation name to dictionary\n",
    "    data[nom_formation] = {}\n",
    "\n",
    "    # Find the active div containing course information\n",
    "    active_div = soup.find('div', class_='eael-tabs-content')\n",
    "    if active_div:\n",
    "        paragraphs = active_div.find_all('p', align='justify')\n",
    "        if paragraphs:\n",
    "            data[nom_formation]['Description'] = \"\\n\".join(paragraph.text.strip() for paragraph in paragraphs)\n",
    "    else:\n",
    "        data[nom_formation]['Description'] = \"No course information found.\"\n",
    "    \n",
    "    # Find the competences\n",
    "    competences_div = soup.find('div', id='competences-visees-et-debouches-tab')\n",
    "    if competences_div:\n",
    "        competences_list = competences_div.find('ul')\n",
    "        if competences_list:\n",
    "            competences_items = competences_list.find_all('li')\n",
    "            if competences_items:\n",
    "                data[nom_formation]['Competences'] = [competence.text.strip() for competence in competences_items]\n",
    "        else:\n",
    "            competences_paragraphs = competences_div.find_all('p', align='justify')\n",
    "            if competences_paragraphs:\n",
    "                data[nom_formation]['Competences'] = [paragraph.text.strip() for paragraph in competences_paragraphs]\n",
    "    else:\n",
    "        data[nom_formation]['Competences'] = [\"Competences not found.\"]\n",
    "    \n",
    "    # Find the table with id 'Mpro'\n",
    "    table = soup.find('table', id='Mpro')\n",
    "    \n",
    "    # Parse semester-wise course details\n",
    "    if table:\n",
    "        semesters = table.find_all('tr')\n",
    "        for semester in semesters:\n",
    "            semester_name = semester.find('th').text.strip()\n",
    "            courses = semester.find('td').text.strip()\n",
    "            courses_list = [course.strip() for course in courses.split('• ') if course.strip()]\n",
    "            data[nom_formation][semester_name] = courses_list\n",
    "    else:\n",
    "        data[nom_formation]['Semesters'] = \"No semester-wise course details found.\"\n",
    "    \n",
    "    # Find the coordinator information\n",
    "    coordinator_div = soup.find('div', id='coordinateur-tab')\n",
    "    \n",
    "    # Parse coordinator information\n",
    "    if coordinator_div:\n",
    "        coordinator_info = coordinator_div.text.strip()\n",
    "        coordinator_name, contact_info = coordinator_info.split(':', 1)\n",
    "        data[nom_formation]['Coordinnateur'] = coordinator_name.strip()\n",
    "        data[nom_formation]['Coordinnateur Email'] = contact_info.strip()\n",
    "    else:\n",
    "        data[nom_formation]['Coordinnateur'] = \"Coordinator information not found.\"\n",
    "        data[nom_formation]['Coordinnateur Email'] = \"\"\n",
    "\n",
    "    # Read existing data from JSON file\n",
    "    try:\n",
    "        with open(file, 'r', encoding='utf-8') as json_file:\n",
    "            existing_data = json.load(json_file)\n",
    "    except FileNotFoundError:\n",
    "        existing_data = {}\n",
    "\n",
    "    # Update existing data with new data\n",
    "    existing_data.update(data)\n",
    "    \n",
    "    # Write updated data to JSON file\n",
    "    with open(file, 'w', encoding='utf-8') as json_file:\n",
    "        json.dump(existing_data, json_file, indent=4, ensure_ascii=False)\n",
    "    \n",
    "    print(f\"Information for {nom_formation} saved to {file}.\")\n"
   ],
   "metadata": {
    "collapsed": false,
    "ExecuteTime": {
     "end_time": "2024-05-25T10:25:42.258685Z",
     "start_time": "2024-05-25T10:25:42.159586Z"
    }
   },
   "id": "c31773b63e986cb0"
  },
  {
   "cell_type": "code",
   "execution_count": 117,
   "outputs": [
    {
     "name": "stdout",
     "output_type": "stream",
     "text": [
      "Information for genie-electrique-et-managementindustriel saved to Formation_cycle.json.\n",
      "Information for di-genie-industriel saved to Formation_cycle.json.\n",
      "Information for di-geoinformation saved to Formation_cycle.json.\n",
      "Information for di-logiciels-et-systemes-intelligents saved to Formation_cycle.json.\n"
     ]
    }
   ],
   "source": [
    "cycle('genie-electrique-et-managementindustriel')\n",
    "cycle('di-genie-industriel')\n",
    "cycle('di-geoinformation')\n",
    "cycle('di-logiciels-et-systemes-intelligents')"
   ],
   "metadata": {
    "collapsed": false,
    "ExecuteTime": {
     "end_time": "2024-05-25T10:25:57.850429Z",
     "start_time": "2024-05-25T10:25:55.594650Z"
    }
   },
   "id": "f61501d0c2209160"
  },
  {
   "cell_type": "code",
   "execution_count": null,
   "outputs": [],
   "source": [],
   "metadata": {
    "collapsed": false
   },
   "id": "89e83d973a030d5a"
  }
 ],
 "metadata": {
  "kernelspec": {
   "display_name": "Python 3",
   "language": "python",
   "name": "python3"
  },
  "language_info": {
   "codemirror_mode": {
    "name": "ipython",
    "version": 2
   },
   "file_extension": ".py",
   "mimetype": "text/x-python",
   "name": "python",
   "nbconvert_exporter": "python",
   "pygments_lexer": "ipython2",
   "version": "2.7.6"
  }
 },
 "nbformat": 4,
 "nbformat_minor": 5
}
