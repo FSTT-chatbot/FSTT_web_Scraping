{
 "cells": [
  {
   "cell_type": "code",
   "execution_count": 3,
   "outputs": [],
   "source": [
    "import requests\n",
    "from bs4 import BeautifulSoup\n",
    "import time"
   ],
   "metadata": {
    "collapsed": false,
    "ExecuteTime": {
     "end_time": "2024-05-24T10:32:56.502672Z",
     "start_time": "2024-05-24T10:32:56.499649Z"
    }
   },
   "id": "5bdd8ed1c9feae1d"
  },
  {
   "cell_type": "code",
   "execution_count": 4,
   "outputs": [],
   "source": [
    "def fetch_page(url):\n",
    "    headers = {\n",
    "        'User-Agent': 'Mozilla/5.0 (Windows NT 10.0; Win64; x64) AppleWebKit/537.36 (KHTML, like Gecko) Chrome/58.0.3029.110 Safari/537.3'}\n",
    "    \n",
    "    for attempt in range(5):  # Retry up to 5 times\n",
    "        try:\n",
    "            response = requests.get(url, headers=headers, timeout=10)\n",
    "            if response.status_code == 200:\n",
    "                return BeautifulSoup(response.content, 'html.parser')\n",
    "            else:\n",
    "                print(f\"Failed to fetch the webpage. Status code: {response.status_code}\")\n",
    "                return None\n",
    "        except requests.ConnectionError as e:\n",
    "            print(f\"ConnectionError: {e}. Retrying...\")\n",
    "            time.sleep(5)  # Wait for 5 seconds before retrying\n",
    "        except requests.Timeout as e:\n",
    "            print(f\"TimeoutError: {e}. Retrying...\")\n",
    "            time.sleep(5)  # Wait for 5 seconds before retrying\n",
    "    return None"
   ],
   "metadata": {
    "collapsed": true,
    "ExecuteTime": {
     "end_time": "2024-05-24T10:32:57.163322Z",
     "start_time": "2024-05-24T10:32:57.142157Z"
    }
   },
   "id": "initial_id"
  },
  {
   "cell_type": "code",
   "execution_count": 16,
   "outputs": [],
   "source": [
    "def presentation_Fstt(url, file_path=None):\n",
    "    # Fetch and parse the page\n",
    "    soup = fetch_page(url)\n",
    "    if not soup:\n",
    "        print(f\"Failed to retrieve the page from {url}.\")\n",
    "        return\n",
    "\n",
    "    # Find the specific div containing the paragraph\n",
    "    target_div = soup.find('div', class_='elementor-text-editor elementor-clearfix')\n",
    "\n",
    "    if target_div:\n",
    "        # Extract and clean the text from the target div\n",
    "        text_content = target_div.get_text(separator='\\n').strip()\n",
    "        print(text_content)\n",
    "        \n",
    "        # Write the content to the file if file_path is provided\n",
    "        if file_path:\n",
    "            with open(file_path, 'a', encoding='utf-8') as file:\n",
    "                file.write(text_content + '\\n\\n')\n",
    "    else:\n",
    "        print(\"No matching content found.\")\n",
    "\n",
    "    # Find the div containing the contact information\n",
    "    contact_div = soup.find('div', class_='elementor-widget-container')\n",
    "\n",
    "    if contact_div:\n",
    "        contact_info = \"\"\n",
    "        # Extract the phone number and email\n",
    "        phone_span = contact_div.find('span', class_='elementor-icon-list-icon').find_next('span', class_='elementor-icon-list-text')\n",
    "        email_span = contact_div.find('span', class_='elementor-icon-list-icon').find_next('span', class_='elementor-icon-list-text')\n",
    "        \n",
    "        phone = phone_span.get_text(strip=True) if phone_span else \"Phone number not found.\"\n",
    "        email = email_span.get_text(strip=True) if email_span else \"Email not found.\"\n",
    "\n",
    "        contact_info += f\"Phone: {phone}\\nEmail: {email}\\n\"\n",
    "        print(contact_info)\n",
    "\n",
    "        # Write the contact information to the file if file_path is provided\n",
    "        if file_path:\n",
    "            with open(file_path, 'a', encoding='utf-8') as file:\n",
    "                file.write(contact_info + '\\n\\n')\n",
    "    else:\n",
    "        print(\"No contact information found.\")\n"
   ],
   "metadata": {
    "collapsed": false,
    "ExecuteTime": {
     "end_time": "2024-05-24T14:04:42.993520Z",
     "start_time": "2024-05-24T14:04:42.988946Z"
    }
   },
   "id": "61c064cc41d8e16f"
  },
  {
   "cell_type": "code",
   "execution_count": 17,
   "outputs": [
    {
     "name": "stdout",
     "output_type": "stream",
     "text": [
      "I- PRESENTATION DE LA FST DE TANGER & DIAGNOSIQUE\n",
      "La Faculté des Sciences et Techniques de Tanger (FSTT), relevant de l’Université Abdelmalek Essaâdi a été créée en 1995. Elle fait partie des établissements de l’enseignement supérieur à accès régulé et a pour missions la formation initiale dans les domaines scientifiques et techniques, la formation continue ainsi que la recherche et le développement dans les domaines des sciences et techniques.\n",
      " \n",
      "Formation Initiale \n",
      "La FST de Tanger offre des cursus de formation qui préparent aux diplômes suivants :\n",
      "DEUST : Diplôme d’Etudes Universitaire en Sciences et Techniques (Bac +2).\n",
      "LST : Diplôme de Licence en Sciences et Techniques (Bac +3)\n",
      "MST : Diplôme de Master en Sciences et Techniques (Bac +5)\n",
      "DI : Diplôme d’Ingénieur d’État (Bac +5)\n",
      "Doctorat en Sciences et Techniques (Bac +8)\n",
      "La FST de Tanger propose une panoplie de formation riches et diversifiées répondant aux divers besoins du monde socio-économique (12 filières LST, 13 filières MST, 4 filières Ingénieurs)\n",
      " \n",
      "Formation continue \n",
      "Les programmes de la formation continue sont destinés aux professionnels qui souhaitent acquérir des nouvelles compétences ou approfondir leurs connaissances dans leur domaine d’activité.\n",
      "Les formations proposées couvrent des programmes variés dans les domaines des sciences et de la technologie tels que :\n",
      "Les sciences de l’ingénierie de l’Informatique- Civil –Mécanique-Electrotechnique – Industrielle et autres.\n",
      " \n",
      "Recherche scientifique\n",
      "La recherche scientifique à la FST de Tanger est structurée autour de \n",
      "7\n",
      " laboratoires, \n",
      "11\n",
      " équipes de recherche, 2 centres (CDI : Centre de Développement et de l’Innovation et le CFA : Centre de Fabrication Additive) et un Observatoire Digital de l’Environnement. Les thématiques de recherches développées par ces structures concernent :\n",
      "L’agro-alimentaire, la biotechnologie, Biologie et santé\n",
      "L’Énergie et l’Efficacité Énergétique\n",
      "L’Eau et l’Environnement\n",
      "Les Matériaux et les Nanomatériaux\n",
      "Les Mathématiques et Informatique\n",
      "Autres\n",
      " \n",
      "Fablab Green Lab \n",
      " \n",
      "Le Green Lab est un FabLab a été créé pour encourager l’innovation, la créativité et l’esprit d’entreprise chez les étudiants et les membres de la communauté locale.\n",
      " \n",
      "Le Green Lab est équipé d’une variété d’outils et de technologies, tels que des imprimantes 3D, des machines de découpe laser, des fraiseuses CNC et des équipements électroniques. Ces outils permettent aux membres du laboratoire de concevoir, prototyper et fabriquer une grande variété de projets, allant de petits gadgets électroniques aux prototypes de produits commerciaux.\n",
      " \n",
      "Le laboratoire est également axé sur la durabilité et l’environnement, avec une forte emphase sur les projets qui utilisent des matériaux recyclés ou respectueux de l’environnement. Les Etudiants du Green Lab travaillent sur des projets qui abordent des problèmes environnementaux tels que la pollution de l’eau, la gestion des déchets, la durabilité des ressources naturelles et l’agriculture urbaine.\n",
      " \n",
      "Le Green Lab est ouvert aux étudiants de tous les départements de la Faculté des Sciences et Techniques de Tanger, ainsi qu’aux membres de la communauté locale qui souhaitent utiliser les installations. Il offre également des ateliers de formation sur les compétences techniques, la conception de produits et l’entrepreneuriat.\n",
      "Les clubs des Etudiants  \n",
      "Les clubs des étudiants peuvent apporter une valeur ajoutée significative à la vie universitaire. Tout d’abord, les clubs offrent une occasion aux étudiants de s’engager dans des activités qui les passionnent et de rencontrer des personnes partageant les mêmes intérêts.\n",
      "De plus, les clubs peuvent aider à renforcer les compétences de leadership et à développer des compétences professionnelles, ce qui peut être bénéfique pour les futurs parcours professionnels des étudiants.\n",
      "Phone: administration.fstt@uae.ac.ma\n",
      "Email: administration.fstt@uae.ac.ma\n"
     ]
    }
   ],
   "source": [
    "# Define the URL and file path\n",
    "url = \"https://fstt.ac.ma/Portail2023/presentation/\"\n",
    "file_path = \"FSTT_DATA.txt\"\n",
    "\n",
    "# Scrape and write the content to the file\n",
    "presentation_Fstt(url, file_path)"
   ],
   "metadata": {
    "collapsed": false,
    "ExecuteTime": {
     "end_time": "2024-05-24T14:04:43.947556Z",
     "start_time": "2024-05-24T14:04:43.477879Z"
    }
   },
   "id": "a47584ce6598c8b9"
  },
  {
   "cell_type": "code",
   "execution_count": 26,
   "outputs": [],
   "source": [
    "def mot_doyen(url, file_path=None):\n",
    "    # Fetch and parse the page\n",
    "    soup = fetch_page(url)\n",
    "    if not soup:\n",
    "        print(f\"Failed to retrieve the page from {url}.\")\n",
    "        return\n",
    "\n",
    "    # Find the specific div containing the paragraph\n",
    "    target_div = soup.find('div', class_='elementor-text-editor elementor-clearfix')\n",
    "\n",
    "    if target_div:\n",
    "        # Extract and clean the text from the target div\n",
    "        text_content = target_div.get_text(separator='\\n').strip()\n",
    "        print(f\"Mot du Doyen:\\n {text_content}\")\n",
    "        \n",
    "        # Write the content to the file if file_path is provided\n",
    "        if file_path:\n",
    "            with open(file_path, 'a', encoding='utf-8') as file:\n",
    "                file.write(text_content + '\\n\\n')\n",
    "    else:\n",
    "        print(\"No matching content found.\")"
   ],
   "metadata": {
    "collapsed": false,
    "ExecuteTime": {
     "end_time": "2024-05-24T14:13:27.380238Z",
     "start_time": "2024-05-24T14:13:27.376699Z"
    }
   },
   "id": "24d06dc26a339184"
  },
  {
   "cell_type": "code",
   "execution_count": 27,
   "outputs": [
    {
     "name": "stdout",
     "output_type": "stream",
     "text": [
      "Mot du Doyen:\n",
      " Le monde d’aujourd’hui connait des évolutions majeures et complexes caractérisées par la globalisation des échanges et l’intensification de la concurrence. Le Maroc n’échappe pas à cette tendance. Il est confronté à des enjeux de développement et de croissance basés essentiellement sur le capital humain. D’où la nécessité, pour le Maroc, de se doter d’un système d’éducation et de formation performant productif de savoir et innovateur afin de produire des compétences et des profils qualifiés, une jeunesse en mesure de répondre au besoin du marché et de prendre en charge tant les entreprises des divers secteurs de l’économie que les organismes investis de missions de service public, de même que les chercheurs et les intellectuels indispensables au développement d’une société du savoir et d’économie.\n",
      "Notre projet de développement de la FST de Tanger est conscient du rôle que doit jouer cette dernière dans le développement socio-économique régional et national où elle ne doit plus se contenter d’assurer seulement ses missions classiques de formations générales scientifiques et techniques. Elle doit aussi étendre son rôle à l’éducation citoyenne par la formation de nouvelles générations de cadre, conscients de leurs responsabilités en tant que vecteurs de développement social et économique du Royaume, et entièrement acquis aux valeurs sacrées de notre pays et aux valeurs universelles humaines de droiture, d’intégrité, d’ouverture, de tolérance…\n",
      "Partant des orientations du Nouveau Modèle de Développement, de la stratégie nationale 2015-2030 et du projet de développement de l’université, notre ambition pour cet établissement est d’en faire une institution attractive, performante, citoyenne et une locomotive du développement socio-économique de la région Tanger Tétouan Al Hoceima.\n",
      "Concrètement notre projet de développement de l’établissement a pour objectifs principaux :\n",
      "– Développer une offre de formation innovante, diversifiée et qui répond aux attentes des étudiants et aux besoins du secteur socio-économique.\n",
      "– Développer une recherche scientifique d’excellence alignée sur les thématiques prioritaires de développement économique, ancrée dans son territoire et ouverte à l’internationale.\n",
      "– Améliorer la gouvernance de l’établissement.\n",
      "– Développer la digitalisation des différentes activités de l’établissement (enseignement, recherche et gestion administrative).\n",
      "– Améliorer les conditions d’accueil, d’intégration, et d’accompagnement des étudiants\n",
      "– Développer davantage la mobilité internationale des étudiants et du personnel académique et administratif.\n",
      "– Améliorer l’employabilité des lauréats.\n",
      "Enfin, la FST de Tanger, mérite toute notre engagement et nous mettrons toute notre énergie, notre expérience, notre volonté d’agir et notre temps à son service, pour qu’elle soit un établissement d’excellence ouvert sur son environnement socio-économique et visible à l’échelle nationale et internationale.\n"
     ]
    }
   ],
   "source": [
    "# Define the URL\n",
    "url = \"https://fstt.ac.ma/Portail2023/mot-du-doyen/\"\n",
    "\n",
    "# Call the function with or without file_path to save the content\n",
    "mot_doyen(url)"
   ],
   "metadata": {
    "collapsed": false,
    "ExecuteTime": {
     "end_time": "2024-05-24T14:13:28.647078Z",
     "start_time": "2024-05-24T14:13:27.986593Z"
    }
   },
   "id": "cd3f7ace2c272837"
  },
  {
   "cell_type": "code",
   "execution_count": 28,
   "outputs": [
    {
     "name": "stdout",
     "output_type": "stream",
     "text": [
      "Mot du Doyen:\n",
      " Le monde d’aujourd’hui connait des évolutions majeures et complexes caractérisées par la globalisation des échanges et l’intensification de la concurrence. Le Maroc n’échappe pas à cette tendance. Il est confronté à des enjeux de développement et de croissance basés essentiellement sur le capital humain. D’où la nécessité, pour le Maroc, de se doter d’un système d’éducation et de formation performant productif de savoir et innovateur afin de produire des compétences et des profils qualifiés, une jeunesse en mesure de répondre au besoin du marché et de prendre en charge tant les entreprises des divers secteurs de l’économie que les organismes investis de missions de service public, de même que les chercheurs et les intellectuels indispensables au développement d’une société du savoir et d’économie.\n",
      "Notre projet de développement de la FST de Tanger est conscient du rôle que doit jouer cette dernière dans le développement socio-économique régional et national où elle ne doit plus se contenter d’assurer seulement ses missions classiques de formations générales scientifiques et techniques. Elle doit aussi étendre son rôle à l’éducation citoyenne par la formation de nouvelles générations de cadre, conscients de leurs responsabilités en tant que vecteurs de développement social et économique du Royaume, et entièrement acquis aux valeurs sacrées de notre pays et aux valeurs universelles humaines de droiture, d’intégrité, d’ouverture, de tolérance…\n",
      "Partant des orientations du Nouveau Modèle de Développement, de la stratégie nationale 2015-2030 et du projet de développement de l’université, notre ambition pour cet établissement est d’en faire une institution attractive, performante, citoyenne et une locomotive du développement socio-économique de la région Tanger Tétouan Al Hoceima.\n",
      "Concrètement notre projet de développement de l’établissement a pour objectifs principaux :\n",
      "– Développer une offre de formation innovante, diversifiée et qui répond aux attentes des étudiants et aux besoins du secteur socio-économique.\n",
      "– Développer une recherche scientifique d’excellence alignée sur les thématiques prioritaires de développement économique, ancrée dans son territoire et ouverte à l’internationale.\n",
      "– Améliorer la gouvernance de l’établissement.\n",
      "– Développer la digitalisation des différentes activités de l’établissement (enseignement, recherche et gestion administrative).\n",
      "– Améliorer les conditions d’accueil, d’intégration, et d’accompagnement des étudiants\n",
      "– Développer davantage la mobilité internationale des étudiants et du personnel académique et administratif.\n",
      "– Améliorer l’employabilité des lauréats.\n",
      "Enfin, la FST de Tanger, mérite toute notre engagement et nous mettrons toute notre énergie, notre expérience, notre volonté d’agir et notre temps à son service, pour qu’elle soit un établissement d’excellence ouvert sur son environnement socio-économique et visible à l’échelle nationale et internationale.\n"
     ]
    }
   ],
   "source": [
    "mot_doyen(url, \"FSTT_DATA.txt\")"
   ],
   "metadata": {
    "collapsed": false,
    "ExecuteTime": {
     "end_time": "2024-05-24T14:13:37.379868Z",
     "start_time": "2024-05-24T14:13:36.622997Z"
    }
   },
   "id": "4192189f41516e65"
  },
  {
   "cell_type": "code",
   "execution_count": 49,
   "outputs": [],
   "source": [
    "def conseil_etablissement(url, file_path=None):\n",
    "    # Fetch and parse the page\n",
    "    soup = fetch_page(url)\n",
    "    if not soup:\n",
    "        print(f\"Failed to retrieve the page from {url}.\")\n",
    "        return\n",
    "\n",
    "    # Extract the paragraph\n",
    "    target_div = soup.find('div', class_='elementor-text-editor elementor-clearfix')\n",
    "    if target_div:\n",
    "        paragraph_text = target_div.get_text(separator='\\n').strip()\n",
    "        print(\"Conseil de l’établissement:\")\n",
    "        print(paragraph_text)\n",
    "    else:\n",
    "        print(\"No paragraph content found.\")\n",
    "        return\n",
    "\n",
    "    # Extract the table\n",
    "    table = soup.find('table', class_='tablesorter eael-data-table center')\n",
    "    if table:\n",
    "        table_data = []\n",
    "        headers = [header.get_text(strip=True) for header in table.find_all('th')]\n",
    "        rows = table.find_all('tr')\n",
    "        for row in rows[1:]:  # Skip header row\n",
    "            cols = row.find_all('td')\n",
    "            cols = [ele.get_text(strip=True) for ele in cols]\n",
    "            if len(cols) == 2:\n",
    "                table_data.append(f\"{cols[0]} : {cols[1]}\")\n",
    "        \n",
    "        print(\"\\n\")\n",
    "        for row in table_data:\n",
    "            print(row)\n",
    "    else:\n",
    "        print(\"No table content found.\")\n",
    "        return\n",
    "\n",
    "    # Write the content to the file if file_path is provided\n",
    "    if file_path:\n",
    "        with open(file_path, 'a', encoding='utf-8') as file:\n",
    "            if paragraph_text:\n",
    "                file.write(\"Conseil de l’établissement:\\n\")\n",
    "                file.write(paragraph_text + '\\n\\n')\n",
    "            if table_data:\n",
    "                for row in table_data:\n",
    "                    file.write(row + '\\n')"
   ],
   "metadata": {
    "collapsed": false,
    "ExecuteTime": {
     "end_time": "2024-05-24T14:39:32.577833Z",
     "start_time": "2024-05-24T14:39:32.568890Z"
    }
   },
   "id": "78354cfcd40ae772"
  },
  {
   "cell_type": "code",
   "execution_count": 50,
   "outputs": [
    {
     "name": "stdout",
     "output_type": "stream",
     "text": [
      "Conseil de l’établissement:\n",
      "La Faculté est gérée par un conseil d’établissement présidé par le Doyen. Le conseil de l’établissement comprend des membres de droit, des représentants élus des personnels enseignants et des personnels administratifs et techniques, des représentants élus des étudiants, ainsi que des membres désignés parmi des personnalités extérieures.\n",
      "\n",
      "\n",
      "DIANI Mustapha : Doyen\n",
      "JBILOU Mohammed : Vice Doyen de la Formation\n",
      "OUARDOUZ Mustapha : Vice Doyen de la Recherche et de la coopération\n",
      "BIHRI Hassan : SG chargé du secrétariat du conseil\n",
      "AJDOUR Mounia : Chef du département de Physique\n",
      "CHABBI Mohamed : Chef du département de Génie Chimique\n",
      "EL HALIMI Rachid : Chef du département des Mathématiques\n",
      "EL BRAK Mohamed : Chef du département de Génie Informatique\n",
      "BOULAASSAL Hakim : Chef du département des Sciences de la Terre\n",
      "HADJ BARAKA Ibrahim : Chef du département de Génie Électrique\n",
      "ELAYACHI Ilham : Chef du département de Génie Mécanique\n",
      "OUCHEN Mohamed : Chef du département de Langue et Communication\n",
      "HASSANI ZERROUK Mounir : Chef du département des Sciences de la Vie\n",
      "AOUNI Abdesamad : Représentant des P.E.S\n",
      "BOUASSAB Abderrahman : Représentant des P.E.S\n",
      "EL METOUI Mustapha : Représentant des P.E.S\n",
      "EN-NAIMI El Mokhtar : Représentant des P.E.S\n",
      "DERFOUFI Soufiane : Représentant des P.H\n",
      "EL MERZGUIOUI Mhamed : Représentant des P.H\n",
      "JEBARI HASSANI Khalid : Représentant des P.H\n",
      "ZANOUNI Mohamed : Représentant des P.H\n",
      "BOUAYAD Nouredin : Représentant des P.A\n",
      "BOUZID Saida : Représentant des P.A\n",
      "FIKRI BENBRAHIM Chahinaze : Représentant des P.A\n",
      "KHALI ISSA  Sanae : Représentant des P.A\n",
      "EL MAMOUN Abdellah : Représentant  des Personnels Administratifs et Techniques\n",
      "MAAREF  Abdelkader : Représentant  des Personnels Administratifs et Techniques\n",
      "EZ-ZHAR EL IDRISSI Mohammed Yassine : Représentant des étudiants\n",
      "JAYED Youssef : Représentant des étudiants\n"
     ]
    }
   ],
   "source": [
    "url = \"https://fstt.ac.ma/Portail2023/conseil-de-letablissement/\"\n",
    "\n",
    "# Call the function with or without file_path to save the content\n",
    "conseil_etablissement(url)"
   ],
   "metadata": {
    "collapsed": false,
    "ExecuteTime": {
     "end_time": "2024-05-24T14:39:37.094824Z",
     "start_time": "2024-05-24T14:39:36.611362Z"
    }
   },
   "id": "df18119b84ae91f3"
  },
  {
   "cell_type": "code",
   "execution_count": 39,
   "outputs": [
    {
     "name": "stdout",
     "output_type": "stream",
     "text": [
      "Conseil de l’établissement:\n",
      "La Faculté est gérée par un conseil d’établissement présidé par le Doyen. Le conseil de l’établissement comprend des membres de droit, des représentants élus des personnels enseignants et des personnels administratifs et techniques, des représentants élus des étudiants, ainsi que des membres désignés parmi des personnalités extérieures.\n",
      "\n",
      "\n",
      "DIANI Mustapha : Doyen\n",
      "JBILOU Mohammed : Vice Doyen de la Formation\n",
      "OUARDOUZ Mustapha : Vice Doyen de la Recherche et de la coopération\n",
      "BIHRI Hassan : SG chargé du secrétariat du conseil\n",
      "AJDOUR Mounia : Chef du département de Physique\n",
      "CHABBI Mohamed : Chef du département de Génie Chimique\n",
      "EL HALIMI Rachid : Chef du département des Mathématiques\n",
      "EL BRAK Mohamed : Chef du département de Génie Informatique\n",
      "BOULAASSAL Hakim : Chef du département des Sciences de la Terre\n",
      "HADJ BARAKA Ibrahim : Chef du département de Génie Électrique\n",
      "ELAYACHI Ilham : Chef du département de Génie Mécanique\n",
      "OUCHEN Mohamed : Chef du département de Langue et Communication\n",
      "HASSANI ZERROUK Mounir : Chef du département des Sciences de la Vie\n",
      "AOUNI Abdesamad : Représentant des P.E.S\n",
      "BOUASSAB Abderrahman : Représentant des P.E.S\n",
      "EL METOUI Mustapha : Représentant des P.E.S\n",
      "EN-NAIMI El Mokhtar : Représentant des P.E.S\n",
      "DERFOUFI Soufiane : Représentant des P.H\n",
      "EL MERZGUIOUI Mhamed : Représentant des P.H\n",
      "JEBARI HASSANI Khalid : Représentant des P.H\n",
      "ZANOUNI Mohamed : Représentant des P.H\n",
      "BOUAYAD Nouredin : Représentant des P.A\n",
      "BOUZID Saida : Représentant des P.A\n",
      "FIKRI BENBRAHIM Chahinaze : Représentant des P.A\n",
      "KHALI ISSA  Sanae : Représentant des P.A\n",
      "EL MAMOUN Abdellah : Représentant  des Personnels Administratifs et Techniques\n",
      "MAAREF  Abdelkader : Représentant  des Personnels Administratifs et Techniques\n",
      "EZ-ZHAR EL IDRISSI Mohammed Yassine : Représentant des étudiants\n",
      "JAYED Youssef : Représentant des étudiants\n"
     ]
    }
   ],
   "source": [
    "conseil_etablissement(url, \"FSTT_DATA.txt\")"
   ],
   "metadata": {
    "collapsed": false,
    "ExecuteTime": {
     "end_time": "2024-05-24T14:28:34.476458Z",
     "start_time": "2024-05-24T14:28:33.955491Z"
    }
   },
   "id": "e4c8557fd036f63b"
  },
  {
   "cell_type": "code",
   "execution_count": 56,
   "outputs": [],
   "source": [
    "def departement(url, file_path=None):\n",
    "    # Fetch and parse the page\n",
    "    soup = fetch_page(url)\n",
    "    if not soup:\n",
    "        print(f\"Failed to retrieve the page from {url}.\")\n",
    "        return\n",
    "\n",
    "    # Extract the div elements with the class 'elementor-cta__content'\n",
    "    content_divs = soup.find_all('div', class_='elementor-cta__content')\n",
    "    if not content_divs:\n",
    "        print(\"No content found.\")\n",
    "        return\n",
    "\n",
    "    # Prepare the data for saving\n",
    "    data_lines = []\n",
    "    for div in content_divs:\n",
    "        department = div.find('h3', class_='elementor-cta__title').get_text(strip=True)\n",
    "        chef_info = div.find('div', class_='elementor-cta__description').get_text(separator='\\n', strip=True)\n",
    "        \n",
    "        # Split the chef_info into individual lines\n",
    "        chef_lines = chef_info.split('\\n')\n",
    "        \n",
    "        # Construct the department information\n",
    "        dept_info = f\"departement : {department}\"\n",
    "        chef_dept = chef_lines[0]\n",
    "        \n",
    "        # Extract email address\n",
    "        email = ''\n",
    "        for line in chef_lines:\n",
    "            if '@' in line:\n",
    "                email = line.strip()\n",
    "                break\n",
    "        \n",
    "        # Append the formatted information\n",
    "        data_lines.append(dept_info)\n",
    "        data_lines.append(f\"Chef {chef_dept}\")\n",
    "        data_lines.append(f\"Email {email}\")\n",
    "\n",
    "    # If file_path is not provided, print the data\n",
    "    if file_path is None:\n",
    "        for line in data_lines:\n",
    "            print(line)\n",
    "        return\n",
    "\n",
    "    # Write the content to the file\n",
    "    with open(file_path, 'a', encoding='utf-8') as file:\n",
    "        for line in data_lines:\n",
    "            file.write(line + '\\n')\n",
    "        print(f\"Data saved to {file_path}\")\n"
   ],
   "metadata": {
    "collapsed": false,
    "ExecuteTime": {
     "end_time": "2024-05-24T14:41:58.007131Z",
     "start_time": "2024-05-24T14:41:57.981070Z"
    }
   },
   "id": "ea891375bf545232"
  },
  {
   "cell_type": "code",
   "execution_count": 57,
   "outputs": [
    {
     "name": "stdout",
     "output_type": "stream",
     "text": [
      "departement : GÉNIE INFORMATIQUE\n",
      "Chef Chef : Pr.EL BRAK Mohamed\n",
      "Email melbrak@uae.ac.ma\n",
      "departement : GÉNIE CHIMIQUE\n",
      "Chef Chef : Pr.CHABBI Mohamed\n",
      "Email mchabbi@uae.ac.ma\n",
      "departement : SCIENCES DE LA TERRE\n",
      "Chef Chef : Pr.BOULAASSAL Hakim\n",
      "Email h.boulaassal@uae.ac.ma\n",
      "departement : GÉNIE MÉCANIQUE\n",
      "Chef Chef : Pr.ELAYACHI Ilham\n",
      "Email i.elayachi@uae.ac.ma\n",
      "departement : SCIENCES DE LA VIE\n",
      "Chef Chef : Pr.HASSANI ZERROUK Mounir\n",
      "Email : mhassani@uae.ac.ma\n",
      "departement : GÉNIE ELECTRIQUE\n",
      "Chef Chef : Pr.HADJ BARAKA Ibrahim\n",
      "Email ihadjbaraka@uae.ac.ma\n",
      "departement : TEC\n",
      "Chef Chef : Pr.OUCHEN MOHAMED\n",
      "Email mouchen@uae.ac.ma\n",
      "departement : PHYSIQUE\n",
      "Chef Chef  : Pr.AJDOUR Mounia\n",
      "Email majdour@uae.ac.ma\n",
      "departement : MATHÉMATIQUES\n",
      "Chef Chef : Pr.EL HALIMI RACHID\n",
      "Email r.elhalimi@uae.ac.ma\n"
     ]
    }
   ],
   "source": [
    "# Define the URL\n",
    "url = \"https://fstt.ac.ma/Portail2023/les-departement/\"\n",
    "\n",
    "# Call the function to save the content to a file\n",
    "departement(url)"
   ],
   "metadata": {
    "collapsed": false,
    "ExecuteTime": {
     "end_time": "2024-05-24T14:41:59.031323Z",
     "start_time": "2024-05-24T14:41:58.538670Z"
    }
   },
   "id": "e41a7ea3a6f1fd06"
  },
  {
   "cell_type": "code",
   "execution_count": 58,
   "outputs": [
    {
     "name": "stdout",
     "output_type": "stream",
     "text": [
      "Data saved to FSTT_DATA.txt\n"
     ]
    }
   ],
   "source": [
    "departement(url,\"FSTT_DATA.txt\")"
   ],
   "metadata": {
    "collapsed": false,
    "ExecuteTime": {
     "end_time": "2024-05-24T14:42:00.437076Z",
     "start_time": "2024-05-24T14:41:59.832644Z"
    }
   },
   "id": "d0005650bd773526"
  },
  {
   "cell_type": "markdown",
   "source": [
    "# as a JSON file"
   ],
   "metadata": {
    "collapsed": false
   },
   "id": "c4453b38dd7e11c9"
  },
  {
   "cell_type": "code",
   "execution_count": 59,
   "outputs": [],
   "source": [
    "import json\n",
    "def presentation_Fstt(url):\n",
    "    soup = fetch_page(url)\n",
    "    if not soup:\n",
    "        return {}\n",
    "\n",
    "    presentation_data = {}\n",
    "    content = []\n",
    "\n",
    "    target_div = soup.find('div', class_='elementor-text-editor elementor-clearfix')\n",
    "    if target_div:\n",
    "        text_content = target_div.get_text(separator='\\n').strip()\n",
    "        content.append({\"PRESENTATION DE LA FST DE TANGER & DIAGNOSIQUE\": text_content})\n",
    "\n",
    "    # Collecting other sections\n",
    "    sections = [\n",
    "        \"Formation Initiale\",\n",
    "        \"Formation continue\",\n",
    "        \"Recherche scientifique\",\n",
    "        \"Fablab Green Lab\",\n",
    "        \"Les clubs des Etudiants\"\n",
    "    ]\n",
    "\n",
    "    for section in sections:\n",
    "        section_div = soup.find('div', id=f'{section.lower().replace(\" \", \"-\")}-tab')\n",
    "        if section_div:\n",
    "            text_content = section_div.get_text(separator='\\n').strip()\n",
    "            content.append({section: text_content})\n",
    "\n",
    "    presentation_data[\"presentation FSTT\"] = content\n",
    "\n",
    "    contact_div = soup.find('div', class_='elementor-widget-container')\n",
    "    if contact_div:\n",
    "        phone_span = contact_div.find('span', class_='elementor-icon-list-icon').find_next('span', class_='elementor-icon-list-text')\n",
    "        email_span = contact_div.find('span', class_='elementor-icon-list-icon').find_next('span', class_='elementor-icon-list-text')\n",
    "        \n",
    "        phone = phone_span.get_text(strip=True) if phone_span else \"Phone number not found.\"\n",
    "        email = email_span.get_text(strip=True) if email_span else \"Email not found.\"\n",
    "\n",
    "        presentation_data[\"Contact\"] = {\n",
    "            \"Phone\": phone,\n",
    "            \"Email\": email\n",
    "        }\n",
    "    \n",
    "    return presentation_data\n",
    "\n",
    "def mot_doyen(url):\n",
    "    soup = fetch_page(url)\n",
    "    if not soup:\n",
    "        return {}\n",
    "\n",
    "    target_div = soup.find('div', class_='elementor-text-editor elementor-clearfix')\n",
    "    if target_div:\n",
    "        text_content = target_div.get_text(separator='\\n').strip()\n",
    "        return {\"mot_doyen\": text_content}\n",
    "    else:\n",
    "        return {}\n",
    "\n",
    "def conseil_etablissement(url):\n",
    "    soup = fetch_page(url)\n",
    "    if not soup:\n",
    "        return {}\n",
    "\n",
    "    conseil_data = {}\n",
    "\n",
    "    target_div = soup.find('div', class_='elementor-text-editor elementor-clearfix')\n",
    "    if target_div:\n",
    "        paragraph_text = target_div.get_text(separator='\\n').strip()\n",
    "        conseil_data[\"Conseil de l’établissement\"] = paragraph_text\n",
    "\n",
    "    table = soup.find('table', class_='tablesorter eael-data-table center')\n",
    "    if table:\n",
    "        table_data = {}\n",
    "        rows = table.find_all('tr')\n",
    "        for row in rows[1:]:  # Skip header row\n",
    "            cols = row.find_all('td')\n",
    "            cols = [ele.get_text(strip=True) for ele in cols]\n",
    "            if len(cols) == 2:\n",
    "                table_data[cols[0]] = cols[1]\n",
    "        conseil_data[\"Conseil de l’établissement Members\"] = table_data\n",
    "\n",
    "    return conseil_data\n",
    "\n",
    "def departement(url):\n",
    "    soup = fetch_page(url)\n",
    "    if not soup:\n",
    "        return {}\n",
    "\n",
    "    department_data = {}\n",
    "\n",
    "    content_divs = soup.find_all('div', class_='elementor-cta__content')\n",
    "    if not content_divs:\n",
    "        return {}\n",
    "\n",
    "    for div in content_divs:\n",
    "        department = div.find('h3', class_='elementor-cta__title').get_text(strip=True)\n",
    "        chef_info = div.find('div', class_='elementor-cta__description').get_text(separator='\\n', strip=True)\n",
    "        chef_lines = chef_info.split('\\n')\n",
    "        chef_dept = chef_lines[0]\n",
    "        email = next((line.strip() for line in chef_lines if '@' in line), '')\n",
    "\n",
    "        department_data[department] = {\n",
    "            \"Chef\": chef_dept,\n",
    "            \"Email\": email\n",
    "        }\n",
    "\n",
    "    return {\"departement\": department_data}\n",
    "\n",
    "def save_as_json(data, file_path):\n",
    "    with open(file_path, 'w', encoding='utf-8') as file:\n",
    "        json.dump(data, file, ensure_ascii=False, indent=4)\n",
    "\n",
    "# URLs\n",
    "presentation_url = \"https://fstt.ac.ma/Portail2023/presentation/\"\n",
    "mot_doyen_url = \"https://fstt.ac.ma/Portail2023/mot-du-doyen/\"\n",
    "conseil_etablissement_url = \"https://fstt.ac.ma/Portail2023/conseil-de-letablissement/\"\n",
    "departement_url = \"https://fstt.ac.ma/Portail2023/les-departement/\"\n",
    "\n",
    "# Collecting data\n",
    "data = {\n",
    "    \"FSTT\": {\n",
    "        **presentation_Fstt(presentation_url),\n",
    "        **mot_doyen(mot_doyen_url),\n",
    "        **conseil_etablissement(conseil_etablissement_url),\n",
    "        **departement(departement_url)\n",
    "    }\n",
    "}\n",
    "\n",
    "# Saving data to a JSON file\n",
    "save_as_json(data, \"FSTT_DATA.json\")"
   ],
   "metadata": {
    "collapsed": false,
    "ExecuteTime": {
     "end_time": "2024-05-25T10:40:33.347372Z",
     "start_time": "2024-05-25T10:40:31.176058Z"
    }
   },
   "id": "b6992caff457ddf2"
  },
  {
   "cell_type": "code",
   "execution_count": null,
   "outputs": [],
   "source": [],
   "metadata": {
    "collapsed": false
   },
   "id": "8201386d66c7acf3"
  }
 ],
 "metadata": {
  "kernelspec": {
   "display_name": "Python 3",
   "language": "python",
   "name": "python3"
  },
  "language_info": {
   "codemirror_mode": {
    "name": "ipython",
    "version": 2
   },
   "file_extension": ".py",
   "mimetype": "text/x-python",
   "name": "python",
   "nbconvert_exporter": "python",
   "pygments_lexer": "ipython2",
   "version": "2.7.6"
  }
 },
 "nbformat": 4,
 "nbformat_minor": 5
}
