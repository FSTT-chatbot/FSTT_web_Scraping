{
 "cells": [
  {
   "cell_type": "markdown",
   "source": [
    "<h1 style=\"text-align:center; font-size:200%;\">FSTT Web Scraping</h1>"
   ],
   "metadata": {
    "collapsed": false
   },
   "id": "161f5f4752596a36"
  },
  {
   "cell_type": "markdown",
   "source": [
    "\n",
    "\n",
    "### 1.**Formation FSTT**\n",
    "\n",
    "\n"
   ],
   "metadata": {
    "collapsed": false
   },
   "id": "74b5486a9174e5bc"
  },
  {
   "cell_type": "code",
   "execution_count": 1,
   "outputs": [],
   "source": [
    "import requests\n",
    "from bs4 import BeautifulSoup"
   ],
   "metadata": {
    "collapsed": false,
    "ExecuteTime": {
     "end_time": "2024-04-19T22:17:23.263175Z",
     "start_time": "2024-04-19T22:17:23.109488Z"
    }
   },
   "id": "b058c2db5c9876ce"
  },
  {
   "cell_type": "code",
   "execution_count": 2,
   "outputs": [],
   "source": [
    "def title():\n",
    "    page = requests.get(\"https://fstt.ac.ma/Portail2023/formation-initiale/\")\n",
    "    src = page.content\n",
    "    soup = BeautifulSoup(src, 'html.parser')\n",
    "    titles = soup.find('h2', class_='elementor-heading-title elementor-size-default')\n",
    "    if titles:\n",
    "        title = titles.text.strip()\n",
    "        print(title)\n",
    "    else:\n",
    "        return None"
   ],
   "metadata": {
    "collapsed": false,
    "ExecuteTime": {
     "end_time": "2024-04-19T22:17:24.145187Z",
     "start_time": "2024-04-19T22:17:24.136948Z"
    }
   },
   "id": "be2d0eb25b75b9ce"
  },
  {
   "cell_type": "code",
   "execution_count": 3,
   "outputs": [
    {
     "name": "stdout",
     "output_type": "stream",
     "text": [
      "FORMATION INITIALE\n"
     ]
    }
   ],
   "source": [
    "title()"
   ],
   "metadata": {
    "collapsed": false,
    "ExecuteTime": {
     "end_time": "2024-04-19T22:17:26.427354Z",
     "start_time": "2024-04-19T22:17:24.993624Z"
    }
   },
   "id": "a94caa08dac65393"
  },
  {
   "cell_type": "code",
   "execution_count": 4,
   "outputs": [],
   "source": [
    "def get_deust_formations():\n",
    "    page = requests.get(\"https://fstt.ac.ma/Portail2023/deust/\")\n",
    "    src = page.content\n",
    "    soup = BeautifulSoup(src, 'html.parser')\n",
    "    deust_formations = soup.find_all(\"h4\", {'class': 'elementor-heading-title elementor-size-default'})\n",
    "    return [formation.text.strip() for formation in deust_formations]"
   ],
   "metadata": {
    "collapsed": false,
    "ExecuteTime": {
     "end_time": "2024-04-19T22:17:30.563350Z",
     "start_time": "2024-04-19T22:17:30.549879Z"
    }
   },
   "id": "911428fe3b65878f"
  },
  {
   "cell_type": "code",
   "execution_count": 5,
   "outputs": [],
   "source": [
    "def get_licence_formations():\n",
    "    page = requests.get(\"https://fstt.ac.ma/Portail2023/cycle-licence/\")\n",
    "    src = page.content\n",
    "    soup = BeautifulSoup(src, 'html.parser')\n",
    "    licence_formations = soup.find_all(\"h4\", {'class': 'elementor-heading-title elementor-size-default'})\n",
    "    return [formation.text.strip() for formation in licence_formations]"
   ],
   "metadata": {
    "collapsed": false,
    "ExecuteTime": {
     "end_time": "2024-04-19T22:17:31.386886Z",
     "start_time": "2024-04-19T22:17:31.382481Z"
    }
   },
   "id": "ec10361904966923"
  },
  {
   "cell_type": "code",
   "execution_count": 6,
   "outputs": [],
   "source": [
    "def get_master_formations():\n",
    "    page = requests.get(\"https://fstt.ac.ma/Portail2023/cycle-master/\")\n",
    "    src = page.content\n",
    "    soup = BeautifulSoup(src, 'html.parser')\n",
    "    master_formations = soup.find_all(\"span\", {'class': 'elementor-icon-list-text'})\n",
    "    filtered_formations = [formation.text.strip()[len(\"MST : \"):] for formation in master_formations if formation.text.strip().startswith(\"MST : \")]\n",
    "    return filtered_formations"
   ],
   "metadata": {
    "collapsed": false,
    "ExecuteTime": {
     "end_time": "2024-04-19T22:17:32.476408Z",
     "start_time": "2024-04-19T22:17:32.467181Z"
    }
   },
   "id": "dd014f9eb380f320"
  },
  {
   "cell_type": "code",
   "execution_count": 7,
   "outputs": [],
   "source": [
    "def get_cycle_formations():\n",
    "    page = requests.get(\"https://fstt.ac.ma/Portail2023/cycle-ingenieur/\")\n",
    "    src = page.content\n",
    "    soup = BeautifulSoup(src, 'html.parser')\n",
    "    cycle_formations = soup.find_all(\"span\", {'class': 'elementor-icon-list-text'})\n",
    "    filtered_formations = [formation.text.strip() for formation in cycle_formations if formation.text.strip().startswith(\"DI: \") or \"Logiciels et Systèmes Intelligents\" in formation.text.strip()]\n",
    "    return filtered_formations"
   ],
   "metadata": {
    "collapsed": false,
    "ExecuteTime": {
     "end_time": "2024-04-19T22:17:33.344899Z",
     "start_time": "2024-04-19T22:17:33.337849Z"
    }
   },
   "id": "96d24e606174631c"
  },
  {
   "cell_type": "code",
   "execution_count": 8,
   "outputs": [],
   "source": [
    "# Obtenir les formations de chaque type\n",
    "deust_formations = get_deust_formations()\n",
    "licence_formations = get_licence_formations()\n",
    "master_formations = get_master_formations()\n",
    "cycle_formations = get_cycle_formations()"
   ],
   "metadata": {
    "collapsed": false,
    "ExecuteTime": {
     "end_time": "2024-04-19T22:17:35.972129Z",
     "start_time": "2024-04-19T22:17:34.082365Z"
    }
   },
   "id": "450a5d3b32070cd4"
  },
  {
   "cell_type": "code",
   "execution_count": 9,
   "outputs": [
    {
     "name": "stdout",
     "output_type": "stream",
     "text": [
      "Formations DEUST:\n",
      "\n",
      "BIOLOGIE-CHIMIE-GEOLOGIE\n",
      "GÉNIE ELECTRIQUE – GÉNIE MÉCANIQUE\n",
      "MATHÉMATIQUES-INFORMATIQUE-PHYSIQUE\n",
      "MATHÉMATIQUES-INFORMATIQUE-PHYSIQUE-CHIMIE\n",
      "\n",
      "Formations Licence:\n",
      "\n",
      "Analytique des données\n",
      "Biotechnologies (Options : animale et végétale)\n",
      "Design Industriel et Productique (DIP)\n",
      "Énergies Renouvelables (EnR)\n",
      "Génie civil\n",
      "Génie des Procédés\n",
      "Génie Électrique Option: Génie\n",
      "Électrique & Système Industriel\n",
      "Génie Industriel\n",
      "Génie Informatique\n",
      "Géosciences Appliquées\n",
      "Ingénierie de Développement d’Applications\n",
      "Informatiques\n",
      "Ingénierie Statistique\n",
      "Mathématiques et Applications\n",
      "Mathématiques et Informatique Décisionnelles\n",
      "Risques et Ressources Naturels\n",
      "Statistique et Science des Données\n",
      "Techniques d'Analyses Chimiques (TAC)\n",
      "\n",
      "Formations Master:\n",
      "\n",
      "Analyse Appliquée et Ingénierie Statistique\n",
      "Bases Cellulaires et Moléculaires en Biotechnologie\n",
      "Environnement, Aquaculture et Développement Durable\n",
      "Géoressources Energétiques et Réservoirs\n",
      "Génie Civil\n",
      "Génie des Matériaux pour Plasturgie et Métallurgie\n",
      "Génie Energétique\n",
      "Ingénierie Environnementale, Changement Climatique et Développement Durable\n",
      "Intelligence Artificielle et Sciences de Données\n",
      "Mobiquité et Big Data\n",
      "Modélisation Mathématique et Science de Données\n",
      " Sciences Agroalimentaires\n",
      "Sciences de l'Environnement\n",
      "Sciences du Littoral: Approche Pluridisciplinaire\n",
      "Sécurité IT et Big Data\n",
      "Systèmes Informatiques  et Mobiles\n",
      "\n",
      "Formations Cycle:\n",
      "\n",
      "DI: Génie Electrique et Management Industriel\n",
      "DI: Génie Industriel\n",
      "DI: Géoinformation\n",
      "Logiciels et Systèmes Intelligents\n"
     ]
    }
   ],
   "source": [
    "# Afficher les résultats\n",
    "print(\"Formations DEUST:\\n\")\n",
    "for formation in deust_formations:\n",
    "    print(formation)\n",
    "\n",
    "print(\"\\nFormations Licence:\\n\")\n",
    "for formation in licence_formations:\n",
    "    print(formation)\n",
    "\n",
    "print(\"\\nFormations Master:\\n\")\n",
    "for formation in master_formations:\n",
    "    print(formation)\n",
    "\n",
    "print(\"\\nFormations Cycle:\\n\")\n",
    "for formation in cycle_formations:\n",
    "    print(formation)\n"
   ],
   "metadata": {
    "collapsed": false,
    "ExecuteTime": {
     "end_time": "2024-04-19T22:17:38.150113Z",
     "start_time": "2024-04-19T22:17:38.139536Z"
    }
   },
   "id": "55b15ea1a89d005a"
  },
  {
   "cell_type": "code",
   "execution_count": null,
   "outputs": [],
   "source": [],
   "metadata": {
    "collapsed": false
   },
   "id": "209be1643f59ef38"
  }
 ],
 "metadata": {
  "kernelspec": {
   "display_name": "Python 3",
   "language": "python",
   "name": "python3"
  },
  "language_info": {
   "codemirror_mode": {
    "name": "ipython",
    "version": 2
   },
   "file_extension": ".py",
   "mimetype": "text/x-python",
   "name": "python",
   "nbconvert_exporter": "python",
   "pygments_lexer": "ipython2",
   "version": "2.7.6"
  }
 },
 "nbformat": 4,
 "nbformat_minor": 5
}
